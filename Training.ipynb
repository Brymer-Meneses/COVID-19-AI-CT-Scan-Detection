{
  "nbformat": 4,
  "nbformat_minor": 0,
  "metadata": {
    "colab": {
      "name": "Training-v1.ipynb",
      "provenance": [],
      "toc_visible": true,
      "mount_file_id": "https://github.com/xBrymer/COVID19-AI-CT-Scan-Detection/blob/master/Training.ipynb",
      "authorship_tag": "ABX9TyOfHnrCa7RrpTbVLhXvJFkJ",
      "include_colab_link": true
    },
    "kernelspec": {
      "name": "python3",
      "display_name": "Python 3"
    },
    "accelerator": "GPU"
  },
  "cells": [
    {
      "cell_type": "markdown",
      "metadata": {
        "id": "view-in-github",
        "colab_type": "text"
      },
      "source": [
        "<a href=\"https://colab.research.google.com/github/Brymer-Meneses/COVID19-AI-CT-Scan-Detection/blob/master/Training.ipynb\" target=\"_parent\"><img src=\"https://colab.research.google.com/assets/colab-badge.svg\" alt=\"Open In Colab\"/></a>"
      ]
    },
    {
      "cell_type": "code",
      "metadata": {
        "id": "6caUKM4SkitA",
        "colab_type": "code",
        "colab": {}
      },
      "source": [
        "import tensorflow as tf \n",
        "import tensorflow_hub as hub\n",
        "\n",
        "import os \n",
        "import shutil\n",
        "from zipfile import ZipFile\n",
        "from tqdm.notebook import tqdm\n",
        "\n",
        "from tensorflow.keras.models import load_model, save_model, Sequential\n",
        "from tensorflow.keras.preprocessing.image import ImageDataGenerator\n",
        "from tensorflow.keras.layers.experimental.preprocessing import Rescaling, Resizing\n",
        "from tensorflow.keras.layers import Dense, Dropout, Flatten, GlobalAveragePooling2D\n",
        "from tensorflow.keras.optimizers import Adam, Adamax\n",
        "from tensorflow.keras.callbacks import EarlyStopping\n",
        "\n",
        "import matplotlib.pyplot as plt\n",
        "import numpy as np\n"
      ],
      "execution_count": null,
      "outputs": []
    },
    {
      "cell_type": "markdown",
      "metadata": {
        "id": "DphkyS-5HGGd",
        "colab_type": "text"
      },
      "source": [
        "# Prerequisites"
      ]
    },
    {
      "cell_type": "code",
      "metadata": {
        "id": "5X2i2_iQlUJN",
        "colab_type": "code",
        "colab": {}
      },
      "source": [
        "path = '/content/drive/My Drive/External Datasets/COVID19-Project/Datasets/main_dataset.zip'\n",
        "\n",
        "file = ZipFile(path, 'r')\n",
        "file.extractall()"
      ],
      "execution_count": null,
      "outputs": []
    },
    {
      "cell_type": "code",
      "metadata": {
        "id": "bQrzHFUbllNG",
        "colab_type": "code",
        "colab": {}
      },
      "source": [
        "test_dir = '/content/main/test'\n",
        "train_dir = '/content/main/train'\n",
        "val_dir = '/content/main/validation'"
      ],
      "execution_count": null,
      "outputs": []
    },
    {
      "cell_type": "code",
      "metadata": {
        "id": "8teFaGuZlwJj",
        "colab_type": "code",
        "colab": {}
      },
      "source": [
        "#  EfficientNet-Lite4\n",
        "img_height = 380\n",
        "img_width = 380\n",
        "\n",
        "batch_size = 64"
      ],
      "execution_count": null,
      "outputs": []
    },
    {
      "cell_type": "code",
      "metadata": {
        "id": "nvc6V3N0EL1W",
        "colab_type": "code",
        "colab": {}
      },
      "source": [
        "#  Xception\n",
        "img_height = 512\n",
        "img_width = 512\n",
        "\n",
        "batch_size = 64"
      ],
      "execution_count": null,
      "outputs": []
    },
    {
      "cell_type": "code",
      "metadata": {
        "id": "KuU6zrqFl1cn",
        "colab_type": "code",
        "colab": {
          "base_uri": "https://localhost:8080/",
          "height": 72
        },
        "outputId": "c727978a-d489-465d-c2a2-fb1937b29f86"
      },
      "source": [
        "datagen = ImageDataGenerator(rescale = (1/255))\n",
        "\n",
        "train_gen = datagen.flow_from_directory(\n",
        "    train_dir,\n",
        "    target_size = (img_height, img_width),\n",
        "    color_mode = 'rgb',\n",
        "    batch_size = batch_size,\n",
        "    shuffle = True\n",
        ")\n",
        "\n",
        "\n",
        "test_gen = datagen.flow_from_directory(\n",
        "    test_dir,\n",
        "    target_size = (img_height, img_width),\n",
        "    color_mode = 'rgb',\n",
        "    shuffle = False,\n",
        "    batch_size = batch_size,\n",
        ")\n",
        "\n",
        "\n",
        "val_gen = datagen.flow_from_directory(\n",
        "    val_dir,\n",
        "    target_size = (img_height, img_width),\n",
        "    color_mode = 'rgb',\n",
        "    batch_size = batch_size,\n",
        "    shuffle = True\n",
        ")"
      ],
      "execution_count": null,
      "outputs": [
        {
          "output_type": "stream",
          "text": [
            "Found 12789 images belonging to 3 classes.\n",
            "Found 3173 images belonging to 3 classes.\n",
            "Found 6350 images belonging to 3 classes.\n"
          ],
          "name": "stdout"
        }
      ]
    },
    {
      "cell_type": "code",
      "metadata": {
        "id": "FhUuqzE-mOXu",
        "colab_type": "code",
        "colab": {}
      },
      "source": [
        "class_names = ['covid', 'non-covid', 'non-informative']"
      ],
      "execution_count": null,
      "outputs": []
    },
    {
      "cell_type": "markdown",
      "metadata": {
        "id": "L_1MXZF_HB5G",
        "colab_type": "text"
      },
      "source": [
        "# Training the model"
      ]
    },
    {
      "cell_type": "code",
      "metadata": {
        "id": "JoKntHCSD1Nl",
        "colab_type": "code",
        "colab": {}
      },
      "source": [
        "URL = 'https://tfhub.dev/tensorflow/efficientnet/lite4/classification/2'\n",
        "pretrained_model = hub.KerasLayer(URL, input_shape = (img_height, img_width,3))"
      ],
      "execution_count": null,
      "outputs": []
    },
    {
      "cell_type": "code",
      "metadata": {
        "id": "BvoPV9Vsmc_s",
        "colab_type": "code",
        "colab": {}
      },
      "source": [
        "pretrained_model = tf.keras.applications.Xception(include_top = False,\n",
        "                                                  weights = 'imagenet',\n",
        "                                                  input_shape = (img_height, img_width, 3),\n",
        "                                                  )\n",
        "pretrained_model.trainable = False"
      ],
      "execution_count": null,
      "outputs": []
    },
    {
      "cell_type": "code",
      "metadata": {
        "id": "HfZtPdhsmzK8",
        "colab_type": "code",
        "colab": {}
      },
      "source": [
        "model = Sequential()\n",
        "model.add(pretrained_model)\n",
        "model.add(Flatten())\n",
        "model.add(Dense(512, activation = 'relu'))\n",
        "model.add(Dropout(.30))\n",
        "model.add(Dense(3, activation = 'softmax'))\n"
      ],
      "execution_count": null,
      "outputs": []
    },
    {
      "cell_type": "code",
      "metadata": {
        "id": "M3wG_DGunAoX",
        "colab_type": "code",
        "colab": {}
      },
      "source": [
        "model.compile(optimizer = Adamax(), loss= 'categorical_crossentropy', metrics = ['accuracy'])"
      ],
      "execution_count": null,
      "outputs": []
    },
    {
      "cell_type": "code",
      "metadata": {
        "id": "y04XVMzwnNP0",
        "colab_type": "code",
        "colab": {}
      },
      "source": [
        "es = EarlyStopping(monitor = 'val_loss', patience =1)"
      ],
      "execution_count": null,
      "outputs": []
    },
    {
      "cell_type": "code",
      "metadata": {
        "id": "aMAuLjXWnWZk",
        "colab_type": "code",
        "colab": {
          "base_uri": "https://localhost:8080/",
          "height": 146
        },
        "outputId": "84397e43-5f05-4002-9a36-ceb9411b3066"
      },
      "source": [
        "history = model.fit(train_gen, validation_data= val_gen, epochs = 5, callbacks = es)"
      ],
      "execution_count": null,
      "outputs": [
        {
          "output_type": "stream",
          "text": [
            "Epoch 1/5\n",
            "200/200 [==============================] - 370s 2s/step - loss: 0.4418 - accuracy: 0.7668 - val_loss: 0.2229 - val_accuracy: 0.9186\n",
            "Epoch 2/5\n",
            "200/200 [==============================] - 367s 2s/step - loss: 0.3486 - accuracy: 0.8029 - val_loss: 0.1406 - val_accuracy: 0.9551\n",
            "Epoch 3/5\n",
            "200/200 [==============================] - 366s 2s/step - loss: 0.3326 - accuracy: 0.8069 - val_loss: 0.1425 - val_accuracy: 0.9515\n"
          ],
          "name": "stdout"
        }
      ]
    },
    {
      "cell_type": "code",
      "metadata": {
        "id": "HK5VL5oXr6Kl",
        "colab_type": "code",
        "colab": {
          "base_uri": "https://localhost:8080/",
          "height": 35
        },
        "outputId": "f05f348e-c005-4753-9324-bc8fe4403eb3"
      },
      "source": [
        "metrics = model.evaluate(test_gen)"
      ],
      "execution_count": null,
      "outputs": [
        {
          "output_type": "stream",
          "text": [
            "50/50 [==============================] - 63s 1s/step - loss: 0.1305 - accuracy: 0.9559\n"
          ],
          "name": "stdout"
        }
      ]
    },
    {
      "cell_type": "code",
      "metadata": {
        "id": "sqTpAdB59r87",
        "colab_type": "code",
        "colab": {}
      },
      "source": [
        "predictions = model.predict(test_gen)"
      ],
      "execution_count": null,
      "outputs": []
    },
    {
      "cell_type": "code",
      "metadata": {
        "id": "77Oh5j8o6WCB",
        "colab_type": "code",
        "colab": {
          "base_uri": "https://localhost:8080/",
          "height": 55
        },
        "outputId": "f66effdc-a20a-4c77-b4a2-1a36e3af7c1a"
      },
      "source": [
        "print(history.history)"
      ],
      "execution_count": null,
      "outputs": [
        {
          "output_type": "stream",
          "text": [
            "{'loss': [0.44183099269866943, 0.34857240319252014, 0.33263853192329407], 'accuracy': [0.7668308615684509, 0.8028774857521057, 0.8068652749061584], 'val_loss': [0.22286982834339142, 0.14055228233337402, 0.14253690838813782], 'val_accuracy': [0.9185826778411865, 0.9551181197166443, 0.9514960646629333]}\n"
          ],
          "name": "stdout"
        }
      ]
    },
    {
      "cell_type": "code",
      "metadata": {
        "id": "135ArRno6aJj",
        "colab_type": "code",
        "colab": {
          "base_uri": "https://localhost:8080/",
          "height": 573
        },
        "outputId": "88c7a008-4a3f-47b1-c2b9-3a5e5fdb9b95"
      },
      "source": [
        "plt.plot(history.history['accuracy'])\n",
        "plt.plot(history.history['val_accuracy'])\n",
        "plt.title('Model Accuracy')\n",
        "plt.ylabel('Accuracy')\n",
        "plt.xlabel('Epoch')\n",
        "plt.legend(['Train','Test'], loc = 'upper left')\n",
        "plt.show()\n",
        "\n",
        "plt.plot(history.history['loss'])\n",
        "plt.plot(history.history['val_loss'])\n",
        "plt.title('Model Loss')\n",
        "plt.ylabel('loss')\n",
        "plt.xlabel('epoch')\n",
        "plt.legend(['Train', 'Test'], loc = 'upper left')\n",
        "plt.show()"
      ],
      "execution_count": null,
      "outputs": [
        {
          "output_type": "display_data",
          "data": {
            "image/png": "[encoded data removed]",
            "text/plain": [
              "<Figure size 432x288 with 1 Axes>"
            ]
          },
          "metadata": {
            "tags": [],
            "needs_background": "light"
          }
        },
        {
          "output_type": "display_data",
          "data": {
            "image/png": "[encoded data removed]",
            "text/plain": [
              "<Figure size 432x288 with 1 Axes>"
            ]
          },
          "metadata": {
            "tags": [],
            "needs_background": "light"
          }
        }
      ]
    },
    {
      "cell_type": "code",
      "metadata": {
        "id": "f0__bDOE8FSx",
        "colab_type": "code",
        "colab": {}
      },
      "source": [
        "os.chdir('/content/drive/My Drive/External Datasets/COVID19-Project/successful_models')\n",
        "model.save('EfficientNet-Lite4.h5')"
      ],
      "execution_count": null,
      "outputs": []
    },
    {
      "cell_type": "markdown",
      "metadata": {
        "id": "ENufZ5bqJ1aW",
        "colab_type": "text"
      },
      "source": [
        "# Conversion to TFlite Model"
      ]
    },
    {
      "cell_type": "code",
      "metadata": {
        "id": "dqiPyXQZJ-zu",
        "colab_type": "code",
        "colab": {}
      },
      "source": [
        "data_aug = Sequential([\n",
        "  Resizing(img_height, img_width, interpolation= 'bilinear'),\n",
        "  Rescaling(1/255)\n",
        "], name = 'data_augmentation')"
      ],
      "execution_count": null,
      "outputs": []
    },
    {
      "cell_type": "code",
      "metadata": {
        "id": "cP09jpVZJ55_",
        "colab_type": "code",
        "colab": {}
      },
      "source": [
        "full_model = Sequential()\n",
        "full_model.add(data_aug)\n",
        "full_model.add(model)"
      ],
      "execution_count": null,
      "outputs": []
    },
    {
      "cell_type": "code",
      "metadata": {
        "id": "4KqJ-63QKNKa",
        "colab_type": "code",
        "colab": {}
      },
      "source": [
        "full_model.compile(loss = 'categorical_crossentropy', optimizer = Adam())"
      ],
      "execution_count": null,
      "outputs": []
    },
    {
      "cell_type": "code",
      "metadata": {
        "id": "sJ8_rnAqKJSh",
        "colab_type": "code",
        "colab": {
          "base_uri": "https://localhost:8080/",
          "height": 292
        },
        "outputId": "820f5940-d039-4931-ec60-efc61074d82e"
      },
      "source": [
        "converter = tf.lite.TFLiteConverter.from_keras_model(full_model)\n",
        "tflite_model = converter.convert()"
      ],
      "execution_count": null,
      "outputs": [
        {
          "output_type": "stream",
          "text": [
            "WARNING:tensorflow:From /usr/local/lib/python3.6/dist-packages/tensorflow/python/training/tracking/tracking.py:111: Model.state_updates (from tensorflow.python.keras.engine.training) is deprecated and will be removed in a future version.\n",
            "Instructions for updating:\n",
            "This property should not be used in TensorFlow 2.0, as updates are applied automatically.\n"
          ],
          "name": "stdout"
        },
        {
          "output_type": "stream",
          "text": [
            "WARNING:tensorflow:From /usr/local/lib/python3.6/dist-packages/tensorflow/python/training/tracking/tracking.py:111: Model.state_updates (from tensorflow.python.keras.engine.training) is deprecated and will be removed in a future version.\n",
            "Instructions for updating:\n",
            "This property should not be used in TensorFlow 2.0, as updates are applied automatically.\n"
          ],
          "name": "stderr"
        },
        {
          "output_type": "stream",
          "text": [
            "WARNING:tensorflow:From /usr/local/lib/python3.6/dist-packages/tensorflow/python/training/tracking/tracking.py:111: Layer.updates (from tensorflow.python.keras.engine.base_layer) is deprecated and will be removed in a future version.\n",
            "Instructions for updating:\n",
            "This property should not be used in TensorFlow 2.0, as updates are applied automatically.\n"
          ],
          "name": "stdout"
        },
        {
          "output_type": "stream",
          "text": [
            "WARNING:tensorflow:From /usr/local/lib/python3.6/dist-packages/tensorflow/python/training/tracking/tracking.py:111: Layer.updates (from tensorflow.python.keras.engine.base_layer) is deprecated and will be removed in a future version.\n",
            "Instructions for updating:\n",
            "This property should not be used in TensorFlow 2.0, as updates are applied automatically.\n"
          ],
          "name": "stderr"
        },
        {
          "output_type": "stream",
          "text": [
            "INFO:tensorflow:Assets written to: /tmp/tmpsbure1hs/assets\n"
          ],
          "name": "stdout"
        },
        {
          "output_type": "stream",
          "text": [
            "INFO:tensorflow:Assets written to: /tmp/tmpsbure1hs/assets\n"
          ],
          "name": "stderr"
        }
      ]
    },
    {
      "cell_type": "code",
      "metadata": {
        "id": "E-4AWwP-K7kY",
        "colab_type": "code",
        "colab": {}
      },
      "source": [
        "with open('COVID19-Model.tflite', 'wb') as f:\n",
        "  f.write(tflite_model)"
      ],
      "execution_count": null,
      "outputs": []
    },
    {
      "cell_type": "markdown",
      "metadata": {
        "id": "awKA5l9p7wDN",
        "colab_type": "text"
      },
      "source": [
        "# Plotting the confusion matrix"
      ]
    },
    {
      "cell_type": "code",
      "metadata": {
        "id": "dcW7xuAfHyuZ",
        "colab_type": "code",
        "colab": {}
      },
      "source": [
        "model = load_model('/content/drive/My Drive/External Datasets/COVID19-Project/successful_models/Xception-v2.h5')"
      ],
      "execution_count": null,
      "outputs": []
    },
    {
      "cell_type": "code",
      "metadata": {
        "id": "5jNpx8tiITG5",
        "colab_type": "code",
        "colab": {
          "base_uri": "https://localhost:8080/",
          "height": 345
        },
        "outputId": "cf16ed89-5043-4099-fda1-c897e47a3f57"
      },
      "source": [
        "model.summary()"
      ],
      "execution_count": null,
      "outputs": [
        {
          "output_type": "stream",
          "text": [
            "Model: \"sequential\"\n",
            "_________________________________________________________________\n",
            "Layer (type)                 Output Shape              Param #   \n",
            "=================================================================\n",
            "keras_layer (KerasLayer)     (None, 1000)              13118936  \n",
            "_________________________________________________________________\n",
            "flatten (Flatten)            (None, 1000)              0         \n",
            "_________________________________________________________________\n",
            "dense (Dense)                (None, 512)               512512    \n",
            "_________________________________________________________________\n",
            "dropout (Dropout)            (None, 512)               0         \n",
            "_________________________________________________________________\n",
            "dense_1 (Dense)              (None, 3)                 1539      \n",
            "=================================================================\n",
            "Total params: 13,632,987\n",
            "Trainable params: 514,051\n",
            "Non-trainable params: 13,118,936\n",
            "_________________________________________________________________\n"
          ],
          "name": "stdout"
        }
      ]
    },
    {
      "cell_type": "code",
      "metadata": {
        "id": "jo5uGkVpIJX7",
        "colab_type": "code",
        "colab": {}
      },
      "source": [
        "predictions = model.predict(test_gen)"
      ],
      "execution_count": null,
      "outputs": []
    },
    {
      "cell_type": "code",
      "metadata": {
        "id": "gOTXWi-EIs5y",
        "colab_type": "code",
        "colab": {
          "base_uri": "https://localhost:8080/",
          "height": 145
        },
        "outputId": "962691f1-7d8f-4482-d49c-0e635683bddb"
      },
      "source": [
        "print(predictions)"
      ],
      "execution_count": null,
      "outputs": [
        {
          "output_type": "stream",
          "text": [
            "[[1.8091941e-01 8.0526924e-01 1.3811385e-02]\n",
            " [2.3193788e-02 9.7662354e-01 1.8271182e-04]\n",
            " [4.6134543e-02 9.5301223e-01 8.5315265e-04]\n",
            " ...\n",
            " [5.2049370e-03 9.9182206e-01 2.9729856e-03]\n",
            " [2.0031627e-04 6.5147982e-04 9.9914825e-01]\n",
            " [2.9847246e-01 6.9905907e-01 2.4685415e-03]]\n"
          ],
          "name": "stdout"
        }
      ]
    },
    {
      "cell_type": "code",
      "metadata": {
        "id": "Xz9lhBD69AIK",
        "colab_type": "code",
        "colab": {}
      },
      "source": [
        "rounded_predictions = np.argmax(predictions, axis =1)"
      ],
      "execution_count": null,
      "outputs": []
    },
    {
      "cell_type": "code",
      "metadata": {
        "id": "JHhGmZ2B-dcK",
        "colab_type": "code",
        "colab": {}
      },
      "source": [
        "print(list(rounded_predictions))"
      ],
      "execution_count": null,
      "outputs": []
    },
    {
      "cell_type": "code",
      "metadata": {
        "id": "-jABwYgaI79n",
        "colab_type": "code",
        "colab": {}
      },
      "source": [
        "labels = test_gen.classes\n"
      ],
      "execution_count": null,
      "outputs": []
    },
    {
      "cell_type": "code",
      "metadata": {
        "id": "FMXCcAUK78GW",
        "colab_type": "code",
        "colab": {}
      },
      "source": [
        "from mlxtend.plotting import plot_confusion_matrix\n",
        "from sklearn.metrics import confusion_matrix\n"
      ],
      "execution_count": null,
      "outputs": []
    },
    {
      "cell_type": "code",
      "metadata": {
        "id": "73PRmSEoC7bF",
        "colab_type": "code",
        "colab": {}
      },
      "source": [
        "class_names = ['covid','non-covid', 'non-informative']"
      ],
      "execution_count": null,
      "outputs": []
    },
    {
      "cell_type": "code",
      "metadata": {
        "id": "u3wjb1Tl8DYL",
        "colab_type": "code",
        "colab": {
          "base_uri": "https://localhost:8080/",
          "height": 497
        },
        "outputId": "de3112b7-5f0b-41fc-fdf9-231c1a440821"
      },
      "source": [
        "cs = confusion_matrix(labels, rounded_predictions)\n",
        "cm = plot_confusion_matrix(conf_mat = cs, figsize =(8,8))"
      ],
      "execution_count": null,
      "outputs": [
        {
          "output_type": "display_data",
          "data": {
            "image/png": "[encoded data removed]",
            "text/plain": [
              "<Figure size 576x576 with 1 Axes>"
            ]
          },
          "metadata": {
            "tags": [],
            "needs_background": "light"
          }
        }
      ]
    }
  ]
}