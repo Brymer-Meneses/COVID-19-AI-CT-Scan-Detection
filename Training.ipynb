{
  "nbformat": 4,
  "nbformat_minor": 0,
  "metadata": {
    "colab": {
      "name": "Training.ipynb",
      "provenance": [],
      "mount_file_id": "1kzlyUfyJht4sZ4OOvSpZYdgYDNAfHJLN",
      "authorship_tag": "ABX9TyOxZkPo2Y4sp8zLWodCivQS",
      "include_colab_link": true
    },
    "kernelspec": {
      "name": "python3",
      "display_name": "Python 3"
    },
    "accelerator": "GPU"
  },
  "cells": [
    {
      "cell_type": "markdown",
      "metadata": {
        "id": "view-in-github",
        "colab_type": "text"
      },
      "source": [
        "<a href=\"https://colab.research.google.com/github/xBrymer/COVID19-AI-CT-Scan-Detection/blob/master/Training.ipynb\" target=\"_parent\"><img src=\"https://colab.research.google.com/assets/colab-badge.svg\" alt=\"Open In Colab\"/></a>"
      ]
    },
    {
      "cell_type": "code",
      "metadata": {
        "id": "6caUKM4SkitA",
        "colab_type": "code",
        "colab": {}
      },
      "source": [
        "import tensorflow as tf \n",
        "import tensorflow_hub as hub\n",
        "\n",
        "import os \n",
        "import shutil\n",
        "from zipfile import ZipFile\n",
        "from tqdm.notebook import tqdm\n",
        "\n",
        "from tensorflow.keras.models import load_model, save_model, Sequential\n",
        "from tensorflow.keras.preprocessing.image import ImageDataGenerator\n",
        "from tensorflow.keras.layers import Dense, Dropout, Flatten, GlobalAveragePooling2D\n",
        "from tensorflow.keras.optimizers import Adam, Adamax\n",
        "from tensorflow.keras.callbacks import EarlyStopping\n",
        "\n",
        "import matplotlib.pyplot as plt\n",
        "import numpy as np\n"
      ],
      "execution_count": 13,
      "outputs": []
    },
    {
      "cell_type": "markdown",
      "metadata": {
        "id": "DphkyS-5HGGd",
        "colab_type": "text"
      },
      "source": [
        "# Prerequisites"
      ]
    },
    {
      "cell_type": "code",
      "metadata": {
        "id": "5X2i2_iQlUJN",
        "colab_type": "code",
        "colab": {}
      },
      "source": [
        "path = '/content/drive/My Drive/External Datasets/COVID19-Project/Datasets/main_dataset.zip'\n",
        "\n",
        "file = ZipFile(path, 'r')\n",
        "file.extractall()"
      ],
      "execution_count": 2,
      "outputs": []
    },
    {
      "cell_type": "code",
      "metadata": {
        "id": "bQrzHFUbllNG",
        "colab_type": "code",
        "colab": {}
      },
      "source": [
        "test_dir = '/content/main/test'\n",
        "train_dir = '/content/main/train'\n",
        "val_dir = '/content/main/validation'"
      ],
      "execution_count": 3,
      "outputs": []
    },
    {
      "cell_type": "code",
      "metadata": {
        "id": "8teFaGuZlwJj",
        "colab_type": "code",
        "colab": {}
      },
      "source": [
        "img_height = 512\n",
        "img_width = 512\n",
        "\n",
        "batch_size = 64"
      ],
      "execution_count": 4,
      "outputs": []
    },
    {
      "cell_type": "code",
      "metadata": {
        "id": "KuU6zrqFl1cn",
        "colab_type": "code",
        "colab": {
          "base_uri": "https://localhost:8080/",
          "height": 72
        },
        "outputId": "5b4772e4-9eb6-4a34-acfe-7018adef09e6"
      },
      "source": [
        "datagen = ImageDataGenerator(rescale = (1/255))\n",
        "\n",
        "train_gen = datagen.flow_from_directory(\n",
        "    train_dir,\n",
        "    target_size = (img_height, img_width),\n",
        "    color_mode = 'rgb',\n",
        "    batch_size = batch_size,\n",
        "    shuffle = True\n",
        ")\n",
        "\n",
        "\n",
        "test_gen = datagen.flow_from_directory(\n",
        "    test_dir,\n",
        "    target_size = (img_height, img_width),\n",
        "    color_mode = 'rgb',\n",
        "    batch_size = batch_size,\n",
        "    shuffle = True\n",
        ")\n",
        "\n",
        "\n",
        "val_gen = datagen.flow_from_directory(\n",
        "    val_dir,\n",
        "    target_size = (img_height, img_width),\n",
        "    color_mode = 'rgb',\n",
        "    batch_size = batch_size,\n",
        "    shuffle = True\n",
        ")"
      ],
      "execution_count": 5,
      "outputs": [
        {
          "output_type": "stream",
          "text": [
            "Found 12789 images belonging to 3 classes.\n",
            "Found 3173 images belonging to 3 classes.\n",
            "Found 6350 images belonging to 3 classes.\n"
          ],
          "name": "stdout"
        }
      ]
    },
    {
      "cell_type": "code",
      "metadata": {
        "id": "FhUuqzE-mOXu",
        "colab_type": "code",
        "colab": {}
      },
      "source": [
        "class_names = ['covid', 'non-covid', 'non-informative']"
      ],
      "execution_count": 8,
      "outputs": []
    },
    {
      "cell_type": "markdown",
      "metadata": {
        "id": "L_1MXZF_HB5G",
        "colab_type": "text"
      },
      "source": [
        "# Training the model"
      ]
    },
    {
      "cell_type": "code",
      "metadata": {
        "id": "BvoPV9Vsmc_s",
        "colab_type": "code",
        "colab": {}
      },
      "source": [
        "pretrained_model = tf.keras.applications.Xception(include_top = False,\n",
        "                                                  weights = 'imagenet',\n",
        "                                                  input_shape = (img_height, img_width, 3),\n",
        "                                                  )\n",
        "pretrained_model.trainable = False"
      ],
      "execution_count": 10,
      "outputs": []
    },
    {
      "cell_type": "code",
      "metadata": {
        "id": "HfZtPdhsmzK8",
        "colab_type": "code",
        "colab": {}
      },
      "source": [
        "model = Sequential()\n",
        "model.add(pretrained_model)\n",
        "model.add(GlobalAveragePooling2D())\n",
        "model.add(Dense(256, activation = 'relu'))\n",
        "model.add(Dropout(.30))\n",
        "model.add(Dense(3, activation = 'softmax'))\n"
      ],
      "execution_count": 11,
      "outputs": []
    },
    {
      "cell_type": "code",
      "metadata": {
        "id": "M3wG_DGunAoX",
        "colab_type": "code",
        "colab": {}
      },
      "source": [
        "model.compile(optimizer = Adamax(), loss= 'categorical_crossentropy', metrics = ['accuracy'])"
      ],
      "execution_count": 17,
      "outputs": []
    },
    {
      "cell_type": "code",
      "metadata": {
        "id": "y04XVMzwnNP0",
        "colab_type": "code",
        "colab": {}
      },
      "source": [
        "es = EarlyStopping(monitor = 'val_loss', patience =1)"
      ],
      "execution_count": 18,
      "outputs": []
    },
    {
      "cell_type": "code",
      "metadata": {
        "id": "aMAuLjXWnWZk",
        "colab_type": "code",
        "colab": {
          "base_uri": "https://localhost:8080/",
          "height": 219
        },
        "outputId": "37fc900e-2a57-4500-e142-95f51d926a8b"
      },
      "source": [
        "history = model.fit(train_gen, validation_data= val_gen, epochs = 5, callbacks = es)"
      ],
      "execution_count": 19,
      "outputs": [
        {
          "output_type": "stream",
          "text": [
            "Epoch 1/5\n",
            "200/200 [==============================] - 932s 5s/step - loss: 0.4536 - accuracy: 0.7551 - val_loss: 0.2410 - val_accuracy: 0.9184\n",
            "Epoch 2/5\n",
            "200/200 [==============================] - 923s 5s/step - loss: 0.3596 - accuracy: 0.7971 - val_loss: 0.1814 - val_accuracy: 0.9337\n",
            "Epoch 3/5\n",
            "200/200 [==============================] - 923s 5s/step - loss: 0.3415 - accuracy: 0.8048 - val_loss: 0.1798 - val_accuracy: 0.9328\n",
            "Epoch 4/5\n",
            "200/200 [==============================] - 924s 5s/step - loss: 0.3304 - accuracy: 0.8099 - val_loss: 0.1392 - val_accuracy: 0.9504\n",
            "Epoch 5/5\n",
            "200/200 [==============================] - 924s 5s/step - loss: 0.3246 - accuracy: 0.8122 - val_loss: 0.1516 - val_accuracy: 0.9439\n"
          ],
          "name": "stdout"
        }
      ]
    },
    {
      "cell_type": "code",
      "metadata": {
        "id": "HK5VL5oXr6Kl",
        "colab_type": "code",
        "colab": {
          "base_uri": "https://localhost:8080/",
          "height": 35
        },
        "outputId": "25a2013d-10f5-499b-a0df-65c10004b9e7"
      },
      "source": [
        "metrics = model.evaluate(test_gen)"
      ],
      "execution_count": 20,
      "outputs": [
        {
          "output_type": "stream",
          "text": [
            "50/50 [==============================] - 155s 3s/step - loss: 0.1413 - accuracy: 0.9455\n"
          ],
          "name": "stdout"
        }
      ]
    },
    {
      "cell_type": "code",
      "metadata": {
        "id": "sqTpAdB59r87",
        "colab_type": "code",
        "colab": {}
      },
      "source": [
        "predictions = model.predict(test_gen)"
      ],
      "execution_count": 34,
      "outputs": []
    },
    {
      "cell_type": "code",
      "metadata": {
        "id": "77Oh5j8o6WCB",
        "colab_type": "code",
        "colab": {
          "base_uri": "https://localhost:8080/",
          "height": 55
        },
        "outputId": "b4bcb6e4-e763-42c4-df1d-da293b48f197"
      },
      "source": [
        "print(history.history)"
      ],
      "execution_count": 21,
      "outputs": [
        {
          "output_type": "stream",
          "text": [
            "{'loss': [0.4535718560218811, 0.3596196472644806, 0.3415086269378662, 0.33039793372154236, 0.3245900869369507], 'accuracy': [0.7551020383834839, 0.7970912456512451, 0.8048322796821594, 0.809914767742157, 0.8121823668479919], 'val_loss': [0.24099843204021454, 0.18137605488300323, 0.17983503639698029, 0.13916246592998505, 0.15155352652072906], 'val_accuracy': [0.9184252023696899, 0.9337007999420166, 0.9327558875083923, 0.9503936767578125, 0.9439370036125183]}\n"
          ],
          "name": "stdout"
        }
      ]
    },
    {
      "cell_type": "code",
      "metadata": {
        "id": "f0__bDOE8FSx",
        "colab_type": "code",
        "colab": {}
      },
      "source": [
        "os.chdir('/content/drive/My Drive/External Datasets/COVID19-Project/successful_models')\n",
        "model.save('Xception-v2.h5')"
      ],
      "execution_count": 29,
      "outputs": []
    },
    {
      "cell_type": "code",
      "metadata": {
        "id": "135ArRno6aJj",
        "colab_type": "code",
        "colab": {
          "base_uri": "https://localhost:8080/",
          "height": 847
        },
        "outputId": "6238794d-9b0a-4e50-eeae-e87e5c463c1b"
      },
      "source": [
        "plt.plot(history.history['accuracy'])\n",
        "plt.plot(history.history['val_accuracy'])\n",
        "plt.title('Model Accuracy')\n",
        "plt.ylabel('Accuracy')\n",
        "plt.xlabel('Epoch')\n",
        "plt.legend(['Train','Test'], loc = 'upper_left')\n",
        "plt.show()\n",
        "\n",
        "plt.plot(history.history['loss'])\n",
        "plt.plot(history.history['val_loss'])\n",
        "plt.title('Model Loss')\n",
        "plt.ylabel('loss')\n",
        "plt.xlabel('epoch')\n",
        "plt.legend(['Train', 'Test'], loc = 'upper left')\n",
        "plt.show()"
      ],
      "execution_count": 25,
      "outputs": [
        {
          "output_type": "stream",
          "text": [
            "/usr/local/lib/python3.6/dist-packages/ipykernel_launcher.py:6: MatplotlibDeprecationWarning: Unrecognized location 'upper_left'. Falling back on 'best'; valid locations are\n",
            "\tbest\n",
            "\tupper right\n",
            "\tupper left\n",
            "\tlower left\n",
            "\tlower right\n",
            "\tright\n",
            "\tcenter left\n",
            "\tcenter right\n",
            "\tlower center\n",
            "\tupper center\n",
            "\tcenter\n",
            "This will raise an exception in 3.3.\n",
            "  \n"
          ],
          "name": "stderr"
        },
        {
          "output_type": "display_data",
          "data": {
            "image/png": "[encoded data removed]",
            "text/plain": [
              "<Figure size 432x288 with 1 Axes>"
            ]
          },
          "metadata": {
            "tags": [],
            "needs_background": "light"
          }
        },
        {
          "output_type": "display_data",
          "data": {
            "image/png": "[encoded data removed]",
            "text/plain": [
              "<Figure size 432x288 with 1 Axes>"
            ]
          },
          "metadata": {
            "tags": [],
            "needs_background": "light"
          }
        }
      ]
    },
    {
      "cell_type": "markdown",
      "metadata": {
        "id": "awKA5l9p7wDN",
        "colab_type": "text"
      },
      "source": [
        "# Plotting the confusion matrix"
      ]
    },
    {
      "cell_type": "code",
      "metadata": {
        "id": "Xz9lhBD69AIK",
        "colab_type": "code",
        "colab": {}
      },
      "source": [
        "rounded_predictions = np.argmax(predictions, axis =1)"
      ],
      "execution_count": 37,
      "outputs": []
    },
    {
      "cell_type": "code",
      "metadata": {
        "id": "JHhGmZ2B-dcK",
        "colab_type": "code",
        "colab": {
          "base_uri": "https://localhost:8080/",
          "height": 35
        },
        "outputId": "646be39e-bd96-49de-d66c-e8f75ca1ad38"
      },
      "source": [
        "print(rounded_predictions)"
      ],
      "execution_count": 38,
      "outputs": [
        {
          "output_type": "stream",
          "text": [
            "[1 1 1 ... 2 1 1]\n"
          ],
          "name": "stdout"
        }
      ]
    },
    {
      "cell_type": "code",
      "metadata": {
        "id": "FMXCcAUK78GW",
        "colab_type": "code",
        "colab": {}
      },
      "source": [
        "from mlxtend.plotting import plot_confusion_matrix\n",
        "from sklearn.metrics import confusion_matrix\n"
      ],
      "execution_count": 66,
      "outputs": []
    },
    {
      "cell_type": "code",
      "metadata": {
        "id": "IZ2cZWk8_jS4",
        "colab_type": "code",
        "colab": {
          "base_uri": "https://localhost:8080/",
          "height": 35
        },
        "outputId": "abaee5f8-4b99-424c-ce13-6971f322c4de"
      },
      "source": [
        "label_map = train_gen.class_indices\n",
        "print(label_map)"
      ],
      "execution_count": 54,
      "outputs": [
        {
          "output_type": "stream",
          "text": [
            "{'covid': 0, 'non-covid': 1, 'non-informative': 2}\n"
          ],
          "name": "stdout"
        }
      ]
    },
    {
      "cell_type": "code",
      "metadata": {
        "id": "wGidJJtlBAYP",
        "colab_type": "code",
        "colab": {
          "base_uri": "https://localhost:8080/",
          "height": 55
        },
        "outputId": "5c149453-618f-41d2-d5fd-a733d296f965"
      },
      "source": [
        "print(model.predict_classes)"
      ],
      "execution_count": 53,
      "outputs": [
        {
          "output_type": "stream",
          "text": [
            "<bound method Sequential.predict_classes of <tensorflow.python.keras.engine.sequential.Sequential object at 0x7f978c551ac8>>\n"
          ],
          "name": "stdout"
        }
      ]
    },
    {
      "cell_type": "code",
      "metadata": {
        "id": "73PRmSEoC7bF",
        "colab_type": "code",
        "colab": {}
      },
      "source": [
        "class_names = ['covid','non-covid', 'non-informative']"
      ],
      "execution_count": 59,
      "outputs": []
    },
    {
      "cell_type": "code",
      "metadata": {
        "id": "u3wjb1Tl8DYL",
        "colab_type": "code",
        "colab": {
          "base_uri": "https://localhost:8080/",
          "height": 497
        },
        "outputId": "4c2ff778-abb4-4314-fc49-e4f4e26be822"
      },
      "source": [
        "cs = confusion_matrix(labels, rounded_predictions)\n",
        "cm = plot_confusion_matrix(conf_mat = cs, figsize =(8,8))"
      ],
      "execution_count": 73,
      "outputs": [
        {
          "output_type": "display_data",
          "data": {
            "image/png": "[encoded data removed]",
            "text/plain": [
              "<Figure size 576x576 with 1 Axes>"
            ]
          },
          "metadata": {
            "tags": [],
            "needs_background": "light"
          }
        }
      ]
    }
  ]
}