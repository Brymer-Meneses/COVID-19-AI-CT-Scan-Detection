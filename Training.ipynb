{
  "nbformat": 4,
  "nbformat_minor": 0,
  "metadata": {
    "colab": {
      "name": "Training-v2.ipynb",
      "provenance": [],
      "toc_visible": true,
      "mount_file_id": "https://github.com/xBrymer/COVID19-AI-CT-Scan-Detection/blob/master/Training.ipynb",
      "authorship_tag": "ABX9TyP6TLG3Vw0t1AFCiQOhld3T",
      "include_colab_link": true
    },
    "kernelspec": {
      "name": "python3",
      "display_name": "Python 3"
    },
    "accelerator": "GPU"
  },
  "cells": [
    {
      "cell_type": "markdown",
      "metadata": {
        "id": "view-in-github",
        "colab_type": "text"
      },
      "source": [
        "<a href=\"https://colab.research.google.com/github/Brymer-Meneses/COVID19-AI-CT-Scan-Detection/blob/master/Training.ipynb\" target=\"_parent\"><img src=\"https://colab.research.google.com/assets/colab-badge.svg\" alt=\"Open In Colab\"/></a>"
      ]
    },
    {
      "cell_type": "code",
      "metadata": {
        "id": "6caUKM4SkitA",
        "colab_type": "code",
        "colab": {}
      },
      "source": [
        "import tensorflow as tf \n",
        "import tensorflow_hub as hub\n",
        "\n",
        "import os \n",
        "import shutil\n",
        "from zipfile import ZipFile\n",
        "from tqdm.notebook import tqdm\n",
        "\n",
        "from tensorflow.keras.models import load_model, save_model, Sequential\n",
        "from tensorflow.keras.preprocessing.image import ImageDataGenerator\n",
        "from tensorflow.keras.layers.experimental.preprocessing import Rescaling, Resizing\n",
        "from tensorflow.keras.layers import Dense, Dropout, Flatten, GlobalAveragePooling2D\n",
        "from tensorflow.keras.optimizers import Adam, Adamax\n",
        "from tensorflow.keras.callbacks import EarlyStopping\n",
        "\n",
        "import matplotlib.pyplot as plt\n",
        "import numpy as np\n"
      ],
      "execution_count": null,
      "outputs": []
    },
    {
      "cell_type": "markdown",
      "metadata": {
        "id": "DphkyS-5HGGd",
        "colab_type": "text"
      },
      "source": [
        "# Prerequisites"
      ]
    },
    {
      "cell_type": "code",
      "metadata": {
        "id": "5X2i2_iQlUJN",
        "colab_type": "code",
        "colab": {}
      },
      "source": [
        "path = '/content/drive/My Drive/External Datasets/COVID19-Project/Datasets/main_dataset.zip'\n",
        "\n",
        "file = ZipFile(path, 'r')\n",
        "file.extractall()"
      ],
      "execution_count": null,
      "outputs": []
    },
    {
      "cell_type": "code",
      "metadata": {
        "id": "bQrzHFUbllNG",
        "colab_type": "code",
        "colab": {}
      },
      "source": [
        "test_dir = '/content/main/test'\n",
        "train_dir = '/content/main/train'\n",
        "val_dir = '/content/main/validation'"
      ],
      "execution_count": null,
      "outputs": []
    },
    {
      "cell_type": "code",
      "metadata": {
        "id": "8teFaGuZlwJj",
        "colab_type": "code",
        "colab": {}
      },
      "source": [
        "#  EfficientNet-Lite4\n",
        "img_height = 380\n",
        "img_width = 380\n",
        "\n",
        "batch_size = 64"
      ],
      "execution_count": null,
      "outputs": []
    },
    {
      "cell_type": "code",
      "metadata": {
        "id": "nvc6V3N0EL1W",
        "colab_type": "code",
        "colab": {}
      },
      "source": [
        "#  Xception\n",
        "img_height = 512\n",
        "img_width = 512\n",
        "\n",
        "batch_size = 64"
      ],
      "execution_count": null,
      "outputs": []
    },
    {
      "cell_type": "code",
      "metadata": {
        "id": "KuU6zrqFl1cn",
        "colab_type": "code",
        "colab": {
          "base_uri": "https://localhost:8080/",
          "height": 72
        },
        "outputId": "ac223035-c320-44e5-eccc-602d157cc850"
      },
      "source": [
        "datagen = ImageDataGenerator(horizontal_flip = True, rescale = (1/255))\n",
        "\n",
        "train_gen = datagen.flow_from_directory(\n",
        "    train_dir,\n",
        "    target_size = (img_height, img_width),\n",
        "    color_mode = 'rgb',\n",
        "    batch_size = batch_size,\n",
        "    shuffle = True\n",
        ")\n",
        "\n",
        "\n",
        "test_gen = datagen.flow_from_directory(\n",
        "    test_dir,\n",
        "    target_size = (img_height, img_width),\n",
        "    color_mode = 'rgb',\n",
        "    shuffle = False,\n",
        "    batch_size = batch_size,\n",
        ")\n",
        "\n",
        "\n",
        "val_gen = datagen.flow_from_directory(\n",
        "    val_dir,\n",
        "    target_size = (img_height, img_width),\n",
        "    color_mode = 'rgb',\n",
        "    batch_size = batch_size,\n",
        "    shuffle = True\n",
        ")"
      ],
      "execution_count": null,
      "outputs": [
        {
          "output_type": "stream",
          "text": [
            "Found 12789 images belonging to 3 classes.\n",
            "Found 3173 images belonging to 3 classes.\n",
            "Found 6350 images belonging to 3 classes.\n"
          ],
          "name": "stdout"
        }
      ]
    },
    {
      "cell_type": "code",
      "metadata": {
        "id": "FhUuqzE-mOXu",
        "colab_type": "code",
        "colab": {}
      },
      "source": [
        "class_names = ['covid', 'non-covid', 'non-informative']"
      ],
      "execution_count": null,
      "outputs": []
    },
    {
      "cell_type": "markdown",
      "metadata": {
        "id": "L_1MXZF_HB5G",
        "colab_type": "text"
      },
      "source": [
        "# Training the model"
      ]
    },
    {
      "cell_type": "code",
      "metadata": {
        "id": "JoKntHCSD1Nl",
        "colab_type": "code",
        "colab": {}
      },
      "source": [
        "URL = 'https://tfhub.dev/tensorflow/efficientnet/lite4/feature-vector/2'\n",
        "pretrained_model = hub.KerasLayer(URL, input_shape = (img_height, img_width,3))"
      ],
      "execution_count": null,
      "outputs": []
    },
    {
      "cell_type": "code",
      "metadata": {
        "id": "BvoPV9Vsmc_s",
        "colab_type": "code",
        "colab": {}
      },
      "source": [
        "pretrained_model = tf.keras.applications.Xception(include_top = False,\n",
        "                                                  weights = 'imagenet',\n",
        "                                                  input_shape = (img_height, img_width, 3),\n",
        "                                                  )\n",
        "pretrained_model.trainable = False"
      ],
      "execution_count": null,
      "outputs": []
    },
    {
      "cell_type": "code",
      "metadata": {
        "id": "HfZtPdhsmzK8",
        "colab_type": "code",
        "colab": {}
      },
      "source": [
        "model = Sequential()\n",
        "model.add(pretrained_model)\n",
        "model.add(Flatten())\n",
        "model.add(Dense(512, activation = 'relu'))\n",
        "model.add(Dropout(.30))\n",
        "model.add(Dense(3, activation = 'softmax'))\n"
      ],
      "execution_count": null,
      "outputs": []
    },
    {
      "cell_type": "code",
      "metadata": {
        "id": "M3wG_DGunAoX",
        "colab_type": "code",
        "colab": {}
      },
      "source": [
        "model.compile(optimizer = Adamax(), loss= 'categorical_crossentropy', metrics = ['accuracy'])"
      ],
      "execution_count": null,
      "outputs": []
    },
    {
      "cell_type": "code",
      "metadata": {
        "id": "y04XVMzwnNP0",
        "colab_type": "code",
        "colab": {}
      },
      "source": [
        "es = EarlyStopping(monitor = 'val_loss', patience =3)"
      ],
      "execution_count": null,
      "outputs": []
    },
    {
      "cell_type": "code",
      "metadata": {
        "id": "aMAuLjXWnWZk",
        "colab_type": "code",
        "colab": {
          "base_uri": "https://localhost:8080/",
          "height": 183
        },
        "outputId": "7366d2db-b40c-489e-c096-79e27fd9f0dc"
      },
      "source": [
        "history = model.fit(train_gen, validation_data= val_gen, epochs = 5, callbacks = es)"
      ],
      "execution_count": null,
      "outputs": [
        {
          "output_type": "stream",
          "text": [
            "Epoch 1/5\n",
            "200/200 [==============================] - 246s 1s/step - loss: 0.4179 - accuracy: 0.7752 - val_loss: 0.3105 - val_accuracy: 0.8710\n",
            "Epoch 2/5\n",
            "200/200 [==============================] - 237s 1s/step - loss: 0.3432 - accuracy: 0.8177 - val_loss: 0.1434 - val_accuracy: 0.9526\n",
            "Epoch 3/5\n",
            "200/200 [==============================] - 236s 1s/step - loss: 0.3241 - accuracy: 0.8243 - val_loss: 0.1198 - val_accuracy: 0.9605\n",
            "Epoch 4/5\n",
            "200/200 [==============================] - 236s 1s/step - loss: 0.3118 - accuracy: 0.8363 - val_loss: 0.1677 - val_accuracy: 0.9372\n"
          ],
          "name": "stdout"
        }
      ]
    },
    {
      "cell_type": "code",
      "metadata": {
        "id": "IA5zN5qkZsyM",
        "colab_type": "code",
        "colab": {
          "base_uri": "https://localhost:8080/",
          "height": 219
        },
        "outputId": "d8edcc7b-6a40-465b-8252-1f726d6fdd67"
      },
      "source": [
        "history1 = model.fit(train_gen, validation_data= val_gen, epochs = 5, callbacks = es)"
      ],
      "execution_count": null,
      "outputs": [
        {
          "output_type": "stream",
          "text": [
            "Epoch 1/5\n",
            "200/200 [==============================] - 239s 1s/step - loss: 0.2934 - accuracy: 0.8428 - val_loss: 0.0997 - val_accuracy: 0.9665\n",
            "Epoch 2/5\n",
            "200/200 [==============================] - 235s 1s/step - loss: 0.2849 - accuracy: 0.8504 - val_loss: 0.0613 - val_accuracy: 0.9798\n",
            "Epoch 3/5\n",
            "200/200 [==============================] - 234s 1s/step - loss: 0.2821 - accuracy: 0.8532 - val_loss: 0.1092 - val_accuracy: 0.9624\n",
            "Epoch 4/5\n",
            "200/200 [==============================] - 234s 1s/step - loss: 0.2779 - accuracy: 0.8533 - val_loss: 0.0834 - val_accuracy: 0.9734\n",
            "Epoch 5/5\n",
            "200/200 [==============================] - 234s 1s/step - loss: 0.2739 - accuracy: 0.8541 - val_loss: 0.0750 - val_accuracy: 0.9751\n"
          ],
          "name": "stdout"
        }
      ]
    },
    {
      "cell_type": "code",
      "metadata": {
        "id": "HK5VL5oXr6Kl",
        "colab_type": "code",
        "colab": {
          "base_uri": "https://localhost:8080/",
          "height": 35
        },
        "outputId": "84808969-9e32-495a-cf89-796aa3b566ee"
      },
      "source": [
        "metrics = model.evaluate(test_gen)"
      ],
      "execution_count": null,
      "outputs": [
        {
          "output_type": "stream",
          "text": [
            "50/50 [==============================] - 41s 816ms/step - loss: 0.0677 - accuracy: 0.9732\n"
          ],
          "name": "stdout"
        }
      ]
    },
    {
      "cell_type": "code",
      "metadata": {
        "id": "MbPmQ5hShNPc",
        "colab_type": "code",
        "colab": {}
      },
      "source": [
        "model.trainable = True"
      ],
      "execution_count": null,
      "outputs": []
    },
    {
      "cell_type": "code",
      "metadata": {
        "id": "rdxh_zgEhKC_",
        "colab_type": "code",
        "colab": {}
      },
      "source": [
        "os.mkdir('/content/drive/My Drive/External Datasets/COVID19-Project/successful_models/model_checkpoints')"
      ],
      "execution_count": null,
      "outputs": []
    },
    {
      "cell_type": "code",
      "metadata": {
        "id": "QEieUqL0hWuu",
        "colab_type": "code",
        "colab": {}
      },
      "source": [
        "model.save('EfficientNet-L4-v1.h5')"
      ],
      "execution_count": null,
      "outputs": []
    },
    {
      "cell_type": "code",
      "metadata": {
        "id": "uc3kkol3hc9O",
        "colab_type": "code",
        "colab": {
          "base_uri": "https://localhost:8080/",
          "height": 219
        },
        "outputId": "f48d9f9c-a62c-4b63-91b2-482bd9e4e90e"
      },
      "source": [
        "history2 = model.fit(train_gen, validation_data= val_gen, epochs = 5, callbacks = es)"
      ],
      "execution_count": null,
      "outputs": [
        {
          "output_type": "stream",
          "text": [
            "Epoch 1/5\n",
            "200/200 [==============================] - 240s 1s/step - loss: 0.2753 - accuracy: 0.8525 - val_loss: 0.0558 - val_accuracy: 0.9805\n",
            "Epoch 2/5\n",
            "200/200 [==============================] - 241s 1s/step - loss: 0.2691 - accuracy: 0.8589 - val_loss: 0.0724 - val_accuracy: 0.9765\n",
            "Epoch 3/5\n",
            "200/200 [==============================] - 237s 1s/step - loss: 0.2702 - accuracy: 0.8548 - val_loss: 0.0657 - val_accuracy: 0.9776\n",
            "Epoch 4/5\n",
            "200/200 [==============================] - 238s 1s/step - loss: 0.2651 - accuracy: 0.8597 - val_loss: 0.0524 - val_accuracy: 0.9824\n",
            "Epoch 5/5\n",
            "200/200 [==============================] - 238s 1s/step - loss: 0.2653 - accuracy: 0.8611 - val_loss: 0.0688 - val_accuracy: 0.9775\n"
          ],
          "name": "stdout"
        }
      ]
    },
    {
      "cell_type": "code",
      "metadata": {
        "id": "oxp5BxzAmNtb",
        "colab_type": "code",
        "colab": {
          "base_uri": "https://localhost:8080/",
          "height": 54
        },
        "outputId": "0e4199f7-50c3-449f-acd8-31d67d575978"
      },
      "source": [
        "model.evaluate(test_gen)"
      ],
      "execution_count": null,
      "outputs": [
        {
          "output_type": "stream",
          "text": [
            "50/50 [==============================] - 42s 831ms/step - loss: 0.0569 - accuracy: 0.9795\n"
          ],
          "name": "stdout"
        },
        {
          "output_type": "execute_result",
          "data": {
            "text/plain": [
              "[0.05691893398761749, 0.9795146584510803]"
            ]
          },
          "metadata": {
            "tags": []
          },
          "execution_count": 39
        }
      ]
    },
    {
      "cell_type": "code",
      "metadata": {
        "id": "135ArRno6aJj",
        "colab_type": "code",
        "colab": {
          "base_uri": "https://localhost:8080/",
          "height": 573
        },
        "outputId": "3e9ebd1a-4ed3-4eff-8c2b-f2259040c17f"
      },
      "source": [
        "plt.plot(history1.history['accuracy'])\n",
        "plt.plot(history1.history['val_accuracy'])\n",
        "plt.title('Model Accuracy')\n",
        "plt.ylabel('Accuracy')\n",
        "plt.xlabel('Epoch')\n",
        "plt.legend(['Train','Test'], loc = 'upper left')\n",
        "plt.show()\n",
        "\n",
        "plt.plot(history1.history['loss'])\n",
        "plt.plot(history1.history['val_loss'])\n",
        "plt.title('Model Loss')\n",
        "plt.ylabel('loss')\n",
        "plt.xlabel('epoch')\n",
        "plt.legend(['Train', 'Test'], loc = 'upper left')\n",
        "plt.show()"
      ],
      "execution_count": null,
      "outputs": [
        {
          "output_type": "display_data",
          "data": {
            "image/png": "[encoded data removed]",
            "text/plain": [
              "<Figure size 432x288 with 1 Axes>"
            ]
          },
          "metadata": {
            "tags": [],
            "needs_background": "light"
          }
        },
        {
          "output_type": "display_data",
          "data": {
            "image/png": "[encoded data removed]",
            "text/plain": [
              "<Figure size 432x288 with 1 Axes>"
            ]
          },
          "metadata": {
            "tags": [],
            "needs_background": "light"
          }
        }
      ]
    },
    {
      "cell_type": "code",
      "metadata": {
        "id": "f0__bDOE8FSx",
        "colab_type": "code",
        "colab": {}
      },
      "source": [
        "os.chdir('/content/drive/My Drive/External Datasets/COVID19-Project/successful_models')\n",
        "model.save('EfficientNet-Lite4-v3.h5')"
      ],
      "execution_count": null,
      "outputs": []
    },
    {
      "cell_type": "markdown",
      "metadata": {
        "id": "ENufZ5bqJ1aW",
        "colab_type": "text"
      },
      "source": [
        "# Conversion to TFlite Model"
      ]
    },
    {
      "cell_type": "code",
      "metadata": {
        "id": "dqiPyXQZJ-zu",
        "colab_type": "code",
        "colab": {}
      },
      "source": [
        "data_aug = Sequential([\n",
        "  Resizing(img_height, img_width, interpolation= 'bilinear'),\n",
        "  Rescaling(1/255)\n",
        "], name = 'data_augmentation')"
      ],
      "execution_count": null,
      "outputs": []
    },
    {
      "cell_type": "code",
      "metadata": {
        "id": "U4onvCkAVyBT",
        "colab_type": "code",
        "colab": {}
      },
      "source": [
        "model.trainable = False"
      ],
      "execution_count": null,
      "outputs": []
    },
    {
      "cell_type": "code",
      "metadata": {
        "id": "cP09jpVZJ55_",
        "colab_type": "code",
        "colab": {}
      },
      "source": [
        "full_model = Sequential()\n",
        "full_model.add(data_aug)\n",
        "full_model.add(model)"
      ],
      "execution_count": null,
      "outputs": []
    },
    {
      "cell_type": "code",
      "metadata": {
        "id": "4KqJ-63QKNKa",
        "colab_type": "code",
        "colab": {}
      },
      "source": [
        "full_model.compile(loss = 'categorical_crossentropy', optimizer = Adam())"
      ],
      "execution_count": null,
      "outputs": []
    },
    {
      "cell_type": "code",
      "metadata": {
        "id": "MbAR67SIm1Fo",
        "colab_type": "code",
        "colab": {}
      },
      "source": [
        "full_model.fit(train_gen) #Necessary to build the model. Stopped early."
      ],
      "execution_count": null,
      "outputs": []
    },
    {
      "cell_type": "code",
      "metadata": {
        "id": "sJ8_rnAqKJSh",
        "colab_type": "code",
        "colab": {
          "base_uri": "https://localhost:8080/",
          "height": 54
        },
        "outputId": "2a18d0fe-5c03-4234-b9fe-481c97474d8f"
      },
      "source": [
        "converter = tf.lite.TFLiteConverter.from_keras_model(full_model)\n",
        "tflite_model = converter.convert()"
      ],
      "execution_count": null,
      "outputs": [
        {
          "output_type": "stream",
          "text": [
            "INFO:tensorflow:Assets written to: /tmp/tmpy3v8__u_/assets\n"
          ],
          "name": "stdout"
        },
        {
          "output_type": "stream",
          "text": [
            "INFO:tensorflow:Assets written to: /tmp/tmpy3v8__u_/assets\n"
          ],
          "name": "stderr"
        }
      ]
    },
    {
      "cell_type": "code",
      "metadata": {
        "id": "E-4AWwP-K7kY",
        "colab_type": "code",
        "colab": {}
      },
      "source": [
        "with open('COVID19-Model-v3.tflite', 'wb') as f:\n",
        "  f.write(tflite_model)"
      ],
      "execution_count": null,
      "outputs": []
    },
    {
      "cell_type": "markdown",
      "metadata": {
        "id": "awKA5l9p7wDN",
        "colab_type": "text"
      },
      "source": [
        "# Plotting the confusion matrix"
      ]
    },
    {
      "cell_type": "code",
      "metadata": {
        "id": "dcW7xuAfHyuZ",
        "colab_type": "code",
        "colab": {}
      },
      "source": [
        "model = load_model('/content/drive/My Drive/External Datasets/COVID19-Project/successful_models/Xception-v2.h5')"
      ],
      "execution_count": null,
      "outputs": []
    },
    {
      "cell_type": "code",
      "metadata": {
        "id": "5jNpx8tiITG5",
        "colab_type": "code",
        "colab": {
          "base_uri": "https://localhost:8080/",
          "height": 345
        },
        "outputId": "cf16ed89-5043-4099-fda1-c897e47a3f57"
      },
      "source": [
        "model.summary()"
      ],
      "execution_count": null,
      "outputs": [
        {
          "output_type": "stream",
          "text": [
            "Model: \"sequential\"\n",
            "_________________________________________________________________\n",
            "Layer (type)                 Output Shape              Param #   \n",
            "=================================================================\n",
            "keras_layer (KerasLayer)     (None, 1000)              13118936  \n",
            "_________________________________________________________________\n",
            "flatten (Flatten)            (None, 1000)              0         \n",
            "_________________________________________________________________\n",
            "dense (Dense)                (None, 512)               512512    \n",
            "_________________________________________________________________\n",
            "dropout (Dropout)            (None, 512)               0         \n",
            "_________________________________________________________________\n",
            "dense_1 (Dense)              (None, 3)                 1539      \n",
            "=================================================================\n",
            "Total params: 13,632,987\n",
            "Trainable params: 514,051\n",
            "Non-trainable params: 13,118,936\n",
            "_________________________________________________________________\n"
          ],
          "name": "stdout"
        }
      ]
    },
    {
      "cell_type": "code",
      "metadata": {
        "id": "sqTpAdB59r87",
        "colab_type": "code",
        "colab": {}
      },
      "source": [
        "predictions = model.predict(test_gen)"
      ],
      "execution_count": null,
      "outputs": []
    },
    {
      "cell_type": "code",
      "metadata": {
        "id": "gOTXWi-EIs5y",
        "colab_type": "code",
        "colab": {
          "base_uri": "https://localhost:8080/",
          "height": 145
        },
        "outputId": "642442e1-d1d6-4c8d-e9cc-5d2bd7ce3dcf"
      },
      "source": [
        "print(predictions)"
      ],
      "execution_count": null,
      "outputs": [
        {
          "output_type": "stream",
          "text": [
            "[[9.9883527e-01 1.1647776e-03 1.6515502e-08]\n",
            " [9.9984229e-01 1.0673636e-04 5.0854847e-05]\n",
            " [9.9995923e-01 4.0741015e-05 5.6047192e-08]\n",
            " ...\n",
            " [1.0513102e-09 2.2349550e-05 9.9997771e-01]\n",
            " [1.3789391e-09 2.4952024e-06 9.9999750e-01]\n",
            " [1.0949808e-09 1.4025403e-02 9.8597461e-01]]\n"
          ],
          "name": "stdout"
        }
      ]
    },
    {
      "cell_type": "code",
      "metadata": {
        "id": "Xz9lhBD69AIK",
        "colab_type": "code",
        "colab": {}
      },
      "source": [
        "rounded_predictions = np.argmax(predictions, axis =1)"
      ],
      "execution_count": null,
      "outputs": []
    },
    {
      "cell_type": "code",
      "metadata": {
        "id": "-jABwYgaI79n",
        "colab_type": "code",
        "colab": {}
      },
      "source": [
        "labels = test_gen.classes\n"
      ],
      "execution_count": null,
      "outputs": []
    },
    {
      "cell_type": "code",
      "metadata": {
        "id": "FMXCcAUK78GW",
        "colab_type": "code",
        "colab": {}
      },
      "source": [
        "from mlxtend.plotting import plot_confusion_matrix\n",
        "from sklearn.metrics import confusion_matrix\n"
      ],
      "execution_count": null,
      "outputs": []
    },
    {
      "cell_type": "code",
      "metadata": {
        "id": "u3wjb1Tl8DYL",
        "colab_type": "code",
        "colab": {
          "base_uri": "https://localhost:8080/",
          "height": 497
        },
        "outputId": "2b4bf3bc-93ae-4995-f967-30e16256a77e"
      },
      "source": [
        "cs = confusion_matrix(labels, rounded_predictions)\n",
        "cm = plot_confusion_matrix(conf_mat = cs, figsize =(8,8))"
      ],
      "execution_count": null,
      "outputs": [
        {
          "output_type": "display_data",
          "data": {
            "image/png": "[encoded data removed]",
            "text/plain": [
              "<Figure size 576x576 with 1 Axes>"
            ]
          },
          "metadata": {
            "tags": [],
            "needs_background": "light"
          }
        }
      ]
    }
  ]
}