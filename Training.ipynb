{
  "nbformat": 4,
  "nbformat_minor": 0,
  "metadata": {
    "colab": {
      "name": "Training.ipynb",
      "provenance": [],
      "authorship_tag": "ABX9TyOXx4wQM457mqabuPgu3wq6",
      "include_colab_link": true
    },
    "kernelspec": {
      "name": "python3",
      "display_name": "Python 3"
    },
    "accelerator": "GPU"
  },
  "cells": [
    {
      "cell_type": "markdown",
      "metadata": {
        "id": "view-in-github",
        "colab_type": "text"
      },
      "source": [
        "<a href=\"https://colab.research.google.com/github/xBrymer/COVID19-AI-CT-Scan-Detection/blob/master/Training.ipynb\" target=\"_parent\"><img src=\"https://colab.research.google.com/assets/colab-badge.svg\" alt=\"Open In Colab\"/></a>"
      ]
    },
    {
      "cell_type": "code",
      "metadata": {
        "id": "RBgCmwaMgWP5",
        "colab_type": "code",
        "colab": {
          "base_uri": "https://localhost:8080/",
          "height": 35
        },
        "outputId": "6ceb739e-574b-4bb6-9b4f-da5212ffc2d5"
      },
      "source": [
        "from google.colab import drive\n",
        "drive.mount('/content/drive', force_remount = True)"
      ],
      "execution_count": 1,
      "outputs": [
        {
          "output_type": "stream",
          "text": [
            "Mounted at /content/drive\n"
          ],
          "name": "stdout"
        }
      ]
    },
    {
      "cell_type": "code",
      "metadata": {
        "id": "v4nStRDcgjp1",
        "colab_type": "code",
        "colab": {}
      },
      "source": [
        "import tensorflow as tf\n",
        "import numpy as np\n",
        "import matplotlib.pyplot as plt\n",
        "import tensorflow_hub as hub\n",
        "\n",
        "import os\n",
        "import tqdm\n",
        "from os.path import join\n",
        "from zipfile import ZipFile\n",
        "\n",
        "from tensorflow.keras.models import Sequential, load_model, save_model\n",
        "from tensorflow.keras.layers import Dense, Flatten, Dropout, GlobalAveragePooling2D\n",
        "from tensorflow.keras.optimizers import Adam\n",
        "from tensorflow.keras import applications\n",
        "from tensorflow.keras.preprocessing.image import ImageDataGenerator\n",
        "\n",
        "from tensorflow.keras.callbacks import EarlyStopping\n",
        "\n"
      ],
      "execution_count": 13,
      "outputs": []
    },
    {
      "cell_type": "code",
      "metadata": {
        "id": "-pnXiBHPhfdH",
        "colab_type": "code",
        "colab": {}
      },
      "source": [
        "ds_path = '/content/drive/My Drive/External Datasets/COVID19-Project/Datasets/CT-Scan-split.zip'\n",
        "\n",
        "f =  ZipFile(ds_path, 'r')\n",
        "f.extractall('/content')"
      ],
      "execution_count": 4,
      "outputs": []
    },
    {
      "cell_type": "code",
      "metadata": {
        "id": "8CZo9TyvhxnU",
        "colab_type": "code",
        "colab": {}
      },
      "source": [
        "img_height = 512\n",
        "img_width = 512\n",
        "\n",
        "batch_size = 64\n",
        "\n",
        "test_dir = '/content/main/testing'\n",
        "train_dir = '/content/main/training'\n",
        "val_dir = '/content/main/validation'"
      ],
      "execution_count": 5,
      "outputs": []
    },
    {
      "cell_type": "code",
      "metadata": {
        "id": "fhb4IzQ2hWmS",
        "colab_type": "code",
        "colab": {
          "base_uri": "https://localhost:8080/",
          "height": 72
        },
        "outputId": "98e5f9fc-646a-4c4e-f1ca-1a41ad681fb2"
      },
      "source": [
        "datagen = ImageDataGenerator(rescale = 1/255)\n",
        "\n",
        "train_gen = datagen.flow_from_directory(\n",
        "    directory = train_dir,\n",
        "    shuffle = True,\n",
        "    target_size = (img_height, img_width),\n",
        "    batch_size = 64,\n",
        "    classes = ['covid', 'non-covid', 'non-informative']\n",
        ")\n",
        "\n",
        "val_gen = datagen.flow_from_directory(\n",
        "    directory = val_dir,\n",
        "    shuffle = True,\n",
        "    target_size = (img_height, img_width),\n",
        "    batch_size = 64,\n",
        "    classes = ['covid', 'non-covid', 'non-informative']\n",
        ")\n",
        "\n",
        "test_gen = datagen.flow_from_directory(\n",
        "    directory = test_dir,\n",
        "    shuffle = True,\n",
        "    target_size = (img_height, img_width),\n",
        "    batch_size = 64,\n",
        "    classes = ['covid', 'non-covid', 'non-informative']\n",
        ")\n",
        "\n"
      ],
      "execution_count": 10,
      "outputs": [
        {
          "output_type": "stream",
          "text": [
            "Found 11834 images belonging to 3 classes.\n",
            "Found 3771 images belonging to 3 classes.\n",
            "Found 1884 images belonging to 3 classes.\n"
          ],
          "name": "stdout"
        }
      ]
    },
    {
      "cell_type": "code",
      "metadata": {
        "id": "NjYAe38RiYwx",
        "colab_type": "code",
        "colab": {
          "base_uri": "https://localhost:8080/",
          "height": 74
        },
        "outputId": "65ae8a85-69d7-435a-e496-a75c600b560e"
      },
      "source": [
        "pretrained_model = tf.keras.applications.Xception(input_shape =(512,512,3), weights = 'imagenet', include_top = False)\n",
        "pretrained_model.trainable = False"
      ],
      "execution_count": 11,
      "outputs": [
        {
          "output_type": "stream",
          "text": [
            "Downloading data from https://storage.googleapis.com/tensorflow/keras-applications/xception/xception_weights_tf_dim_ordering_tf_kernels_notop.h5\n",
            "83689472/83683744 [==============================] - 1s 0us/step\n"
          ],
          "name": "stdout"
        }
      ]
    },
    {
      "cell_type": "code",
      "metadata": {
        "id": "40nffGIfixAb",
        "colab_type": "code",
        "colab": {}
      },
      "source": [
        "model = Sequential()\n",
        "model.add(pretrained_model)\n",
        "model.add(GlobalAveragePooling2D())\n",
        "model.add(Dense(256, activation = 'relu'))\n",
        "model.add(Dropout(.20))\n",
        "model.add(Dense(3, activation = 'softmax' ))"
      ],
      "execution_count": 25,
      "outputs": []
    },
    {
      "cell_type": "code",
      "metadata": {
        "id": "MQyufTisrJL5",
        "colab_type": "code",
        "colab": {}
      },
      "source": [
        "model.compile(loss = 'categorical_crossentropy',\n",
        "              optimizer = tf.keras.optimizers.Adamax(),\n",
        "              metrics = ['accuracy'])"
      ],
      "execution_count": 32,
      "outputs": []
    },
    {
      "cell_type": "code",
      "metadata": {
        "id": "O3hwh1yhrT-e",
        "colab_type": "code",
        "colab": {
          "base_uri": "https://localhost:8080/",
          "height": 54
        },
        "outputId": "f6744d17-51a6-4682-cd18-463a30a8ad8b"
      },
      "source": [
        "model.evaluate(test_gen)"
      ],
      "execution_count": 38,
      "outputs": [
        {
          "output_type": "stream",
          "text": [
            "30/30 [==============================] - 42s 1s/step - loss: 0.1898 - accuracy: 0.9220\n"
          ],
          "name": "stdout"
        },
        {
          "output_type": "execute_result",
          "data": {
            "text/plain": [
              "[0.18975605070590973, 0.9219745397567749]"
            ]
          },
          "metadata": {
            "tags": []
          },
          "execution_count": 38
        }
      ]
    },
    {
      "cell_type": "code",
      "metadata": {
        "id": "RFcPLiJ0rxuq",
        "colab_type": "code",
        "colab": {}
      },
      "source": [
        "for layer in pretrained_model.layers:\n",
        "  if 'block14' in layer.name:\n",
        "    layer.trainable = True"
      ],
      "execution_count": 31,
      "outputs": []
    },
    {
      "cell_type": "code",
      "metadata": {
        "id": "NKuDL7yesBpx",
        "colab_type": "code",
        "colab": {
          "base_uri": "https://localhost:8080/",
          "height": 110
        },
        "outputId": "714d445a-5b5c-4df0-a564-95462630d14a"
      },
      "source": [
        "hist = model.fit(train_gen, validation_data= val_gen, epochs = 3,\n",
        "                 callbacks = tf.keras.callbacks.EarlyStopping(monitor = 'val_loss', patience =1))"
      ],
      "execution_count": 36,
      "outputs": [
        {
          "output_type": "stream",
          "text": [
            "Epoch 1/3\n",
            "185/185 [==============================] - 341s 2s/step - loss: 0.2005 - accuracy: 0.9229 - val_loss: 0.1386 - val_accuracy: 0.9509\n",
            "Epoch 2/3\n",
            "185/185 [==============================] - 338s 2s/step - loss: 0.1604 - accuracy: 0.9408 - val_loss: 0.1781 - val_accuracy: 0.9308\n"
          ],
          "name": "stdout"
        }
      ]
    },
    {
      "cell_type": "code",
      "metadata": {
        "id": "s5cwHXlZuaMT",
        "colab_type": "code",
        "colab": {}
      },
      "source": [
        "os.chdir('/content/drive/My Drive/External Datasets/COVID19-Project/successful_models')\n",
        "model.save('Xception-v1.h5')"
      ],
      "execution_count": 37,
      "outputs": []
    }
  ]
}