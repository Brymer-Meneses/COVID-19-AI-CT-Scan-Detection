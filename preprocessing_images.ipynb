{
  "nbformat": 4,
  "nbformat_minor": 0,
  "metadata": {
    "colab": {
      "name": "preprocessing_images.ipynb",
      "provenance": [],
      "collapsed_sections": [],
      "toc_visible": true,
      "mount_file_id": "1nfrPWXCFL8AElQDlMy3t5X7tQuA1_C6Z",
      "authorship_tag": "ABX9TyPsOP7nqIbmR/lOEhcYJEcf",
      "include_colab_link": true
    },
    "kernelspec": {
      "name": "python3",
      "display_name": "Python 3"
    },
    "widgets": {
      "application/vnd.jupyter.widget-state+json": {
        "4fc5ae9c07254d1c9d0febb8ce1040b0": {
          "model_module": "@jupyter-widgets/controls",
          "model_name": "HBoxModel",
          "state": {
            "_view_name": "HBoxView",
            "_dom_classes": [],
            "_model_name": "HBoxModel",
            "_view_module": "@jupyter-widgets/controls",
            "_model_module_version": "1.5.0",
            "_view_count": null,
            "_view_module_version": "1.5.0",
            "box_style": "",
            "layout": "IPY_MODEL_11fca5ec7c714ebfba359db6a9b2003a",
            "_model_module": "@jupyter-widgets/controls",
            "children": [
              "IPY_MODEL_657b54af45304d0f8057c69e84db82e6",
              "IPY_MODEL_06be0b199ad045129dd69475cb640a4b"
            ]
          }
        },
        "11fca5ec7c714ebfba359db6a9b2003a": {
          "model_module": "@jupyter-widgets/base",
          "model_name": "LayoutModel",
          "state": {
            "_view_name": "LayoutView",
            "grid_template_rows": null,
            "right": null,
            "justify_content": null,
            "_view_module": "@jupyter-widgets/base",
            "overflow": null,
            "_model_module_version": "1.2.0",
            "_view_count": null,
            "flex_flow": null,
            "width": null,
            "min_width": null,
            "border": null,
            "align_items": null,
            "bottom": null,
            "_model_module": "@jupyter-widgets/base",
            "top": null,
            "grid_column": null,
            "overflow_y": null,
            "overflow_x": null,
            "grid_auto_flow": null,
            "grid_area": null,
            "grid_template_columns": null,
            "flex": null,
            "_model_name": "LayoutModel",
            "justify_items": null,
            "grid_row": null,
            "max_height": null,
            "align_content": null,
            "visibility": null,
            "align_self": null,
            "height": null,
            "min_height": null,
            "padding": null,
            "grid_auto_rows": null,
            "grid_gap": null,
            "max_width": null,
            "order": null,
            "_view_module_version": "1.2.0",
            "grid_template_areas": null,
            "object_position": null,
            "object_fit": null,
            "grid_auto_columns": null,
            "margin": null,
            "display": null,
            "left": null
          }
        },
        "657b54af45304d0f8057c69e84db82e6": {
          "model_module": "@jupyter-widgets/controls",
          "model_name": "FloatProgressModel",
          "state": {
            "_view_name": "ProgressView",
            "style": "IPY_MODEL_cf715267d75b4cc19a9754f2fef0f569",
            "_dom_classes": [],
            "description": "100%",
            "_model_name": "FloatProgressModel",
            "bar_style": "success",
            "max": 12058,
            "_view_module": "@jupyter-widgets/controls",
            "_model_module_version": "1.5.0",
            "value": 12058,
            "_view_count": null,
            "_view_module_version": "1.5.0",
            "orientation": "horizontal",
            "min": 0,
            "description_tooltip": null,
            "_model_module": "@jupyter-widgets/controls",
            "layout": "IPY_MODEL_d844d4490b0f4228bf62b5117203d5d3"
          }
        },
        "06be0b199ad045129dd69475cb640a4b": {
          "model_module": "@jupyter-widgets/controls",
          "model_name": "HTMLModel",
          "state": {
            "_view_name": "HTMLView",
            "style": "IPY_MODEL_6502fbe7f2ef41c99cea2a236224bc8b",
            "_dom_classes": [],
            "description": "",
            "_model_name": "HTMLModel",
            "placeholder": "​",
            "_view_module": "@jupyter-widgets/controls",
            "_model_module_version": "1.5.0",
            "value": " 12058/12058 [00:46&lt;00:00, 260.73it/s]",
            "_view_count": null,
            "_view_module_version": "1.5.0",
            "description_tooltip": null,
            "_model_module": "@jupyter-widgets/controls",
            "layout": "IPY_MODEL_a77a67c2e17144408d5833e2d5f61d06"
          }
        },
        "cf715267d75b4cc19a9754f2fef0f569": {
          "model_module": "@jupyter-widgets/controls",
          "model_name": "ProgressStyleModel",
          "state": {
            "_view_name": "StyleView",
            "_model_name": "ProgressStyleModel",
            "description_width": "initial",
            "_view_module": "@jupyter-widgets/base",
            "_model_module_version": "1.5.0",
            "_view_count": null,
            "_view_module_version": "1.2.0",
            "bar_color": null,
            "_model_module": "@jupyter-widgets/controls"
          }
        },
        "d844d4490b0f4228bf62b5117203d5d3": {
          "model_module": "@jupyter-widgets/base",
          "model_name": "LayoutModel",
          "state": {
            "_view_name": "LayoutView",
            "grid_template_rows": null,
            "right": null,
            "justify_content": null,
            "_view_module": "@jupyter-widgets/base",
            "overflow": null,
            "_model_module_version": "1.2.0",
            "_view_count": null,
            "flex_flow": null,
            "width": null,
            "min_width": null,
            "border": null,
            "align_items": null,
            "bottom": null,
            "_model_module": "@jupyter-widgets/base",
            "top": null,
            "grid_column": null,
            "overflow_y": null,
            "overflow_x": null,
            "grid_auto_flow": null,
            "grid_area": null,
            "grid_template_columns": null,
            "flex": null,
            "_model_name": "LayoutModel",
            "justify_items": null,
            "grid_row": null,
            "max_height": null,
            "align_content": null,
            "visibility": null,
            "align_self": null,
            "height": null,
            "min_height": null,
            "padding": null,
            "grid_auto_rows": null,
            "grid_gap": null,
            "max_width": null,
            "order": null,
            "_view_module_version": "1.2.0",
            "grid_template_areas": null,
            "object_position": null,
            "object_fit": null,
            "grid_auto_columns": null,
            "margin": null,
            "display": null,
            "left": null
          }
        },
        "6502fbe7f2ef41c99cea2a236224bc8b": {
          "model_module": "@jupyter-widgets/controls",
          "model_name": "DescriptionStyleModel",
          "state": {
            "_view_name": "StyleView",
            "_model_name": "DescriptionStyleModel",
            "description_width": "",
            "_view_module": "@jupyter-widgets/base",
            "_model_module_version": "1.5.0",
            "_view_count": null,
            "_view_module_version": "1.2.0",
            "_model_module": "@jupyter-widgets/controls"
          }
        },
        "a77a67c2e17144408d5833e2d5f61d06": {
          "model_module": "@jupyter-widgets/base",
          "model_name": "LayoutModel",
          "state": {
            "_view_name": "LayoutView",
            "grid_template_rows": null,
            "right": null,
            "justify_content": null,
            "_view_module": "@jupyter-widgets/base",
            "overflow": null,
            "_model_module_version": "1.2.0",
            "_view_count": null,
            "flex_flow": null,
            "width": null,
            "min_width": null,
            "border": null,
            "align_items": null,
            "bottom": null,
            "_model_module": "@jupyter-widgets/base",
            "top": null,
            "grid_column": null,
            "overflow_y": null,
            "overflow_x": null,
            "grid_auto_flow": null,
            "grid_area": null,
            "grid_template_columns": null,
            "flex": null,
            "_model_name": "LayoutModel",
            "justify_items": null,
            "grid_row": null,
            "max_height": null,
            "align_content": null,
            "visibility": null,
            "align_self": null,
            "height": null,
            "min_height": null,
            "padding": null,
            "grid_auto_rows": null,
            "grid_gap": null,
            "max_width": null,
            "order": null,
            "_view_module_version": "1.2.0",
            "grid_template_areas": null,
            "object_position": null,
            "object_fit": null,
            "grid_auto_columns": null,
            "margin": null,
            "display": null,
            "left": null
          }
        },
        "5a9fc72e18e94d398985b83d5dc65048": {
          "model_module": "@jupyter-widgets/controls",
          "model_name": "HBoxModel",
          "state": {
            "_view_name": "HBoxView",
            "_dom_classes": [],
            "_model_name": "HBoxModel",
            "_view_module": "@jupyter-widgets/controls",
            "_model_module_version": "1.5.0",
            "_view_count": null,
            "_view_module_version": "1.5.0",
            "box_style": "",
            "layout": "IPY_MODEL_f91005ce69af43338422bd7482c3f94d",
            "_model_module": "@jupyter-widgets/controls",
            "children": [
              "IPY_MODEL_323bcf4aa7fb4f6f93492f175ff795ab",
              "IPY_MODEL_145481467720406c939613bbbaa083ff"
            ]
          }
        },
        "f91005ce69af43338422bd7482c3f94d": {
          "model_module": "@jupyter-widgets/base",
          "model_name": "LayoutModel",
          "state": {
            "_view_name": "LayoutView",
            "grid_template_rows": null,
            "right": null,
            "justify_content": null,
            "_view_module": "@jupyter-widgets/base",
            "overflow": null,
            "_model_module_version": "1.2.0",
            "_view_count": null,
            "flex_flow": null,
            "width": null,
            "min_width": null,
            "border": null,
            "align_items": null,
            "bottom": null,
            "_model_module": "@jupyter-widgets/base",
            "top": null,
            "grid_column": null,
            "overflow_y": null,
            "overflow_x": null,
            "grid_auto_flow": null,
            "grid_area": null,
            "grid_template_columns": null,
            "flex": null,
            "_model_name": "LayoutModel",
            "justify_items": null,
            "grid_row": null,
            "max_height": null,
            "align_content": null,
            "visibility": null,
            "align_self": null,
            "height": null,
            "min_height": null,
            "padding": null,
            "grid_auto_rows": null,
            "grid_gap": null,
            "max_width": null,
            "order": null,
            "_view_module_version": "1.2.0",
            "grid_template_areas": null,
            "object_position": null,
            "object_fit": null,
            "grid_auto_columns": null,
            "margin": null,
            "display": null,
            "left": null
          }
        },
        "323bcf4aa7fb4f6f93492f175ff795ab": {
          "model_module": "@jupyter-widgets/controls",
          "model_name": "FloatProgressModel",
          "state": {
            "_view_name": "ProgressView",
            "style": "IPY_MODEL_e80c328032c04a0e9d3838cd5276bdcb",
            "_dom_classes": [],
            "description": "100%",
            "_model_name": "FloatProgressModel",
            "bar_style": "success",
            "max": 7494,
            "_view_module": "@jupyter-widgets/controls",
            "_model_module_version": "1.5.0",
            "value": 7494,
            "_view_count": null,
            "_view_module_version": "1.5.0",
            "orientation": "horizontal",
            "min": 0,
            "description_tooltip": null,
            "_model_module": "@jupyter-widgets/controls",
            "layout": "IPY_MODEL_152a197948c8482d95fbf7dd45cc16e6"
          }
        },
        "145481467720406c939613bbbaa083ff": {
          "model_module": "@jupyter-widgets/controls",
          "model_name": "HTMLModel",
          "state": {
            "_view_name": "HTMLView",
            "style": "IPY_MODEL_de5d78dd7b8241f5ae0f3c6882a7ef5f",
            "_dom_classes": [],
            "description": "",
            "_model_name": "HTMLModel",
            "placeholder": "​",
            "_view_module": "@jupyter-widgets/controls",
            "_model_module_version": "1.5.0",
            "value": " 7494/7494 [00:40&lt;00:00, 186.15it/s]",
            "_view_count": null,
            "_view_module_version": "1.5.0",
            "description_tooltip": null,
            "_model_module": "@jupyter-widgets/controls",
            "layout": "IPY_MODEL_740c1ec06d5f40388fb979e9aab4ddef"
          }
        },
        "e80c328032c04a0e9d3838cd5276bdcb": {
          "model_module": "@jupyter-widgets/controls",
          "model_name": "ProgressStyleModel",
          "state": {
            "_view_name": "StyleView",
            "_model_name": "ProgressStyleModel",
            "description_width": "initial",
            "_view_module": "@jupyter-widgets/base",
            "_model_module_version": "1.5.0",
            "_view_count": null,
            "_view_module_version": "1.2.0",
            "bar_color": null,
            "_model_module": "@jupyter-widgets/controls"
          }
        },
        "152a197948c8482d95fbf7dd45cc16e6": {
          "model_module": "@jupyter-widgets/base",
          "model_name": "LayoutModel",
          "state": {
            "_view_name": "LayoutView",
            "grid_template_rows": null,
            "right": null,
            "justify_content": null,
            "_view_module": "@jupyter-widgets/base",
            "overflow": null,
            "_model_module_version": "1.2.0",
            "_view_count": null,
            "flex_flow": null,
            "width": null,
            "min_width": null,
            "border": null,
            "align_items": null,
            "bottom": null,
            "_model_module": "@jupyter-widgets/base",
            "top": null,
            "grid_column": null,
            "overflow_y": null,
            "overflow_x": null,
            "grid_auto_flow": null,
            "grid_area": null,
            "grid_template_columns": null,
            "flex": null,
            "_model_name": "LayoutModel",
            "justify_items": null,
            "grid_row": null,
            "max_height": null,
            "align_content": null,
            "visibility": null,
            "align_self": null,
            "height": null,
            "min_height": null,
            "padding": null,
            "grid_auto_rows": null,
            "grid_gap": null,
            "max_width": null,
            "order": null,
            "_view_module_version": "1.2.0",
            "grid_template_areas": null,
            "object_position": null,
            "object_fit": null,
            "grid_auto_columns": null,
            "margin": null,
            "display": null,
            "left": null
          }
        },
        "de5d78dd7b8241f5ae0f3c6882a7ef5f": {
          "model_module": "@jupyter-widgets/controls",
          "model_name": "DescriptionStyleModel",
          "state": {
            "_view_name": "StyleView",
            "_model_name": "DescriptionStyleModel",
            "description_width": "",
            "_view_module": "@jupyter-widgets/base",
            "_model_module_version": "1.5.0",
            "_view_count": null,
            "_view_module_version": "1.2.0",
            "_model_module": "@jupyter-widgets/controls"
          }
        },
        "740c1ec06d5f40388fb979e9aab4ddef": {
          "model_module": "@jupyter-widgets/base",
          "model_name": "LayoutModel",
          "state": {
            "_view_name": "LayoutView",
            "grid_template_rows": null,
            "right": null,
            "justify_content": null,
            "_view_module": "@jupyter-widgets/base",
            "overflow": null,
            "_model_module_version": "1.2.0",
            "_view_count": null,
            "flex_flow": null,
            "width": null,
            "min_width": null,
            "border": null,
            "align_items": null,
            "bottom": null,
            "_model_module": "@jupyter-widgets/base",
            "top": null,
            "grid_column": null,
            "overflow_y": null,
            "overflow_x": null,
            "grid_auto_flow": null,
            "grid_area": null,
            "grid_template_columns": null,
            "flex": null,
            "_model_name": "LayoutModel",
            "justify_items": null,
            "grid_row": null,
            "max_height": null,
            "align_content": null,
            "visibility": null,
            "align_self": null,
            "height": null,
            "min_height": null,
            "padding": null,
            "grid_auto_rows": null,
            "grid_gap": null,
            "max_width": null,
            "order": null,
            "_view_module_version": "1.2.0",
            "grid_template_areas": null,
            "object_position": null,
            "object_fit": null,
            "grid_auto_columns": null,
            "margin": null,
            "display": null,
            "left": null
          }
        },
        "14ded279526c4b01bc4dec6f77035135": {
          "model_module": "@jupyter-widgets/controls",
          "model_name": "HBoxModel",
          "state": {
            "_view_name": "HBoxView",
            "_dom_classes": [],
            "_model_name": "HBoxModel",
            "_view_module": "@jupyter-widgets/controls",
            "_model_module_version": "1.5.0",
            "_view_count": null,
            "_view_module_version": "1.5.0",
            "box_style": "",
            "layout": "IPY_MODEL_befe275aa9514174a157515ffed2f17c",
            "_model_module": "@jupyter-widgets/controls",
            "children": [
              "IPY_MODEL_9ccfb22c8c894d968cef089433036d0c",
              "IPY_MODEL_186f31d60e9e402d8ab8105476955d1b"
            ]
          }
        },
        "befe275aa9514174a157515ffed2f17c": {
          "model_module": "@jupyter-widgets/base",
          "model_name": "LayoutModel",
          "state": {
            "_view_name": "LayoutView",
            "grid_template_rows": null,
            "right": null,
            "justify_content": null,
            "_view_module": "@jupyter-widgets/base",
            "overflow": null,
            "_model_module_version": "1.2.0",
            "_view_count": null,
            "flex_flow": null,
            "width": null,
            "min_width": null,
            "border": null,
            "align_items": null,
            "bottom": null,
            "_model_module": "@jupyter-widgets/base",
            "top": null,
            "grid_column": null,
            "overflow_y": null,
            "overflow_x": null,
            "grid_auto_flow": null,
            "grid_area": null,
            "grid_template_columns": null,
            "flex": null,
            "_model_name": "LayoutModel",
            "justify_items": null,
            "grid_row": null,
            "max_height": null,
            "align_content": null,
            "visibility": null,
            "align_self": null,
            "height": null,
            "min_height": null,
            "padding": null,
            "grid_auto_rows": null,
            "grid_gap": null,
            "max_width": null,
            "order": null,
            "_view_module_version": "1.2.0",
            "grid_template_areas": null,
            "object_position": null,
            "object_fit": null,
            "grid_auto_columns": null,
            "margin": null,
            "display": null,
            "left": null
          }
        },
        "9ccfb22c8c894d968cef089433036d0c": {
          "model_module": "@jupyter-widgets/controls",
          "model_name": "FloatProgressModel",
          "state": {
            "_view_name": "ProgressView",
            "style": "IPY_MODEL_98cfa517bcde4ddd8d3ef3da4b1f19cc",
            "_dom_classes": [],
            "description": "100%",
            "_model_name": "FloatProgressModel",
            "bar_style": "success",
            "max": 2282,
            "_view_module": "@jupyter-widgets/controls",
            "_model_module_version": "1.5.0",
            "value": 2282,
            "_view_count": null,
            "_view_module_version": "1.5.0",
            "orientation": "horizontal",
            "min": 0,
            "description_tooltip": null,
            "_model_module": "@jupyter-widgets/controls",
            "layout": "IPY_MODEL_a74cabf33eb24a2b8fa172141de1c1e7"
          }
        },
        "186f31d60e9e402d8ab8105476955d1b": {
          "model_module": "@jupyter-widgets/controls",
          "model_name": "HTMLModel",
          "state": {
            "_view_name": "HTMLView",
            "style": "IPY_MODEL_13766d0151f0472398f88e8dc2fe6673",
            "_dom_classes": [],
            "description": "",
            "_model_name": "HTMLModel",
            "placeholder": "​",
            "_view_module": "@jupyter-widgets/controls",
            "_model_module_version": "1.5.0",
            "value": " 2282/2282 [22:25&lt;00:00,  1.70it/s]",
            "_view_count": null,
            "_view_module_version": "1.5.0",
            "description_tooltip": null,
            "_model_module": "@jupyter-widgets/controls",
            "layout": "IPY_MODEL_fc1985899afb4d6198e101d7ec1ce90d"
          }
        },
        "98cfa517bcde4ddd8d3ef3da4b1f19cc": {
          "model_module": "@jupyter-widgets/controls",
          "model_name": "ProgressStyleModel",
          "state": {
            "_view_name": "StyleView",
            "_model_name": "ProgressStyleModel",
            "description_width": "initial",
            "_view_module": "@jupyter-widgets/base",
            "_model_module_version": "1.5.0",
            "_view_count": null,
            "_view_module_version": "1.2.0",
            "bar_color": null,
            "_model_module": "@jupyter-widgets/controls"
          }
        },
        "a74cabf33eb24a2b8fa172141de1c1e7": {
          "model_module": "@jupyter-widgets/base",
          "model_name": "LayoutModel",
          "state": {
            "_view_name": "LayoutView",
            "grid_template_rows": null,
            "right": null,
            "justify_content": null,
            "_view_module": "@jupyter-widgets/base",
            "overflow": null,
            "_model_module_version": "1.2.0",
            "_view_count": null,
            "flex_flow": null,
            "width": null,
            "min_width": null,
            "border": null,
            "align_items": null,
            "bottom": null,
            "_model_module": "@jupyter-widgets/base",
            "top": null,
            "grid_column": null,
            "overflow_y": null,
            "overflow_x": null,
            "grid_auto_flow": null,
            "grid_area": null,
            "grid_template_columns": null,
            "flex": null,
            "_model_name": "LayoutModel",
            "justify_items": null,
            "grid_row": null,
            "max_height": null,
            "align_content": null,
            "visibility": null,
            "align_self": null,
            "height": null,
            "min_height": null,
            "padding": null,
            "grid_auto_rows": null,
            "grid_gap": null,
            "max_width": null,
            "order": null,
            "_view_module_version": "1.2.0",
            "grid_template_areas": null,
            "object_position": null,
            "object_fit": null,
            "grid_auto_columns": null,
            "margin": null,
            "display": null,
            "left": null
          }
        },
        "13766d0151f0472398f88e8dc2fe6673": {
          "model_module": "@jupyter-widgets/controls",
          "model_name": "DescriptionStyleModel",
          "state": {
            "_view_name": "StyleView",
            "_model_name": "DescriptionStyleModel",
            "description_width": "",
            "_view_module": "@jupyter-widgets/base",
            "_model_module_version": "1.5.0",
            "_view_count": null,
            "_view_module_version": "1.2.0",
            "_model_module": "@jupyter-widgets/controls"
          }
        },
        "fc1985899afb4d6198e101d7ec1ce90d": {
          "model_module": "@jupyter-widgets/base",
          "model_name": "LayoutModel",
          "state": {
            "_view_name": "LayoutView",
            "grid_template_rows": null,
            "right": null,
            "justify_content": null,
            "_view_module": "@jupyter-widgets/base",
            "overflow": null,
            "_model_module_version": "1.2.0",
            "_view_count": null,
            "flex_flow": null,
            "width": null,
            "min_width": null,
            "border": null,
            "align_items": null,
            "bottom": null,
            "_model_module": "@jupyter-widgets/base",
            "top": null,
            "grid_column": null,
            "overflow_y": null,
            "overflow_x": null,
            "grid_auto_flow": null,
            "grid_area": null,
            "grid_template_columns": null,
            "flex": null,
            "_model_name": "LayoutModel",
            "justify_items": null,
            "grid_row": null,
            "max_height": null,
            "align_content": null,
            "visibility": null,
            "align_self": null,
            "height": null,
            "min_height": null,
            "padding": null,
            "grid_auto_rows": null,
            "grid_gap": null,
            "max_width": null,
            "order": null,
            "_view_module_version": "1.2.0",
            "grid_template_areas": null,
            "object_position": null,
            "object_fit": null,
            "grid_auto_columns": null,
            "margin": null,
            "display": null,
            "left": null
          }
        },
        "a3711be4f69048dface6834861f09cb4": {
          "model_module": "@jupyter-widgets/controls",
          "model_name": "HBoxModel",
          "state": {
            "_view_name": "HBoxView",
            "_dom_classes": [],
            "_model_name": "HBoxModel",
            "_view_module": "@jupyter-widgets/controls",
            "_model_module_version": "1.5.0",
            "_view_count": null,
            "_view_module_version": "1.5.0",
            "box_style": "",
            "layout": "IPY_MODEL_27644d991bdb45a497a89778b08d3660",
            "_model_module": "@jupyter-widgets/controls",
            "children": [
              "IPY_MODEL_09cb38ff636540a48a4800d8110de02d",
              "IPY_MODEL_034e33c258ee458385e1667328f96f07"
            ]
          }
        },
        "27644d991bdb45a497a89778b08d3660": {
          "model_module": "@jupyter-widgets/base",
          "model_name": "LayoutModel",
          "state": {
            "_view_name": "LayoutView",
            "grid_template_rows": null,
            "right": null,
            "justify_content": null,
            "_view_module": "@jupyter-widgets/base",
            "overflow": null,
            "_model_module_version": "1.2.0",
            "_view_count": null,
            "flex_flow": null,
            "width": null,
            "min_width": null,
            "border": null,
            "align_items": null,
            "bottom": null,
            "_model_module": "@jupyter-widgets/base",
            "top": null,
            "grid_column": null,
            "overflow_y": null,
            "overflow_x": null,
            "grid_auto_flow": null,
            "grid_area": null,
            "grid_template_columns": null,
            "flex": null,
            "_model_name": "LayoutModel",
            "justify_items": null,
            "grid_row": null,
            "max_height": null,
            "align_content": null,
            "visibility": null,
            "align_self": null,
            "height": null,
            "min_height": null,
            "padding": null,
            "grid_auto_rows": null,
            "grid_gap": null,
            "max_width": null,
            "order": null,
            "_view_module_version": "1.2.0",
            "grid_template_areas": null,
            "object_position": null,
            "object_fit": null,
            "grid_auto_columns": null,
            "margin": null,
            "display": null,
            "left": null
          }
        },
        "09cb38ff636540a48a4800d8110de02d": {
          "model_module": "@jupyter-widgets/controls",
          "model_name": "FloatProgressModel",
          "state": {
            "_view_name": "ProgressView",
            "style": "IPY_MODEL_5f1ede11ce7c48a281c5a8c49233d45b",
            "_dom_classes": [],
            "description": "100%",
            "_model_name": "FloatProgressModel",
            "bar_style": "success",
            "max": 2282,
            "_view_module": "@jupyter-widgets/controls",
            "_model_module_version": "1.5.0",
            "value": 2282,
            "_view_count": null,
            "_view_module_version": "1.5.0",
            "orientation": "horizontal",
            "min": 0,
            "description_tooltip": null,
            "_model_module": "@jupyter-widgets/controls",
            "layout": "IPY_MODEL_d5d49e4eddae477ea8f80c9d33f62822"
          }
        },
        "034e33c258ee458385e1667328f96f07": {
          "model_module": "@jupyter-widgets/controls",
          "model_name": "HTMLModel",
          "state": {
            "_view_name": "HTMLView",
            "style": "IPY_MODEL_8509ea575e84411ebb1ea7a45db319df",
            "_dom_classes": [],
            "description": "",
            "_model_name": "HTMLModel",
            "placeholder": "​",
            "_view_module": "@jupyter-widgets/controls",
            "_model_module_version": "1.5.0",
            "value": " 2282/2282 [03:25&lt;00:00, 11.10it/s]",
            "_view_count": null,
            "_view_module_version": "1.5.0",
            "description_tooltip": null,
            "_model_module": "@jupyter-widgets/controls",
            "layout": "IPY_MODEL_c357855469da4f0a94c33cbd01a2d257"
          }
        },
        "5f1ede11ce7c48a281c5a8c49233d45b": {
          "model_module": "@jupyter-widgets/controls",
          "model_name": "ProgressStyleModel",
          "state": {
            "_view_name": "StyleView",
            "_model_name": "ProgressStyleModel",
            "description_width": "initial",
            "_view_module": "@jupyter-widgets/base",
            "_model_module_version": "1.5.0",
            "_view_count": null,
            "_view_module_version": "1.2.0",
            "bar_color": null,
            "_model_module": "@jupyter-widgets/controls"
          }
        },
        "d5d49e4eddae477ea8f80c9d33f62822": {
          "model_module": "@jupyter-widgets/base",
          "model_name": "LayoutModel",
          "state": {
            "_view_name": "LayoutView",
            "grid_template_rows": null,
            "right": null,
            "justify_content": null,
            "_view_module": "@jupyter-widgets/base",
            "overflow": null,
            "_model_module_version": "1.2.0",
            "_view_count": null,
            "flex_flow": null,
            "width": null,
            "min_width": null,
            "border": null,
            "align_items": null,
            "bottom": null,
            "_model_module": "@jupyter-widgets/base",
            "top": null,
            "grid_column": null,
            "overflow_y": null,
            "overflow_x": null,
            "grid_auto_flow": null,
            "grid_area": null,
            "grid_template_columns": null,
            "flex": null,
            "_model_name": "LayoutModel",
            "justify_items": null,
            "grid_row": null,
            "max_height": null,
            "align_content": null,
            "visibility": null,
            "align_self": null,
            "height": null,
            "min_height": null,
            "padding": null,
            "grid_auto_rows": null,
            "grid_gap": null,
            "max_width": null,
            "order": null,
            "_view_module_version": "1.2.0",
            "grid_template_areas": null,
            "object_position": null,
            "object_fit": null,
            "grid_auto_columns": null,
            "margin": null,
            "display": null,
            "left": null
          }
        },
        "8509ea575e84411ebb1ea7a45db319df": {
          "model_module": "@jupyter-widgets/controls",
          "model_name": "DescriptionStyleModel",
          "state": {
            "_view_name": "StyleView",
            "_model_name": "DescriptionStyleModel",
            "description_width": "",
            "_view_module": "@jupyter-widgets/base",
            "_model_module_version": "1.5.0",
            "_view_count": null,
            "_view_module_version": "1.2.0",
            "_model_module": "@jupyter-widgets/controls"
          }
        },
        "c357855469da4f0a94c33cbd01a2d257": {
          "model_module": "@jupyter-widgets/base",
          "model_name": "LayoutModel",
          "state": {
            "_view_name": "LayoutView",
            "grid_template_rows": null,
            "right": null,
            "justify_content": null,
            "_view_module": "@jupyter-widgets/base",
            "overflow": null,
            "_model_module_version": "1.2.0",
            "_view_count": null,
            "flex_flow": null,
            "width": null,
            "min_width": null,
            "border": null,
            "align_items": null,
            "bottom": null,
            "_model_module": "@jupyter-widgets/base",
            "top": null,
            "grid_column": null,
            "overflow_y": null,
            "overflow_x": null,
            "grid_auto_flow": null,
            "grid_area": null,
            "grid_template_columns": null,
            "flex": null,
            "_model_name": "LayoutModel",
            "justify_items": null,
            "grid_row": null,
            "max_height": null,
            "align_content": null,
            "visibility": null,
            "align_self": null,
            "height": null,
            "min_height": null,
            "padding": null,
            "grid_auto_rows": null,
            "grid_gap": null,
            "max_width": null,
            "order": null,
            "_view_module_version": "1.2.0",
            "grid_template_areas": null,
            "object_position": null,
            "object_fit": null,
            "grid_auto_columns": null,
            "margin": null,
            "display": null,
            "left": null
          }
        },
        "beedd8f798534876933e53fccf6f4688": {
          "model_module": "@jupyter-widgets/controls",
          "model_name": "HBoxModel",
          "state": {
            "_view_name": "HBoxView",
            "_dom_classes": [],
            "_model_name": "HBoxModel",
            "_view_module": "@jupyter-widgets/controls",
            "_model_module_version": "1.5.0",
            "_view_count": null,
            "_view_module_version": "1.5.0",
            "box_style": "",
            "layout": "IPY_MODEL_b972ae92ff7147108ac5426281926487",
            "_model_module": "@jupyter-widgets/controls",
            "children": [
              "IPY_MODEL_9c68fd7bfa2b4dbb9e7813e5aa68054e",
              "IPY_MODEL_f23af6a56c68431fa38dd26cd52f6e45"
            ]
          }
        },
        "b972ae92ff7147108ac5426281926487": {
          "model_module": "@jupyter-widgets/base",
          "model_name": "LayoutModel",
          "state": {
            "_view_name": "LayoutView",
            "grid_template_rows": null,
            "right": null,
            "justify_content": null,
            "_view_module": "@jupyter-widgets/base",
            "overflow": null,
            "_model_module_version": "1.2.0",
            "_view_count": null,
            "flex_flow": null,
            "width": null,
            "min_width": null,
            "border": null,
            "align_items": null,
            "bottom": null,
            "_model_module": "@jupyter-widgets/base",
            "top": null,
            "grid_column": null,
            "overflow_y": null,
            "overflow_x": null,
            "grid_auto_flow": null,
            "grid_area": null,
            "grid_template_columns": null,
            "flex": null,
            "_model_name": "LayoutModel",
            "justify_items": null,
            "grid_row": null,
            "max_height": null,
            "align_content": null,
            "visibility": null,
            "align_self": null,
            "height": null,
            "min_height": null,
            "padding": null,
            "grid_auto_rows": null,
            "grid_gap": null,
            "max_width": null,
            "order": null,
            "_view_module_version": "1.2.0",
            "grid_template_areas": null,
            "object_position": null,
            "object_fit": null,
            "grid_auto_columns": null,
            "margin": null,
            "display": null,
            "left": null
          }
        },
        "9c68fd7bfa2b4dbb9e7813e5aa68054e": {
          "model_module": "@jupyter-widgets/controls",
          "model_name": "FloatProgressModel",
          "state": {
            "_view_name": "ProgressView",
            "style": "IPY_MODEL_c4a4e7f8e06144418b68d0e3a5f39a74",
            "_dom_classes": [],
            "description": "100%",
            "_model_name": "FloatProgressModel",
            "bar_style": "success",
            "max": 4564,
            "_view_module": "@jupyter-widgets/controls",
            "_model_module_version": "1.5.0",
            "value": 4564,
            "_view_count": null,
            "_view_module_version": "1.5.0",
            "orientation": "horizontal",
            "min": 0,
            "description_tooltip": null,
            "_model_module": "@jupyter-widgets/controls",
            "layout": "IPY_MODEL_b251ebdc75fb47bea4bbff94f2ecf5b1"
          }
        },
        "f23af6a56c68431fa38dd26cd52f6e45": {
          "model_module": "@jupyter-widgets/controls",
          "model_name": "HTMLModel",
          "state": {
            "_view_name": "HTMLView",
            "style": "IPY_MODEL_e3115110bb7641e095828c1221996d42",
            "_dom_classes": [],
            "description": "",
            "_model_name": "HTMLModel",
            "placeholder": "​",
            "_view_module": "@jupyter-widgets/controls",
            "_model_module_version": "1.5.0",
            "value": " 4564/4564 [00:02&lt;00:00, 1612.83it/s]",
            "_view_count": null,
            "_view_module_version": "1.5.0",
            "description_tooltip": null,
            "_model_module": "@jupyter-widgets/controls",
            "layout": "IPY_MODEL_8307b018ef384bd49e516dd288d2bca4"
          }
        },
        "c4a4e7f8e06144418b68d0e3a5f39a74": {
          "model_module": "@jupyter-widgets/controls",
          "model_name": "ProgressStyleModel",
          "state": {
            "_view_name": "StyleView",
            "_model_name": "ProgressStyleModel",
            "description_width": "initial",
            "_view_module": "@jupyter-widgets/base",
            "_model_module_version": "1.5.0",
            "_view_count": null,
            "_view_module_version": "1.2.0",
            "bar_color": null,
            "_model_module": "@jupyter-widgets/controls"
          }
        },
        "b251ebdc75fb47bea4bbff94f2ecf5b1": {
          "model_module": "@jupyter-widgets/base",
          "model_name": "LayoutModel",
          "state": {
            "_view_name": "LayoutView",
            "grid_template_rows": null,
            "right": null,
            "justify_content": null,
            "_view_module": "@jupyter-widgets/base",
            "overflow": null,
            "_model_module_version": "1.2.0",
            "_view_count": null,
            "flex_flow": null,
            "width": null,
            "min_width": null,
            "border": null,
            "align_items": null,
            "bottom": null,
            "_model_module": "@jupyter-widgets/base",
            "top": null,
            "grid_column": null,
            "overflow_y": null,
            "overflow_x": null,
            "grid_auto_flow": null,
            "grid_area": null,
            "grid_template_columns": null,
            "flex": null,
            "_model_name": "LayoutModel",
            "justify_items": null,
            "grid_row": null,
            "max_height": null,
            "align_content": null,
            "visibility": null,
            "align_self": null,
            "height": null,
            "min_height": null,
            "padding": null,
            "grid_auto_rows": null,
            "grid_gap": null,
            "max_width": null,
            "order": null,
            "_view_module_version": "1.2.0",
            "grid_template_areas": null,
            "object_position": null,
            "object_fit": null,
            "grid_auto_columns": null,
            "margin": null,
            "display": null,
            "left": null
          }
        },
        "e3115110bb7641e095828c1221996d42": {
          "model_module": "@jupyter-widgets/controls",
          "model_name": "DescriptionStyleModel",
          "state": {
            "_view_name": "StyleView",
            "_model_name": "DescriptionStyleModel",
            "description_width": "",
            "_view_module": "@jupyter-widgets/base",
            "_model_module_version": "1.5.0",
            "_view_count": null,
            "_view_module_version": "1.2.0",
            "_model_module": "@jupyter-widgets/controls"
          }
        },
        "8307b018ef384bd49e516dd288d2bca4": {
          "model_module": "@jupyter-widgets/base",
          "model_name": "LayoutModel",
          "state": {
            "_view_name": "LayoutView",
            "grid_template_rows": null,
            "right": null,
            "justify_content": null,
            "_view_module": "@jupyter-widgets/base",
            "overflow": null,
            "_model_module_version": "1.2.0",
            "_view_count": null,
            "flex_flow": null,
            "width": null,
            "min_width": null,
            "border": null,
            "align_items": null,
            "bottom": null,
            "_model_module": "@jupyter-widgets/base",
            "top": null,
            "grid_column": null,
            "overflow_y": null,
            "overflow_x": null,
            "grid_auto_flow": null,
            "grid_area": null,
            "grid_template_columns": null,
            "flex": null,
            "_model_name": "LayoutModel",
            "justify_items": null,
            "grid_row": null,
            "max_height": null,
            "align_content": null,
            "visibility": null,
            "align_self": null,
            "height": null,
            "min_height": null,
            "padding": null,
            "grid_auto_rows": null,
            "grid_gap": null,
            "max_width": null,
            "order": null,
            "_view_module_version": "1.2.0",
            "grid_template_areas": null,
            "object_position": null,
            "object_fit": null,
            "grid_auto_columns": null,
            "margin": null,
            "display": null,
            "left": null
          }
        },
        "6d1952a3f4ad49b9a0947105c2b602fd": {
          "model_module": "@jupyter-widgets/controls",
          "model_name": "HBoxModel",
          "state": {
            "_view_name": "HBoxView",
            "_dom_classes": [],
            "_model_name": "HBoxModel",
            "_view_module": "@jupyter-widgets/controls",
            "_model_module_version": "1.5.0",
            "_view_count": null,
            "_view_module_version": "1.5.0",
            "box_style": "",
            "layout": "IPY_MODEL_83e1d68fd3e84868ab41dcefd3c559db",
            "_model_module": "@jupyter-widgets/controls",
            "children": [
              "IPY_MODEL_3623436cc95c4fec839f508698ac2ca2",
              "IPY_MODEL_23e7900e2e7648a89469a1a831ed1592"
            ]
          }
        },
        "83e1d68fd3e84868ab41dcefd3c559db": {
          "model_module": "@jupyter-widgets/base",
          "model_name": "LayoutModel",
          "state": {
            "_view_name": "LayoutView",
            "grid_template_rows": null,
            "right": null,
            "justify_content": null,
            "_view_module": "@jupyter-widgets/base",
            "overflow": null,
            "_model_module_version": "1.2.0",
            "_view_count": null,
            "flex_flow": null,
            "width": null,
            "min_width": null,
            "border": null,
            "align_items": null,
            "bottom": null,
            "_model_module": "@jupyter-widgets/base",
            "top": null,
            "grid_column": null,
            "overflow_y": null,
            "overflow_x": null,
            "grid_auto_flow": null,
            "grid_area": null,
            "grid_template_columns": null,
            "flex": null,
            "_model_name": "LayoutModel",
            "justify_items": null,
            "grid_row": null,
            "max_height": null,
            "align_content": null,
            "visibility": null,
            "align_self": null,
            "height": null,
            "min_height": null,
            "padding": null,
            "grid_auto_rows": null,
            "grid_gap": null,
            "max_width": null,
            "order": null,
            "_view_module_version": "1.2.0",
            "grid_template_areas": null,
            "object_position": null,
            "object_fit": null,
            "grid_auto_columns": null,
            "margin": null,
            "display": null,
            "left": null
          }
        },
        "3623436cc95c4fec839f508698ac2ca2": {
          "model_module": "@jupyter-widgets/controls",
          "model_name": "FloatProgressModel",
          "state": {
            "_view_name": "ProgressView",
            "style": "IPY_MODEL_c73df093a3734979a05f6ee877b76ff6",
            "_dom_classes": [],
            "description": "100%",
            "_model_name": "FloatProgressModel",
            "bar_style": "success",
            "max": 2282,
            "_view_module": "@jupyter-widgets/controls",
            "_model_module_version": "1.5.0",
            "value": 2282,
            "_view_count": null,
            "_view_module_version": "1.5.0",
            "orientation": "horizontal",
            "min": 0,
            "description_tooltip": null,
            "_model_module": "@jupyter-widgets/controls",
            "layout": "IPY_MODEL_6598b59830514fe8b1013b0b9a5cd5fd"
          }
        },
        "23e7900e2e7648a89469a1a831ed1592": {
          "model_module": "@jupyter-widgets/controls",
          "model_name": "HTMLModel",
          "state": {
            "_view_name": "HTMLView",
            "style": "IPY_MODEL_71e266965971418d9f36b623e48a1561",
            "_dom_classes": [],
            "description": "",
            "_model_name": "HTMLModel",
            "placeholder": "​",
            "_view_module": "@jupyter-widgets/controls",
            "_model_module_version": "1.5.0",
            "value": " 2282/2282 [00:56&lt;00:00, 40.05it/s]",
            "_view_count": null,
            "_view_module_version": "1.5.0",
            "description_tooltip": null,
            "_model_module": "@jupyter-widgets/controls",
            "layout": "IPY_MODEL_7974ab35652a4b11b562a08808c733da"
          }
        },
        "c73df093a3734979a05f6ee877b76ff6": {
          "model_module": "@jupyter-widgets/controls",
          "model_name": "ProgressStyleModel",
          "state": {
            "_view_name": "StyleView",
            "_model_name": "ProgressStyleModel",
            "description_width": "initial",
            "_view_module": "@jupyter-widgets/base",
            "_model_module_version": "1.5.0",
            "_view_count": null,
            "_view_module_version": "1.2.0",
            "bar_color": null,
            "_model_module": "@jupyter-widgets/controls"
          }
        },
        "6598b59830514fe8b1013b0b9a5cd5fd": {
          "model_module": "@jupyter-widgets/base",
          "model_name": "LayoutModel",
          "state": {
            "_view_name": "LayoutView",
            "grid_template_rows": null,
            "right": null,
            "justify_content": null,
            "_view_module": "@jupyter-widgets/base",
            "overflow": null,
            "_model_module_version": "1.2.0",
            "_view_count": null,
            "flex_flow": null,
            "width": null,
            "min_width": null,
            "border": null,
            "align_items": null,
            "bottom": null,
            "_model_module": "@jupyter-widgets/base",
            "top": null,
            "grid_column": null,
            "overflow_y": null,
            "overflow_x": null,
            "grid_auto_flow": null,
            "grid_area": null,
            "grid_template_columns": null,
            "flex": null,
            "_model_name": "LayoutModel",
            "justify_items": null,
            "grid_row": null,
            "max_height": null,
            "align_content": null,
            "visibility": null,
            "align_self": null,
            "height": null,
            "min_height": null,
            "padding": null,
            "grid_auto_rows": null,
            "grid_gap": null,
            "max_width": null,
            "order": null,
            "_view_module_version": "1.2.0",
            "grid_template_areas": null,
            "object_position": null,
            "object_fit": null,
            "grid_auto_columns": null,
            "margin": null,
            "display": null,
            "left": null
          }
        },
        "71e266965971418d9f36b623e48a1561": {
          "model_module": "@jupyter-widgets/controls",
          "model_name": "DescriptionStyleModel",
          "state": {
            "_view_name": "StyleView",
            "_model_name": "DescriptionStyleModel",
            "description_width": "",
            "_view_module": "@jupyter-widgets/base",
            "_model_module_version": "1.5.0",
            "_view_count": null,
            "_view_module_version": "1.2.0",
            "_model_module": "@jupyter-widgets/controls"
          }
        },
        "7974ab35652a4b11b562a08808c733da": {
          "model_module": "@jupyter-widgets/base",
          "model_name": "LayoutModel",
          "state": {
            "_view_name": "LayoutView",
            "grid_template_rows": null,
            "right": null,
            "justify_content": null,
            "_view_module": "@jupyter-widgets/base",
            "overflow": null,
            "_model_module_version": "1.2.0",
            "_view_count": null,
            "flex_flow": null,
            "width": null,
            "min_width": null,
            "border": null,
            "align_items": null,
            "bottom": null,
            "_model_module": "@jupyter-widgets/base",
            "top": null,
            "grid_column": null,
            "overflow_y": null,
            "overflow_x": null,
            "grid_auto_flow": null,
            "grid_area": null,
            "grid_template_columns": null,
            "flex": null,
            "_model_name": "LayoutModel",
            "justify_items": null,
            "grid_row": null,
            "max_height": null,
            "align_content": null,
            "visibility": null,
            "align_self": null,
            "height": null,
            "min_height": null,
            "padding": null,
            "grid_auto_rows": null,
            "grid_gap": null,
            "max_width": null,
            "order": null,
            "_view_module_version": "1.2.0",
            "grid_template_areas": null,
            "object_position": null,
            "object_fit": null,
            "grid_auto_columns": null,
            "margin": null,
            "display": null,
            "left": null
          }
        },
        "2754b6a7251442a88d17da033f39ddfd": {
          "model_module": "@jupyter-widgets/controls",
          "model_name": "HBoxModel",
          "state": {
            "_view_name": "HBoxView",
            "_dom_classes": [],
            "_model_name": "HBoxModel",
            "_view_module": "@jupyter-widgets/controls",
            "_model_module_version": "1.5.0",
            "_view_count": null,
            "_view_module_version": "1.5.0",
            "box_style": "",
            "layout": "IPY_MODEL_0942aeca5770488cbf8d97a34b477626",
            "_model_module": "@jupyter-widgets/controls",
            "children": [
              "IPY_MODEL_24ee3b1c26de4a84ae22868408f371c6",
              "IPY_MODEL_dc7eb5b2eacc4f08828a3186b88d1d1f"
            ]
          }
        },
        "0942aeca5770488cbf8d97a34b477626": {
          "model_module": "@jupyter-widgets/base",
          "model_name": "LayoutModel",
          "state": {
            "_view_name": "LayoutView",
            "grid_template_rows": null,
            "right": null,
            "justify_content": null,
            "_view_module": "@jupyter-widgets/base",
            "overflow": null,
            "_model_module_version": "1.2.0",
            "_view_count": null,
            "flex_flow": null,
            "width": null,
            "min_width": null,
            "border": null,
            "align_items": null,
            "bottom": null,
            "_model_module": "@jupyter-widgets/base",
            "top": null,
            "grid_column": null,
            "overflow_y": null,
            "overflow_x": null,
            "grid_auto_flow": null,
            "grid_area": null,
            "grid_template_columns": null,
            "flex": null,
            "_model_name": "LayoutModel",
            "justify_items": null,
            "grid_row": null,
            "max_height": null,
            "align_content": null,
            "visibility": null,
            "align_self": null,
            "height": null,
            "min_height": null,
            "padding": null,
            "grid_auto_rows": null,
            "grid_gap": null,
            "max_width": null,
            "order": null,
            "_view_module_version": "1.2.0",
            "grid_template_areas": null,
            "object_position": null,
            "object_fit": null,
            "grid_auto_columns": null,
            "margin": null,
            "display": null,
            "left": null
          }
        },
        "24ee3b1c26de4a84ae22868408f371c6": {
          "model_module": "@jupyter-widgets/controls",
          "model_name": "FloatProgressModel",
          "state": {
            "_view_name": "ProgressView",
            "style": "IPY_MODEL_1fe7a6ca17e2488597501b4113c7f994",
            "_dom_classes": [],
            "description": "100%",
            "_model_name": "FloatProgressModel",
            "bar_style": "success",
            "max": 2282,
            "_view_module": "@jupyter-widgets/controls",
            "_model_module_version": "1.5.0",
            "value": 2282,
            "_view_count": null,
            "_view_module_version": "1.5.0",
            "orientation": "horizontal",
            "min": 0,
            "description_tooltip": null,
            "_model_module": "@jupyter-widgets/controls",
            "layout": "IPY_MODEL_fc4b68792e19448b8d90818915471489"
          }
        },
        "dc7eb5b2eacc4f08828a3186b88d1d1f": {
          "model_module": "@jupyter-widgets/controls",
          "model_name": "HTMLModel",
          "state": {
            "_view_name": "HTMLView",
            "style": "IPY_MODEL_23d94b7066f040edae674438fc0d8d33",
            "_dom_classes": [],
            "description": "",
            "_model_name": "HTMLModel",
            "placeholder": "​",
            "_view_module": "@jupyter-widgets/controls",
            "_model_module_version": "1.5.0",
            "value": " 2282/2282 [12:14&lt;00:00,  3.11it/s]",
            "_view_count": null,
            "_view_module_version": "1.5.0",
            "description_tooltip": null,
            "_model_module": "@jupyter-widgets/controls",
            "layout": "IPY_MODEL_fa617d1300d74ccb9de7d9905dc2f3b4"
          }
        },
        "1fe7a6ca17e2488597501b4113c7f994": {
          "model_module": "@jupyter-widgets/controls",
          "model_name": "ProgressStyleModel",
          "state": {
            "_view_name": "StyleView",
            "_model_name": "ProgressStyleModel",
            "description_width": "initial",
            "_view_module": "@jupyter-widgets/base",
            "_model_module_version": "1.5.0",
            "_view_count": null,
            "_view_module_version": "1.2.0",
            "bar_color": null,
            "_model_module": "@jupyter-widgets/controls"
          }
        },
        "fc4b68792e19448b8d90818915471489": {
          "model_module": "@jupyter-widgets/base",
          "model_name": "LayoutModel",
          "state": {
            "_view_name": "LayoutView",
            "grid_template_rows": null,
            "right": null,
            "justify_content": null,
            "_view_module": "@jupyter-widgets/base",
            "overflow": null,
            "_model_module_version": "1.2.0",
            "_view_count": null,
            "flex_flow": null,
            "width": null,
            "min_width": null,
            "border": null,
            "align_items": null,
            "bottom": null,
            "_model_module": "@jupyter-widgets/base",
            "top": null,
            "grid_column": null,
            "overflow_y": null,
            "overflow_x": null,
            "grid_auto_flow": null,
            "grid_area": null,
            "grid_template_columns": null,
            "flex": null,
            "_model_name": "LayoutModel",
            "justify_items": null,
            "grid_row": null,
            "max_height": null,
            "align_content": null,
            "visibility": null,
            "align_self": null,
            "height": null,
            "min_height": null,
            "padding": null,
            "grid_auto_rows": null,
            "grid_gap": null,
            "max_width": null,
            "order": null,
            "_view_module_version": "1.2.0",
            "grid_template_areas": null,
            "object_position": null,
            "object_fit": null,
            "grid_auto_columns": null,
            "margin": null,
            "display": null,
            "left": null
          }
        },
        "23d94b7066f040edae674438fc0d8d33": {
          "model_module": "@jupyter-widgets/controls",
          "model_name": "DescriptionStyleModel",
          "state": {
            "_view_name": "StyleView",
            "_model_name": "DescriptionStyleModel",
            "description_width": "",
            "_view_module": "@jupyter-widgets/base",
            "_model_module_version": "1.5.0",
            "_view_count": null,
            "_view_module_version": "1.2.0",
            "_model_module": "@jupyter-widgets/controls"
          }
        },
        "fa617d1300d74ccb9de7d9905dc2f3b4": {
          "model_module": "@jupyter-widgets/base",
          "model_name": "LayoutModel",
          "state": {
            "_view_name": "LayoutView",
            "grid_template_rows": null,
            "right": null,
            "justify_content": null,
            "_view_module": "@jupyter-widgets/base",
            "overflow": null,
            "_model_module_version": "1.2.0",
            "_view_count": null,
            "flex_flow": null,
            "width": null,
            "min_width": null,
            "border": null,
            "align_items": null,
            "bottom": null,
            "_model_module": "@jupyter-widgets/base",
            "top": null,
            "grid_column": null,
            "overflow_y": null,
            "overflow_x": null,
            "grid_auto_flow": null,
            "grid_area": null,
            "grid_template_columns": null,
            "flex": null,
            "_model_name": "LayoutModel",
            "justify_items": null,
            "grid_row": null,
            "max_height": null,
            "align_content": null,
            "visibility": null,
            "align_self": null,
            "height": null,
            "min_height": null,
            "padding": null,
            "grid_auto_rows": null,
            "grid_gap": null,
            "max_width": null,
            "order": null,
            "_view_module_version": "1.2.0",
            "grid_template_areas": null,
            "object_position": null,
            "object_fit": null,
            "grid_auto_columns": null,
            "margin": null,
            "display": null,
            "left": null
          }
        },
        "a5befec8bd12473b9dab94931fd56f6b": {
          "model_module": "@jupyter-widgets/controls",
          "model_name": "HBoxModel",
          "state": {
            "_view_name": "HBoxView",
            "_dom_classes": [],
            "_model_name": "HBoxModel",
            "_view_module": "@jupyter-widgets/controls",
            "_model_module_version": "1.5.0",
            "_view_count": null,
            "_view_module_version": "1.5.0",
            "box_style": "",
            "layout": "IPY_MODEL_66272980b6c2485da67b91002cc807ec",
            "_model_module": "@jupyter-widgets/controls",
            "children": [
              "IPY_MODEL_462a5039d4e04b5283d4ea2c55fecb03",
              "IPY_MODEL_2fc7ccd3b4a342369333e4206453d06b"
            ]
          }
        },
        "66272980b6c2485da67b91002cc807ec": {
          "model_module": "@jupyter-widgets/base",
          "model_name": "LayoutModel",
          "state": {
            "_view_name": "LayoutView",
            "grid_template_rows": null,
            "right": null,
            "justify_content": null,
            "_view_module": "@jupyter-widgets/base",
            "overflow": null,
            "_model_module_version": "1.2.0",
            "_view_count": null,
            "flex_flow": null,
            "width": null,
            "min_width": null,
            "border": null,
            "align_items": null,
            "bottom": null,
            "_model_module": "@jupyter-widgets/base",
            "top": null,
            "grid_column": null,
            "overflow_y": null,
            "overflow_x": null,
            "grid_auto_flow": null,
            "grid_area": null,
            "grid_template_columns": null,
            "flex": null,
            "_model_name": "LayoutModel",
            "justify_items": null,
            "grid_row": null,
            "max_height": null,
            "align_content": null,
            "visibility": null,
            "align_self": null,
            "height": null,
            "min_height": null,
            "padding": null,
            "grid_auto_rows": null,
            "grid_gap": null,
            "max_width": null,
            "order": null,
            "_view_module_version": "1.2.0",
            "grid_template_areas": null,
            "object_position": null,
            "object_fit": null,
            "grid_auto_columns": null,
            "margin": null,
            "display": null,
            "left": null
          }
        },
        "462a5039d4e04b5283d4ea2c55fecb03": {
          "model_module": "@jupyter-widgets/controls",
          "model_name": "FloatProgressModel",
          "state": {
            "_view_name": "ProgressView",
            "style": "IPY_MODEL_94e0a268a7264f5a89be1a33fc9f5930",
            "_dom_classes": [],
            "description": "100%",
            "_model_name": "FloatProgressModel",
            "bar_style": "success",
            "max": 2282,
            "_view_module": "@jupyter-widgets/controls",
            "_model_module_version": "1.5.0",
            "value": 2282,
            "_view_count": null,
            "_view_module_version": "1.5.0",
            "orientation": "horizontal",
            "min": 0,
            "description_tooltip": null,
            "_model_module": "@jupyter-widgets/controls",
            "layout": "IPY_MODEL_e0fac032b41a4887bbd870b52e938b2e"
          }
        },
        "2fc7ccd3b4a342369333e4206453d06b": {
          "model_module": "@jupyter-widgets/controls",
          "model_name": "HTMLModel",
          "state": {
            "_view_name": "HTMLView",
            "style": "IPY_MODEL_e7126a810a9b4fce918288eef9c050b4",
            "_dom_classes": [],
            "description": "",
            "_model_name": "HTMLModel",
            "placeholder": "​",
            "_view_module": "@jupyter-widgets/controls",
            "_model_module_version": "1.5.0",
            "value": " 2282/2282 [01:17&lt;00:00, 29.36it/s]",
            "_view_count": null,
            "_view_module_version": "1.5.0",
            "description_tooltip": null,
            "_model_module": "@jupyter-widgets/controls",
            "layout": "IPY_MODEL_bc0b3e95958642d98aea2187aa675015"
          }
        },
        "94e0a268a7264f5a89be1a33fc9f5930": {
          "model_module": "@jupyter-widgets/controls",
          "model_name": "ProgressStyleModel",
          "state": {
            "_view_name": "StyleView",
            "_model_name": "ProgressStyleModel",
            "description_width": "initial",
            "_view_module": "@jupyter-widgets/base",
            "_model_module_version": "1.5.0",
            "_view_count": null,
            "_view_module_version": "1.2.0",
            "bar_color": null,
            "_model_module": "@jupyter-widgets/controls"
          }
        },
        "e0fac032b41a4887bbd870b52e938b2e": {
          "model_module": "@jupyter-widgets/base",
          "model_name": "LayoutModel",
          "state": {
            "_view_name": "LayoutView",
            "grid_template_rows": null,
            "right": null,
            "justify_content": null,
            "_view_module": "@jupyter-widgets/base",
            "overflow": null,
            "_model_module_version": "1.2.0",
            "_view_count": null,
            "flex_flow": null,
            "width": null,
            "min_width": null,
            "border": null,
            "align_items": null,
            "bottom": null,
            "_model_module": "@jupyter-widgets/base",
            "top": null,
            "grid_column": null,
            "overflow_y": null,
            "overflow_x": null,
            "grid_auto_flow": null,
            "grid_area": null,
            "grid_template_columns": null,
            "flex": null,
            "_model_name": "LayoutModel",
            "justify_items": null,
            "grid_row": null,
            "max_height": null,
            "align_content": null,
            "visibility": null,
            "align_self": null,
            "height": null,
            "min_height": null,
            "padding": null,
            "grid_auto_rows": null,
            "grid_gap": null,
            "max_width": null,
            "order": null,
            "_view_module_version": "1.2.0",
            "grid_template_areas": null,
            "object_position": null,
            "object_fit": null,
            "grid_auto_columns": null,
            "margin": null,
            "display": null,
            "left": null
          }
        },
        "e7126a810a9b4fce918288eef9c050b4": {
          "model_module": "@jupyter-widgets/controls",
          "model_name": "DescriptionStyleModel",
          "state": {
            "_view_name": "StyleView",
            "_model_name": "DescriptionStyleModel",
            "description_width": "",
            "_view_module": "@jupyter-widgets/base",
            "_model_module_version": "1.5.0",
            "_view_count": null,
            "_view_module_version": "1.2.0",
            "_model_module": "@jupyter-widgets/controls"
          }
        },
        "bc0b3e95958642d98aea2187aa675015": {
          "model_module": "@jupyter-widgets/base",
          "model_name": "LayoutModel",
          "state": {
            "_view_name": "LayoutView",
            "grid_template_rows": null,
            "right": null,
            "justify_content": null,
            "_view_module": "@jupyter-widgets/base",
            "overflow": null,
            "_model_module_version": "1.2.0",
            "_view_count": null,
            "flex_flow": null,
            "width": null,
            "min_width": null,
            "border": null,
            "align_items": null,
            "bottom": null,
            "_model_module": "@jupyter-widgets/base",
            "top": null,
            "grid_column": null,
            "overflow_y": null,
            "overflow_x": null,
            "grid_auto_flow": null,
            "grid_area": null,
            "grid_template_columns": null,
            "flex": null,
            "_model_name": "LayoutModel",
            "justify_items": null,
            "grid_row": null,
            "max_height": null,
            "align_content": null,
            "visibility": null,
            "align_self": null,
            "height": null,
            "min_height": null,
            "padding": null,
            "grid_auto_rows": null,
            "grid_gap": null,
            "max_width": null,
            "order": null,
            "_view_module_version": "1.2.0",
            "grid_template_areas": null,
            "object_position": null,
            "object_fit": null,
            "grid_auto_columns": null,
            "margin": null,
            "display": null,
            "left": null
          }
        },
        "9fd1e866397e445d990a9972ccd4ec88": {
          "model_module": "@jupyter-widgets/controls",
          "model_name": "HBoxModel",
          "state": {
            "_view_name": "HBoxView",
            "_dom_classes": [],
            "_model_name": "HBoxModel",
            "_view_module": "@jupyter-widgets/controls",
            "_model_module_version": "1.5.0",
            "_view_count": null,
            "_view_module_version": "1.5.0",
            "box_style": "",
            "layout": "IPY_MODEL_c9508c582b9b4ce28bf4a71787bb389b",
            "_model_module": "@jupyter-widgets/controls",
            "children": [
              "IPY_MODEL_7057966dc4374ee5aa574eb03809adee",
              "IPY_MODEL_e752aba8ea794eeca9092cecd5613ebf"
            ]
          }
        },
        "c9508c582b9b4ce28bf4a71787bb389b": {
          "model_module": "@jupyter-widgets/base",
          "model_name": "LayoutModel",
          "state": {
            "_view_name": "LayoutView",
            "grid_template_rows": null,
            "right": null,
            "justify_content": null,
            "_view_module": "@jupyter-widgets/base",
            "overflow": null,
            "_model_module_version": "1.2.0",
            "_view_count": null,
            "flex_flow": null,
            "width": null,
            "min_width": null,
            "border": null,
            "align_items": null,
            "bottom": null,
            "_model_module": "@jupyter-widgets/base",
            "top": null,
            "grid_column": null,
            "overflow_y": null,
            "overflow_x": null,
            "grid_auto_flow": null,
            "grid_area": null,
            "grid_template_columns": null,
            "flex": null,
            "_model_name": "LayoutModel",
            "justify_items": null,
            "grid_row": null,
            "max_height": null,
            "align_content": null,
            "visibility": null,
            "align_self": null,
            "height": null,
            "min_height": null,
            "padding": null,
            "grid_auto_rows": null,
            "grid_gap": null,
            "max_width": null,
            "order": null,
            "_view_module_version": "1.2.0",
            "grid_template_areas": null,
            "object_position": null,
            "object_fit": null,
            "grid_auto_columns": null,
            "margin": null,
            "display": null,
            "left": null
          }
        },
        "7057966dc4374ee5aa574eb03809adee": {
          "model_module": "@jupyter-widgets/controls",
          "model_name": "FloatProgressModel",
          "state": {
            "_view_name": "ProgressView",
            "style": "IPY_MODEL_811a7f14bad6411597f5480b79f48a44",
            "_dom_classes": [],
            "description": "100%",
            "_model_name": "FloatProgressModel",
            "bar_style": "success",
            "max": 2282,
            "_view_module": "@jupyter-widgets/controls",
            "_model_module_version": "1.5.0",
            "value": 2282,
            "_view_count": null,
            "_view_module_version": "1.5.0",
            "orientation": "horizontal",
            "min": 0,
            "description_tooltip": null,
            "_model_module": "@jupyter-widgets/controls",
            "layout": "IPY_MODEL_e99fed3d23944ff399cf87e1e78fb99b"
          }
        },
        "e752aba8ea794eeca9092cecd5613ebf": {
          "model_module": "@jupyter-widgets/controls",
          "model_name": "HTMLModel",
          "state": {
            "_view_name": "HTMLView",
            "style": "IPY_MODEL_c5f2b2ed679144d7a5dda87e5c7fdc59",
            "_dom_classes": [],
            "description": "",
            "_model_name": "HTMLModel",
            "placeholder": "​",
            "_view_module": "@jupyter-widgets/controls",
            "_model_module_version": "1.5.0",
            "value": " 2282/2282 [00:07&lt;00:00, 292.01it/s]",
            "_view_count": null,
            "_view_module_version": "1.5.0",
            "description_tooltip": null,
            "_model_module": "@jupyter-widgets/controls",
            "layout": "IPY_MODEL_71a702192d464a06a434dda6027d275f"
          }
        },
        "811a7f14bad6411597f5480b79f48a44": {
          "model_module": "@jupyter-widgets/controls",
          "model_name": "ProgressStyleModel",
          "state": {
            "_view_name": "StyleView",
            "_model_name": "ProgressStyleModel",
            "description_width": "initial",
            "_view_module": "@jupyter-widgets/base",
            "_model_module_version": "1.5.0",
            "_view_count": null,
            "_view_module_version": "1.2.0",
            "bar_color": null,
            "_model_module": "@jupyter-widgets/controls"
          }
        },
        "e99fed3d23944ff399cf87e1e78fb99b": {
          "model_module": "@jupyter-widgets/base",
          "model_name": "LayoutModel",
          "state": {
            "_view_name": "LayoutView",
            "grid_template_rows": null,
            "right": null,
            "justify_content": null,
            "_view_module": "@jupyter-widgets/base",
            "overflow": null,
            "_model_module_version": "1.2.0",
            "_view_count": null,
            "flex_flow": null,
            "width": null,
            "min_width": null,
            "border": null,
            "align_items": null,
            "bottom": null,
            "_model_module": "@jupyter-widgets/base",
            "top": null,
            "grid_column": null,
            "overflow_y": null,
            "overflow_x": null,
            "grid_auto_flow": null,
            "grid_area": null,
            "grid_template_columns": null,
            "flex": null,
            "_model_name": "LayoutModel",
            "justify_items": null,
            "grid_row": null,
            "max_height": null,
            "align_content": null,
            "visibility": null,
            "align_self": null,
            "height": null,
            "min_height": null,
            "padding": null,
            "grid_auto_rows": null,
            "grid_gap": null,
            "max_width": null,
            "order": null,
            "_view_module_version": "1.2.0",
            "grid_template_areas": null,
            "object_position": null,
            "object_fit": null,
            "grid_auto_columns": null,
            "margin": null,
            "display": null,
            "left": null
          }
        },
        "c5f2b2ed679144d7a5dda87e5c7fdc59": {
          "model_module": "@jupyter-widgets/controls",
          "model_name": "DescriptionStyleModel",
          "state": {
            "_view_name": "StyleView",
            "_model_name": "DescriptionStyleModel",
            "description_width": "",
            "_view_module": "@jupyter-widgets/base",
            "_model_module_version": "1.5.0",
            "_view_count": null,
            "_view_module_version": "1.2.0",
            "_model_module": "@jupyter-widgets/controls"
          }
        },
        "71a702192d464a06a434dda6027d275f": {
          "model_module": "@jupyter-widgets/base",
          "model_name": "LayoutModel",
          "state": {
            "_view_name": "LayoutView",
            "grid_template_rows": null,
            "right": null,
            "justify_content": null,
            "_view_module": "@jupyter-widgets/base",
            "overflow": null,
            "_model_module_version": "1.2.0",
            "_view_count": null,
            "flex_flow": null,
            "width": null,
            "min_width": null,
            "border": null,
            "align_items": null,
            "bottom": null,
            "_model_module": "@jupyter-widgets/base",
            "top": null,
            "grid_column": null,
            "overflow_y": null,
            "overflow_x": null,
            "grid_auto_flow": null,
            "grid_area": null,
            "grid_template_columns": null,
            "flex": null,
            "_model_name": "LayoutModel",
            "justify_items": null,
            "grid_row": null,
            "max_height": null,
            "align_content": null,
            "visibility": null,
            "align_self": null,
            "height": null,
            "min_height": null,
            "padding": null,
            "grid_auto_rows": null,
            "grid_gap": null,
            "max_width": null,
            "order": null,
            "_view_module_version": "1.2.0",
            "grid_template_areas": null,
            "object_position": null,
            "object_fit": null,
            "grid_auto_columns": null,
            "margin": null,
            "display": null,
            "left": null
          }
        },
        "cf01e11e19ce42059dd044c137a8b159": {
          "model_module": "@jupyter-widgets/controls",
          "model_name": "HBoxModel",
          "state": {
            "_view_name": "HBoxView",
            "_dom_classes": [],
            "_model_name": "HBoxModel",
            "_view_module": "@jupyter-widgets/controls",
            "_model_module_version": "1.5.0",
            "_view_count": null,
            "_view_module_version": "1.5.0",
            "box_style": "",
            "layout": "IPY_MODEL_de629dc109a048e8b1e3d9fd5a98a4a2",
            "_model_module": "@jupyter-widgets/controls",
            "children": [
              "IPY_MODEL_0b1de321c13f4a79842e235ff55763eb",
              "IPY_MODEL_e1e78ac1a0d84ec49af200b807e5dff4"
            ]
          }
        },
        "de629dc109a048e8b1e3d9fd5a98a4a2": {
          "model_module": "@jupyter-widgets/base",
          "model_name": "LayoutModel",
          "state": {
            "_view_name": "LayoutView",
            "grid_template_rows": null,
            "right": null,
            "justify_content": null,
            "_view_module": "@jupyter-widgets/base",
            "overflow": null,
            "_model_module_version": "1.2.0",
            "_view_count": null,
            "flex_flow": null,
            "width": null,
            "min_width": null,
            "border": null,
            "align_items": null,
            "bottom": null,
            "_model_module": "@jupyter-widgets/base",
            "top": null,
            "grid_column": null,
            "overflow_y": null,
            "overflow_x": null,
            "grid_auto_flow": null,
            "grid_area": null,
            "grid_template_columns": null,
            "flex": null,
            "_model_name": "LayoutModel",
            "justify_items": null,
            "grid_row": null,
            "max_height": null,
            "align_content": null,
            "visibility": null,
            "align_self": null,
            "height": null,
            "min_height": null,
            "padding": null,
            "grid_auto_rows": null,
            "grid_gap": null,
            "max_width": null,
            "order": null,
            "_view_module_version": "1.2.0",
            "grid_template_areas": null,
            "object_position": null,
            "object_fit": null,
            "grid_auto_columns": null,
            "margin": null,
            "display": null,
            "left": null
          }
        },
        "0b1de321c13f4a79842e235ff55763eb": {
          "model_module": "@jupyter-widgets/controls",
          "model_name": "FloatProgressModel",
          "state": {
            "_view_name": "ProgressView",
            "style": "IPY_MODEL_335f11e410ba45d6a81dcbc43e5265e6",
            "_dom_classes": [],
            "description": "100%",
            "_model_name": "FloatProgressModel",
            "bar_style": "success",
            "max": 1252,
            "_view_module": "@jupyter-widgets/controls",
            "_model_module_version": "1.5.0",
            "value": 1252,
            "_view_count": null,
            "_view_module_version": "1.5.0",
            "orientation": "horizontal",
            "min": 0,
            "description_tooltip": null,
            "_model_module": "@jupyter-widgets/controls",
            "layout": "IPY_MODEL_38fd627fbf0e41039160988ffe03aa64"
          }
        },
        "e1e78ac1a0d84ec49af200b807e5dff4": {
          "model_module": "@jupyter-widgets/controls",
          "model_name": "HTMLModel",
          "state": {
            "_view_name": "HTMLView",
            "style": "IPY_MODEL_cbbe0c92d9374cae8c1e02945bc02412",
            "_dom_classes": [],
            "description": "",
            "_model_name": "HTMLModel",
            "placeholder": "​",
            "_view_module": "@jupyter-widgets/controls",
            "_model_module_version": "1.5.0",
            "value": " 1252/1252 [00:19&lt;00:00, 63.81it/s]",
            "_view_count": null,
            "_view_module_version": "1.5.0",
            "description_tooltip": null,
            "_model_module": "@jupyter-widgets/controls",
            "layout": "IPY_MODEL_04703d2b227746daa1e7facdf6070b65"
          }
        },
        "335f11e410ba45d6a81dcbc43e5265e6": {
          "model_module": "@jupyter-widgets/controls",
          "model_name": "ProgressStyleModel",
          "state": {
            "_view_name": "StyleView",
            "_model_name": "ProgressStyleModel",
            "description_width": "initial",
            "_view_module": "@jupyter-widgets/base",
            "_model_module_version": "1.5.0",
            "_view_count": null,
            "_view_module_version": "1.2.0",
            "bar_color": null,
            "_model_module": "@jupyter-widgets/controls"
          }
        },
        "38fd627fbf0e41039160988ffe03aa64": {
          "model_module": "@jupyter-widgets/base",
          "model_name": "LayoutModel",
          "state": {
            "_view_name": "LayoutView",
            "grid_template_rows": null,
            "right": null,
            "justify_content": null,
            "_view_module": "@jupyter-widgets/base",
            "overflow": null,
            "_model_module_version": "1.2.0",
            "_view_count": null,
            "flex_flow": null,
            "width": null,
            "min_width": null,
            "border": null,
            "align_items": null,
            "bottom": null,
            "_model_module": "@jupyter-widgets/base",
            "top": null,
            "grid_column": null,
            "overflow_y": null,
            "overflow_x": null,
            "grid_auto_flow": null,
            "grid_area": null,
            "grid_template_columns": null,
            "flex": null,
            "_model_name": "LayoutModel",
            "justify_items": null,
            "grid_row": null,
            "max_height": null,
            "align_content": null,
            "visibility": null,
            "align_self": null,
            "height": null,
            "min_height": null,
            "padding": null,
            "grid_auto_rows": null,
            "grid_gap": null,
            "max_width": null,
            "order": null,
            "_view_module_version": "1.2.0",
            "grid_template_areas": null,
            "object_position": null,
            "object_fit": null,
            "grid_auto_columns": null,
            "margin": null,
            "display": null,
            "left": null
          }
        },
        "cbbe0c92d9374cae8c1e02945bc02412": {
          "model_module": "@jupyter-widgets/controls",
          "model_name": "DescriptionStyleModel",
          "state": {
            "_view_name": "StyleView",
            "_model_name": "DescriptionStyleModel",
            "description_width": "",
            "_view_module": "@jupyter-widgets/base",
            "_model_module_version": "1.5.0",
            "_view_count": null,
            "_view_module_version": "1.2.0",
            "_model_module": "@jupyter-widgets/controls"
          }
        },
        "04703d2b227746daa1e7facdf6070b65": {
          "model_module": "@jupyter-widgets/base",
          "model_name": "LayoutModel",
          "state": {
            "_view_name": "LayoutView",
            "grid_template_rows": null,
            "right": null,
            "justify_content": null,
            "_view_module": "@jupyter-widgets/base",
            "overflow": null,
            "_model_module_version": "1.2.0",
            "_view_count": null,
            "flex_flow": null,
            "width": null,
            "min_width": null,
            "border": null,
            "align_items": null,
            "bottom": null,
            "_model_module": "@jupyter-widgets/base",
            "top": null,
            "grid_column": null,
            "overflow_y": null,
            "overflow_x": null,
            "grid_auto_flow": null,
            "grid_area": null,
            "grid_template_columns": null,
            "flex": null,
            "_model_name": "LayoutModel",
            "justify_items": null,
            "grid_row": null,
            "max_height": null,
            "align_content": null,
            "visibility": null,
            "align_self": null,
            "height": null,
            "min_height": null,
            "padding": null,
            "grid_auto_rows": null,
            "grid_gap": null,
            "max_width": null,
            "order": null,
            "_view_module_version": "1.2.0",
            "grid_template_areas": null,
            "object_position": null,
            "object_fit": null,
            "grid_auto_columns": null,
            "margin": null,
            "display": null,
            "left": null
          }
        },
        "148c2919da3048cab745ca4db7229214": {
          "model_module": "@jupyter-widgets/controls",
          "model_name": "HBoxModel",
          "state": {
            "_view_name": "HBoxView",
            "_dom_classes": [],
            "_model_name": "HBoxModel",
            "_view_module": "@jupyter-widgets/controls",
            "_model_module_version": "1.5.0",
            "_view_count": null,
            "_view_module_version": "1.5.0",
            "box_style": "",
            "layout": "IPY_MODEL_e2aef15712174f40b344fc198d67a691",
            "_model_module": "@jupyter-widgets/controls",
            "children": [
              "IPY_MODEL_57ed4d0f424047298fa85632db8e9177",
              "IPY_MODEL_68c2b79488114bb7b63928f83562f09e"
            ]
          }
        },
        "e2aef15712174f40b344fc198d67a691": {
          "model_module": "@jupyter-widgets/base",
          "model_name": "LayoutModel",
          "state": {
            "_view_name": "LayoutView",
            "grid_template_rows": null,
            "right": null,
            "justify_content": null,
            "_view_module": "@jupyter-widgets/base",
            "overflow": null,
            "_model_module_version": "1.2.0",
            "_view_count": null,
            "flex_flow": null,
            "width": null,
            "min_width": null,
            "border": null,
            "align_items": null,
            "bottom": null,
            "_model_module": "@jupyter-widgets/base",
            "top": null,
            "grid_column": null,
            "overflow_y": null,
            "overflow_x": null,
            "grid_auto_flow": null,
            "grid_area": null,
            "grid_template_columns": null,
            "flex": null,
            "_model_name": "LayoutModel",
            "justify_items": null,
            "grid_row": null,
            "max_height": null,
            "align_content": null,
            "visibility": null,
            "align_self": null,
            "height": null,
            "min_height": null,
            "padding": null,
            "grid_auto_rows": null,
            "grid_gap": null,
            "max_width": null,
            "order": null,
            "_view_module_version": "1.2.0",
            "grid_template_areas": null,
            "object_position": null,
            "object_fit": null,
            "grid_auto_columns": null,
            "margin": null,
            "display": null,
            "left": null
          }
        },
        "57ed4d0f424047298fa85632db8e9177": {
          "model_module": "@jupyter-widgets/controls",
          "model_name": "FloatProgressModel",
          "state": {
            "_view_name": "ProgressView",
            "style": "IPY_MODEL_b1d3650b3ac249b485e89bef44468957",
            "_dom_classes": [],
            "description": "100%",
            "_model_name": "FloatProgressModel",
            "bar_style": "success",
            "max": 1229,
            "_view_module": "@jupyter-widgets/controls",
            "_model_module_version": "1.5.0",
            "value": 1229,
            "_view_count": null,
            "_view_module_version": "1.5.0",
            "orientation": "horizontal",
            "min": 0,
            "description_tooltip": null,
            "_model_module": "@jupyter-widgets/controls",
            "layout": "IPY_MODEL_4f81f894ea6d482384bc612e72436a66"
          }
        },
        "68c2b79488114bb7b63928f83562f09e": {
          "model_module": "@jupyter-widgets/controls",
          "model_name": "HTMLModel",
          "state": {
            "_view_name": "HTMLView",
            "style": "IPY_MODEL_77b7a022f06c43a3be229d029fb64039",
            "_dom_classes": [],
            "description": "",
            "_model_name": "HTMLModel",
            "placeholder": "​",
            "_view_module": "@jupyter-widgets/controls",
            "_model_module_version": "1.5.0",
            "value": " 1229/1229 [00:53&lt;00:00, 22.77it/s]",
            "_view_count": null,
            "_view_module_version": "1.5.0",
            "description_tooltip": null,
            "_model_module": "@jupyter-widgets/controls",
            "layout": "IPY_MODEL_1d48787c1904439d92ebb7808db5345b"
          }
        },
        "b1d3650b3ac249b485e89bef44468957": {
          "model_module": "@jupyter-widgets/controls",
          "model_name": "ProgressStyleModel",
          "state": {
            "_view_name": "StyleView",
            "_model_name": "ProgressStyleModel",
            "description_width": "initial",
            "_view_module": "@jupyter-widgets/base",
            "_model_module_version": "1.5.0",
            "_view_count": null,
            "_view_module_version": "1.2.0",
            "bar_color": null,
            "_model_module": "@jupyter-widgets/controls"
          }
        },
        "4f81f894ea6d482384bc612e72436a66": {
          "model_module": "@jupyter-widgets/base",
          "model_name": "LayoutModel",
          "state": {
            "_view_name": "LayoutView",
            "grid_template_rows": null,
            "right": null,
            "justify_content": null,
            "_view_module": "@jupyter-widgets/base",
            "overflow": null,
            "_model_module_version": "1.2.0",
            "_view_count": null,
            "flex_flow": null,
            "width": null,
            "min_width": null,
            "border": null,
            "align_items": null,
            "bottom": null,
            "_model_module": "@jupyter-widgets/base",
            "top": null,
            "grid_column": null,
            "overflow_y": null,
            "overflow_x": null,
            "grid_auto_flow": null,
            "grid_area": null,
            "grid_template_columns": null,
            "flex": null,
            "_model_name": "LayoutModel",
            "justify_items": null,
            "grid_row": null,
            "max_height": null,
            "align_content": null,
            "visibility": null,
            "align_self": null,
            "height": null,
            "min_height": null,
            "padding": null,
            "grid_auto_rows": null,
            "grid_gap": null,
            "max_width": null,
            "order": null,
            "_view_module_version": "1.2.0",
            "grid_template_areas": null,
            "object_position": null,
            "object_fit": null,
            "grid_auto_columns": null,
            "margin": null,
            "display": null,
            "left": null
          }
        },
        "77b7a022f06c43a3be229d029fb64039": {
          "model_module": "@jupyter-widgets/controls",
          "model_name": "DescriptionStyleModel",
          "state": {
            "_view_name": "StyleView",
            "_model_name": "DescriptionStyleModel",
            "description_width": "",
            "_view_module": "@jupyter-widgets/base",
            "_model_module_version": "1.5.0",
            "_view_count": null,
            "_view_module_version": "1.2.0",
            "_model_module": "@jupyter-widgets/controls"
          }
        },
        "1d48787c1904439d92ebb7808db5345b": {
          "model_module": "@jupyter-widgets/base",
          "model_name": "LayoutModel",
          "state": {
            "_view_name": "LayoutView",
            "grid_template_rows": null,
            "right": null,
            "justify_content": null,
            "_view_module": "@jupyter-widgets/base",
            "overflow": null,
            "_model_module_version": "1.2.0",
            "_view_count": null,
            "flex_flow": null,
            "width": null,
            "min_width": null,
            "border": null,
            "align_items": null,
            "bottom": null,
            "_model_module": "@jupyter-widgets/base",
            "top": null,
            "grid_column": null,
            "overflow_y": null,
            "overflow_x": null,
            "grid_auto_flow": null,
            "grid_area": null,
            "grid_template_columns": null,
            "flex": null,
            "_model_name": "LayoutModel",
            "justify_items": null,
            "grid_row": null,
            "max_height": null,
            "align_content": null,
            "visibility": null,
            "align_self": null,
            "height": null,
            "min_height": null,
            "padding": null,
            "grid_auto_rows": null,
            "grid_gap": null,
            "max_width": null,
            "order": null,
            "_view_module_version": "1.2.0",
            "grid_template_areas": null,
            "object_position": null,
            "object_fit": null,
            "grid_auto_columns": null,
            "margin": null,
            "display": null,
            "left": null
          }
        },
        "2528181adef94c18aa034350a192972b": {
          "model_module": "@jupyter-widgets/controls",
          "model_name": "HBoxModel",
          "state": {
            "_view_name": "HBoxView",
            "_dom_classes": [],
            "_model_name": "HBoxModel",
            "_view_module": "@jupyter-widgets/controls",
            "_model_module_version": "1.5.0",
            "_view_count": null,
            "_view_module_version": "1.5.0",
            "box_style": "",
            "layout": "IPY_MODEL_8e587f20a6cc4d47945d46f39f0a2907",
            "_model_module": "@jupyter-widgets/controls",
            "children": [
              "IPY_MODEL_96306362bb534e70bcdfd1a87fb23121",
              "IPY_MODEL_28615e1b545047aa9ab601d25fb444f6"
            ]
          }
        },
        "8e587f20a6cc4d47945d46f39f0a2907": {
          "model_module": "@jupyter-widgets/base",
          "model_name": "LayoutModel",
          "state": {
            "_view_name": "LayoutView",
            "grid_template_rows": null,
            "right": null,
            "justify_content": null,
            "_view_module": "@jupyter-widgets/base",
            "overflow": null,
            "_model_module_version": "1.2.0",
            "_view_count": null,
            "flex_flow": null,
            "width": null,
            "min_width": null,
            "border": null,
            "align_items": null,
            "bottom": null,
            "_model_module": "@jupyter-widgets/base",
            "top": null,
            "grid_column": null,
            "overflow_y": null,
            "overflow_x": null,
            "grid_auto_flow": null,
            "grid_area": null,
            "grid_template_columns": null,
            "flex": null,
            "_model_name": "LayoutModel",
            "justify_items": null,
            "grid_row": null,
            "max_height": null,
            "align_content": null,
            "visibility": null,
            "align_self": null,
            "height": null,
            "min_height": null,
            "padding": null,
            "grid_auto_rows": null,
            "grid_gap": null,
            "max_width": null,
            "order": null,
            "_view_module_version": "1.2.0",
            "grid_template_areas": null,
            "object_position": null,
            "object_fit": null,
            "grid_auto_columns": null,
            "margin": null,
            "display": null,
            "left": null
          }
        },
        "96306362bb534e70bcdfd1a87fb23121": {
          "model_module": "@jupyter-widgets/controls",
          "model_name": "FloatProgressModel",
          "state": {
            "_view_name": "ProgressView",
            "style": "IPY_MODEL_8a5080abe8e44b54839daa1a2a01e8aa",
            "_dom_classes": [],
            "description": "100%",
            "_model_name": "FloatProgressModel",
            "bar_style": "success",
            "max": 349,
            "_view_module": "@jupyter-widgets/controls",
            "_model_module_version": "1.5.0",
            "value": 349,
            "_view_count": null,
            "_view_module_version": "1.5.0",
            "orientation": "horizontal",
            "min": 0,
            "description_tooltip": null,
            "_model_module": "@jupyter-widgets/controls",
            "layout": "IPY_MODEL_9067b2f8bdf54ffaacadeac8a4ccc8eb"
          }
        },
        "28615e1b545047aa9ab601d25fb444f6": {
          "model_module": "@jupyter-widgets/controls",
          "model_name": "HTMLModel",
          "state": {
            "_view_name": "HTMLView",
            "style": "IPY_MODEL_8f727e33d3e04dc0a462681130b210ae",
            "_dom_classes": [],
            "description": "",
            "_model_name": "HTMLModel",
            "placeholder": "​",
            "_view_module": "@jupyter-widgets/controls",
            "_model_module_version": "1.5.0",
            "value": " 349/349 [00:07&lt;00:00, 46.09it/s]",
            "_view_count": null,
            "_view_module_version": "1.5.0",
            "description_tooltip": null,
            "_model_module": "@jupyter-widgets/controls",
            "layout": "IPY_MODEL_a2ccb76cbae84be7b9ff1d7a2daf3313"
          }
        },
        "8a5080abe8e44b54839daa1a2a01e8aa": {
          "model_module": "@jupyter-widgets/controls",
          "model_name": "ProgressStyleModel",
          "state": {
            "_view_name": "StyleView",
            "_model_name": "ProgressStyleModel",
            "description_width": "initial",
            "_view_module": "@jupyter-widgets/base",
            "_model_module_version": "1.5.0",
            "_view_count": null,
            "_view_module_version": "1.2.0",
            "bar_color": null,
            "_model_module": "@jupyter-widgets/controls"
          }
        },
        "9067b2f8bdf54ffaacadeac8a4ccc8eb": {
          "model_module": "@jupyter-widgets/base",
          "model_name": "LayoutModel",
          "state": {
            "_view_name": "LayoutView",
            "grid_template_rows": null,
            "right": null,
            "justify_content": null,
            "_view_module": "@jupyter-widgets/base",
            "overflow": null,
            "_model_module_version": "1.2.0",
            "_view_count": null,
            "flex_flow": null,
            "width": null,
            "min_width": null,
            "border": null,
            "align_items": null,
            "bottom": null,
            "_model_module": "@jupyter-widgets/base",
            "top": null,
            "grid_column": null,
            "overflow_y": null,
            "overflow_x": null,
            "grid_auto_flow": null,
            "grid_area": null,
            "grid_template_columns": null,
            "flex": null,
            "_model_name": "LayoutModel",
            "justify_items": null,
            "grid_row": null,
            "max_height": null,
            "align_content": null,
            "visibility": null,
            "align_self": null,
            "height": null,
            "min_height": null,
            "padding": null,
            "grid_auto_rows": null,
            "grid_gap": null,
            "max_width": null,
            "order": null,
            "_view_module_version": "1.2.0",
            "grid_template_areas": null,
            "object_position": null,
            "object_fit": null,
            "grid_auto_columns": null,
            "margin": null,
            "display": null,
            "left": null
          }
        },
        "8f727e33d3e04dc0a462681130b210ae": {
          "model_module": "@jupyter-widgets/controls",
          "model_name": "DescriptionStyleModel",
          "state": {
            "_view_name": "StyleView",
            "_model_name": "DescriptionStyleModel",
            "description_width": "",
            "_view_module": "@jupyter-widgets/base",
            "_model_module_version": "1.5.0",
            "_view_count": null,
            "_view_module_version": "1.2.0",
            "_model_module": "@jupyter-widgets/controls"
          }
        },
        "a2ccb76cbae84be7b9ff1d7a2daf3313": {
          "model_module": "@jupyter-widgets/base",
          "model_name": "LayoutModel",
          "state": {
            "_view_name": "LayoutView",
            "grid_template_rows": null,
            "right": null,
            "justify_content": null,
            "_view_module": "@jupyter-widgets/base",
            "overflow": null,
            "_model_module_version": "1.2.0",
            "_view_count": null,
            "flex_flow": null,
            "width": null,
            "min_width": null,
            "border": null,
            "align_items": null,
            "bottom": null,
            "_model_module": "@jupyter-widgets/base",
            "top": null,
            "grid_column": null,
            "overflow_y": null,
            "overflow_x": null,
            "grid_auto_flow": null,
            "grid_area": null,
            "grid_template_columns": null,
            "flex": null,
            "_model_name": "LayoutModel",
            "justify_items": null,
            "grid_row": null,
            "max_height": null,
            "align_content": null,
            "visibility": null,
            "align_self": null,
            "height": null,
            "min_height": null,
            "padding": null,
            "grid_auto_rows": null,
            "grid_gap": null,
            "max_width": null,
            "order": null,
            "_view_module_version": "1.2.0",
            "grid_template_areas": null,
            "object_position": null,
            "object_fit": null,
            "grid_auto_columns": null,
            "margin": null,
            "display": null,
            "left": null
          }
        },
        "2bffedb0285f4edcb49742b447ba8338": {
          "model_module": "@jupyter-widgets/controls",
          "model_name": "HBoxModel",
          "state": {
            "_view_name": "HBoxView",
            "_dom_classes": [],
            "_model_name": "HBoxModel",
            "_view_module": "@jupyter-widgets/controls",
            "_model_module_version": "1.5.0",
            "_view_count": null,
            "_view_module_version": "1.5.0",
            "box_style": "",
            "layout": "IPY_MODEL_d9bcd644a71b419ba4c6b10fa283f172",
            "_model_module": "@jupyter-widgets/controls",
            "children": [
              "IPY_MODEL_20a76a069d5f4a7892eda5249b56de80",
              "IPY_MODEL_f4376d97ba054d5a9bf0b10067a25fa5"
            ]
          }
        },
        "d9bcd644a71b419ba4c6b10fa283f172": {
          "model_module": "@jupyter-widgets/base",
          "model_name": "LayoutModel",
          "state": {
            "_view_name": "LayoutView",
            "grid_template_rows": null,
            "right": null,
            "justify_content": null,
            "_view_module": "@jupyter-widgets/base",
            "overflow": null,
            "_model_module_version": "1.2.0",
            "_view_count": null,
            "flex_flow": null,
            "width": null,
            "min_width": null,
            "border": null,
            "align_items": null,
            "bottom": null,
            "_model_module": "@jupyter-widgets/base",
            "top": null,
            "grid_column": null,
            "overflow_y": null,
            "overflow_x": null,
            "grid_auto_flow": null,
            "grid_area": null,
            "grid_template_columns": null,
            "flex": null,
            "_model_name": "LayoutModel",
            "justify_items": null,
            "grid_row": null,
            "max_height": null,
            "align_content": null,
            "visibility": null,
            "align_self": null,
            "height": null,
            "min_height": null,
            "padding": null,
            "grid_auto_rows": null,
            "grid_gap": null,
            "max_width": null,
            "order": null,
            "_view_module_version": "1.2.0",
            "grid_template_areas": null,
            "object_position": null,
            "object_fit": null,
            "grid_auto_columns": null,
            "margin": null,
            "display": null,
            "left": null
          }
        },
        "20a76a069d5f4a7892eda5249b56de80": {
          "model_module": "@jupyter-widgets/controls",
          "model_name": "FloatProgressModel",
          "state": {
            "_view_name": "ProgressView",
            "style": "IPY_MODEL_439d40df6cea4a9b9f2bc6c502c4f7b7",
            "_dom_classes": [],
            "description": "100%",
            "_model_name": "FloatProgressModel",
            "bar_style": "success",
            "max": 397,
            "_view_module": "@jupyter-widgets/controls",
            "_model_module_version": "1.5.0",
            "value": 397,
            "_view_count": null,
            "_view_module_version": "1.5.0",
            "orientation": "horizontal",
            "min": 0,
            "description_tooltip": null,
            "_model_module": "@jupyter-widgets/controls",
            "layout": "IPY_MODEL_d84130fb2bd94226a4c4d0326d1d42e5"
          }
        },
        "f4376d97ba054d5a9bf0b10067a25fa5": {
          "model_module": "@jupyter-widgets/controls",
          "model_name": "HTMLModel",
          "state": {
            "_view_name": "HTMLView",
            "style": "IPY_MODEL_f0c82514e91549eebb4f0fa0e8890321",
            "_dom_classes": [],
            "description": "",
            "_model_name": "HTMLModel",
            "placeholder": "​",
            "_view_module": "@jupyter-widgets/controls",
            "_model_module_version": "1.5.0",
            "value": " 397/397 [00:04&lt;00:00, 88.58it/s]",
            "_view_count": null,
            "_view_module_version": "1.5.0",
            "description_tooltip": null,
            "_model_module": "@jupyter-widgets/controls",
            "layout": "IPY_MODEL_8d68161bd03b44e7b28e00608159799c"
          }
        },
        "439d40df6cea4a9b9f2bc6c502c4f7b7": {
          "model_module": "@jupyter-widgets/controls",
          "model_name": "ProgressStyleModel",
          "state": {
            "_view_name": "StyleView",
            "_model_name": "ProgressStyleModel",
            "description_width": "initial",
            "_view_module": "@jupyter-widgets/base",
            "_model_module_version": "1.5.0",
            "_view_count": null,
            "_view_module_version": "1.2.0",
            "bar_color": null,
            "_model_module": "@jupyter-widgets/controls"
          }
        },
        "d84130fb2bd94226a4c4d0326d1d42e5": {
          "model_module": "@jupyter-widgets/base",
          "model_name": "LayoutModel",
          "state": {
            "_view_name": "LayoutView",
            "grid_template_rows": null,
            "right": null,
            "justify_content": null,
            "_view_module": "@jupyter-widgets/base",
            "overflow": null,
            "_model_module_version": "1.2.0",
            "_view_count": null,
            "flex_flow": null,
            "width": null,
            "min_width": null,
            "border": null,
            "align_items": null,
            "bottom": null,
            "_model_module": "@jupyter-widgets/base",
            "top": null,
            "grid_column": null,
            "overflow_y": null,
            "overflow_x": null,
            "grid_auto_flow": null,
            "grid_area": null,
            "grid_template_columns": null,
            "flex": null,
            "_model_name": "LayoutModel",
            "justify_items": null,
            "grid_row": null,
            "max_height": null,
            "align_content": null,
            "visibility": null,
            "align_self": null,
            "height": null,
            "min_height": null,
            "padding": null,
            "grid_auto_rows": null,
            "grid_gap": null,
            "max_width": null,
            "order": null,
            "_view_module_version": "1.2.0",
            "grid_template_areas": null,
            "object_position": null,
            "object_fit": null,
            "grid_auto_columns": null,
            "margin": null,
            "display": null,
            "left": null
          }
        },
        "f0c82514e91549eebb4f0fa0e8890321": {
          "model_module": "@jupyter-widgets/controls",
          "model_name": "DescriptionStyleModel",
          "state": {
            "_view_name": "StyleView",
            "_model_name": "DescriptionStyleModel",
            "description_width": "",
            "_view_module": "@jupyter-widgets/base",
            "_model_module_version": "1.5.0",
            "_view_count": null,
            "_view_module_version": "1.2.0",
            "_model_module": "@jupyter-widgets/controls"
          }
        },
        "8d68161bd03b44e7b28e00608159799c": {
          "model_module": "@jupyter-widgets/base",
          "model_name": "LayoutModel",
          "state": {
            "_view_name": "LayoutView",
            "grid_template_rows": null,
            "right": null,
            "justify_content": null,
            "_view_module": "@jupyter-widgets/base",
            "overflow": null,
            "_model_module_version": "1.2.0",
            "_view_count": null,
            "flex_flow": null,
            "width": null,
            "min_width": null,
            "border": null,
            "align_items": null,
            "bottom": null,
            "_model_module": "@jupyter-widgets/base",
            "top": null,
            "grid_column": null,
            "overflow_y": null,
            "overflow_x": null,
            "grid_auto_flow": null,
            "grid_area": null,
            "grid_template_columns": null,
            "flex": null,
            "_model_name": "LayoutModel",
            "justify_items": null,
            "grid_row": null,
            "max_height": null,
            "align_content": null,
            "visibility": null,
            "align_self": null,
            "height": null,
            "min_height": null,
            "padding": null,
            "grid_auto_rows": null,
            "grid_gap": null,
            "max_width": null,
            "order": null,
            "_view_module_version": "1.2.0",
            "grid_template_areas": null,
            "object_position": null,
            "object_fit": null,
            "grid_auto_columns": null,
            "margin": null,
            "display": null,
            "left": null
          }
        }
      }
    }
  },
  "cells": [
    {
      "cell_type": "markdown",
      "metadata": {
        "id": "view-in-github",
        "colab_type": "text"
      },
      "source": [
        "<a href=\"https://colab.research.google.com/github/xBrymer/COVID19-AI-CT-Scan-Detection/blob/master/preprocessing_images.ipynb\" target=\"_parent\"><img src=\"https://colab.research.google.com/assets/colab-badge.svg\" alt=\"Open In Colab\"/></a>"
      ]
    },
    {
      "cell_type": "code",
      "metadata": {
        "id": "eZOIXyK9E8Am",
        "colab_type": "code",
        "colab": {}
      },
      "source": [
        "import shutil\n",
        "import os\n",
        "\n",
        "from os.path import join\n",
        "from zipfile import ZipFile\n",
        "\n",
        "from skimage.io import imread\n",
        "from skimage import exposure, color, img_as_ubyte, img_as_uint\n",
        "from skimage.transform import resize\n",
        "\n",
        "import cv2\n",
        "import matplotlib.pyplot as plt\n",
        "\n",
        "from tqdm.notebook import tqdm\n",
        "\n",
        "import random\n",
        "\n",
        "import PIL.Image as pil_image\n",
        "import io\n",
        "import numpy as np\n",
        "\n",
        "from skimage import exposure\n",
        "\n",
        "import cv2"
      ],
      "execution_count": 1,
      "outputs": []
    },
    {
      "cell_type": "markdown",
      "metadata": {
        "id": "K9TEPHaAL2Y-",
        "colab_type": "text"
      },
      "source": [
        "# Preprocessing the training dataset"
      ]
    },
    {
      "cell_type": "code",
      "metadata": {
        "id": "VC_F9D6ZFKuO",
        "colab_type": "code",
        "colab": {}
      },
      "source": [
        "ds_dir = '/content/datasets'\n",
        "\n",
        "training_dir = join(ds_dir, 'training')\n",
        "training_covid_dir = join(ds_dir, 'training', 'covid')\n",
        "training_normal_dir = join(ds_dir, 'training', 'normal')\n",
        "\n",
        "testing_dir = join(ds_dir, 'testing')\n",
        "testing_covid_dir = join(ds_dir, 'testing', 'covid')\n",
        "testing_normal_dir = join(ds_dir, 'testing', 'normal')\n",
        "\n",
        "validation_dir = join(ds_dir, 'validation')\n",
        "validation_covid_dir = join(ds_dir, 'validation', 'covid')\n",
        "validation_normal_dir = join(ds_dir, 'validation', 'normal')"
      ],
      "execution_count": 2,
      "outputs": []
    },
    {
      "cell_type": "code",
      "metadata": {
        "id": "nuH3-VhIF1Xy",
        "colab_type": "code",
        "colab": {}
      },
      "source": [
        "dirs = [ds_dir, training_dir, training_covid_dir, training_normal_dir,\n",
        "       testing_dir, testing_covid_dir, testing_normal_dir,\n",
        "       validation_dir, validation_covid_dir, validation_normal_dir]"
      ],
      "execution_count": 3,
      "outputs": []
    },
    {
      "cell_type": "code",
      "metadata": {
        "id": "U-y0TtbAGIe0",
        "colab_type": "code",
        "colab": {}
      },
      "source": [
        "for dir in dirs:\n",
        "  try:\n",
        "    os.mkdir(dir)\n",
        "  except:\n",
        "    pass"
      ],
      "execution_count": 4,
      "outputs": []
    },
    {
      "cell_type": "code",
      "metadata": {
        "id": "4WdQsJFuGIdz",
        "colab_type": "code",
        "colab": {}
      },
      "source": [
        "raw_dir = '/content/raw'\n",
        "ext_dir = '/content/raw/extracted'\n",
        "temp_dir = '/content/raw/temp'\n",
        "temp_covid_dir = '/content/raw/temp/covid'\n",
        "temp_normal_dir = '/content/raw/temp/normal'\n",
        "trans_dir = '/content/raw/transcoded'\n",
        "preprocess_dir = '/content/raw/preprocessed'\n",
        "\n",
        "\n",
        "temp_dirs = [raw_dir, ext_dir, temp_dir, temp_covid_dir, temp_normal_dir, trans_dir, \n",
        "             preprocess_dir]\n",
        "\n",
        "for dir in temp_dirs:\n",
        "  try:\n",
        "    os.mkdir(dir)\n",
        "  except:\n",
        "    pass\n"
      ],
      "execution_count": 5,
      "outputs": []
    },
    {
      "cell_type": "code",
      "metadata": {
        "id": "yfDPzYxQGxH5",
        "colab_type": "code",
        "colab": {}
      },
      "source": [
        "path = '/content/drive/My Drive/External Datasets/COVID19-Project/COVID19-CT-SCANS- Train&Validation.zip'\n",
        "f = ZipFile(path, 'r')\n",
        "f.extractall(ext_dir)"
      ],
      "execution_count": 6,
      "outputs": []
    },
    {
      "cell_type": "code",
      "metadata": {
        "id": "7dwIfup1IE1o",
        "colab_type": "code",
        "colab": {
          "base_uri": "https://localhost:8080/",
          "height": 67,
          "referenced_widgets": [
            "4fc5ae9c07254d1c9d0febb8ce1040b0",
            "11fca5ec7c714ebfba359db6a9b2003a",
            "657b54af45304d0f8057c69e84db82e6",
            "06be0b199ad045129dd69475cb640a4b",
            "cf715267d75b4cc19a9754f2fef0f569",
            "d844d4490b0f4228bf62b5117203d5d3",
            "6502fbe7f2ef41c99cea2a236224bc8b",
            "a77a67c2e17144408d5833e2d5f61d06"
          ]
        },
        "outputId": "ac4c92bd-bc41-4f30-e3c1-f62fe23c52a9"
      },
      "source": [
        "for image in tqdm(os.listdir(ext_dir)):\n",
        "  if 'covid' in image:\n",
        "      shutil.move(join(ext_dir, image), join(temp_covid_dir, image))\n",
        "  if 'normal' in image:\n",
        "      shutil.move(join(ext_dir, image), join(temp_normal_dir, image))"
      ],
      "execution_count": 7,
      "outputs": [
        {
          "output_type": "display_data",
          "data": {
            "application/vnd.jupyter.widget-view+json": {
              "model_id": "4fc5ae9c07254d1c9d0febb8ce1040b0",
              "version_minor": 0,
              "version_major": 2
            },
            "text/plain": [
              "HBox(children=(FloatProgress(value=0.0, max=12058.0), HTML(value='')))"
            ]
          },
          "metadata": {
            "tags": []
          }
        },
        {
          "output_type": "stream",
          "text": [
            "\n"
          ],
          "name": "stdout"
        }
      ]
    },
    {
      "cell_type": "code",
      "metadata": {
        "id": "V6V9wOTJIeph",
        "colab_type": "code",
        "colab": {
          "base_uri": "https://localhost:8080/",
          "height": 35
        },
        "outputId": "b931a134-4c40-4186-b3a1-219df173a312"
      },
      "source": [
        "difference = len(os.listdir(temp_normal_dir)) - len(os.listdir(temp_covid_dir))\n",
        "print(difference)"
      ],
      "execution_count": 8,
      "outputs": [
        {
          "output_type": "stream",
          "text": [
            "7494\n"
          ],
          "name": "stdout"
        }
      ]
    },
    {
      "cell_type": "code",
      "metadata": {
        "id": "RgouY1hQIzIc",
        "colab_type": "code",
        "colab": {
          "base_uri": "https://localhost:8080/",
          "height": 67,
          "referenced_widgets": [
            "5a9fc72e18e94d398985b83d5dc65048",
            "f91005ce69af43338422bd7482c3f94d",
            "323bcf4aa7fb4f6f93492f175ff795ab",
            "145481467720406c939613bbbaa083ff",
            "e80c328032c04a0e9d3838cd5276bdcb",
            "152a197948c8482d95fbf7dd45cc16e6",
            "de5d78dd7b8241f5ae0f3c6882a7ef5f",
            "740c1ec06d5f40388fb979e9aab4ddef"
          ]
        },
        "outputId": "720da6ba-a134-4364-c06d-73d5d2e3d8b3"
      },
      "source": [
        "for i in tqdm(range(difference)):\n",
        "  image = random.choice(os.listdir(temp_normal_dir))\n",
        "\n",
        "  os.remove(join(temp_normal_dir, image))"
      ],
      "execution_count": 9,
      "outputs": [
        {
          "output_type": "display_data",
          "data": {
            "application/vnd.jupyter.widget-view+json": {
              "model_id": "5a9fc72e18e94d398985b83d5dc65048",
              "version_minor": 0,
              "version_major": 2
            },
            "text/plain": [
              "HBox(children=(FloatProgress(value=0.0, max=7494.0), HTML(value='')))"
            ]
          },
          "metadata": {
            "tags": []
          }
        },
        {
          "output_type": "stream",
          "text": [
            "\n"
          ],
          "name": "stdout"
        }
      ]
    },
    {
      "cell_type": "code",
      "metadata": {
        "id": "qu6VMa4uJEvK",
        "colab_type": "code",
        "colab": {
          "base_uri": "https://localhost:8080/",
          "height": 35
        },
        "outputId": "2371fa15-ea8a-4e4c-9f68-cc18b8e618a3"
      },
      "source": [
        "difference_now = len(os.listdir(temp_normal_dir)) - len(os.listdir(temp_covid_dir))\n",
        "print(difference_now)"
      ],
      "execution_count": 10,
      "outputs": [
        {
          "output_type": "stream",
          "text": [
            "0\n"
          ],
          "name": "stdout"
        }
      ]
    },
    {
      "cell_type": "code",
      "metadata": {
        "id": "wtLdgaw5IV4y",
        "colab_type": "code",
        "colab": {}
      },
      "source": [
        "def transcode(source, destination):\n",
        "  for image in tqdm(os.listdir(source)):\n",
        "      path = join(source, image)\n",
        "      save_path= join(destination, image)\n",
        "                      \n",
        "      with open(path, 'rb') as f:\n",
        "          tif = pil_image.open(io.BytesIO(f.read()))\n",
        "      array=np.array(tif)\n",
        "      max_val=np.amax(array)\n",
        "      normalized=(array/max_val)\n",
        "      im = pil_image.fromarray(normalized)\n",
        "      os.remove(path)\n",
        "      im.save(save_path) "
      ],
      "execution_count": 11,
      "outputs": []
    },
    {
      "cell_type": "code",
      "metadata": {
        "id": "bfLHfvWyJidO",
        "colab_type": "code",
        "colab": {
          "base_uri": "https://localhost:8080/",
          "height": 117,
          "referenced_widgets": [
            "14ded279526c4b01bc4dec6f77035135",
            "befe275aa9514174a157515ffed2f17c",
            "9ccfb22c8c894d968cef089433036d0c",
            "186f31d60e9e402d8ab8105476955d1b",
            "98cfa517bcde4ddd8d3ef3da4b1f19cc",
            "a74cabf33eb24a2b8fa172141de1c1e7",
            "13766d0151f0472398f88e8dc2fe6673",
            "fc1985899afb4d6198e101d7ec1ce90d",
            "a3711be4f69048dface6834861f09cb4",
            "27644d991bdb45a497a89778b08d3660",
            "09cb38ff636540a48a4800d8110de02d",
            "034e33c258ee458385e1667328f96f07",
            "5f1ede11ce7c48a281c5a8c49233d45b",
            "d5d49e4eddae477ea8f80c9d33f62822",
            "8509ea575e84411ebb1ea7a45db319df",
            "c357855469da4f0a94c33cbd01a2d257"
          ]
        },
        "outputId": "d0dc6be4-a057-4143-8b1c-0281633cd015"
      },
      "source": [
        "transcode(temp_normal_dir, trans_dir)\n",
        "transcode(temp_covid_dir, trans_dir)"
      ],
      "execution_count": 12,
      "outputs": [
        {
          "output_type": "display_data",
          "data": {
            "application/vnd.jupyter.widget-view+json": {
              "model_id": "14ded279526c4b01bc4dec6f77035135",
              "version_minor": 0,
              "version_major": 2
            },
            "text/plain": [
              "HBox(children=(FloatProgress(value=0.0, max=2282.0), HTML(value='')))"
            ]
          },
          "metadata": {
            "tags": []
          }
        },
        {
          "output_type": "stream",
          "text": [
            "\n"
          ],
          "name": "stdout"
        },
        {
          "output_type": "display_data",
          "data": {
            "application/vnd.jupyter.widget-view+json": {
              "model_id": "a3711be4f69048dface6834861f09cb4",
              "version_minor": 0,
              "version_major": 2
            },
            "text/plain": [
              "HBox(children=(FloatProgress(value=0.0, max=2282.0), HTML(value='')))"
            ]
          },
          "metadata": {
            "tags": []
          }
        },
        {
          "output_type": "stream",
          "text": [
            "\n"
          ],
          "name": "stdout"
        }
      ]
    },
    {
      "cell_type": "code",
      "metadata": {
        "id": "CbiXy5Y9KBox",
        "colab_type": "code",
        "colab": {
          "base_uri": "https://localhost:8080/",
          "height": 67,
          "referenced_widgets": [
            "beedd8f798534876933e53fccf6f4688",
            "b972ae92ff7147108ac5426281926487",
            "9c68fd7bfa2b4dbb9e7813e5aa68054e",
            "f23af6a56c68431fa38dd26cd52f6e45",
            "c4a4e7f8e06144418b68d0e3a5f39a74",
            "b251ebdc75fb47bea4bbff94f2ecf5b1",
            "e3115110bb7641e095828c1221996d42",
            "8307b018ef384bd49e516dd288d2bca4"
          ]
        },
        "outputId": "3f578e63-e262-4510-8f2f-ae0e092b8bf6"
      },
      "source": [
        "for image in tqdm(os.listdir(trans_dir)):\n",
        "  if 'covid' in image:\n",
        "      shutil.move(join(trans_dir, image), join(temp_covid_dir, image))\n",
        "  if 'normal' in image:\n",
        "      shutil.move(join(trans_dir, image), join(temp_normal_dir, image))"
      ],
      "execution_count": 21,
      "outputs": [
        {
          "output_type": "display_data",
          "data": {
            "application/vnd.jupyter.widget-view+json": {
              "model_id": "beedd8f798534876933e53fccf6f4688",
              "version_minor": 0,
              "version_major": 2
            },
            "text/plain": [
              "HBox(children=(FloatProgress(value=0.0, max=4564.0), HTML(value='')))"
            ]
          },
          "metadata": {
            "tags": []
          }
        },
        {
          "output_type": "stream",
          "text": [
            "\n"
          ],
          "name": "stdout"
        }
      ]
    },
    {
      "cell_type": "code",
      "metadata": {
        "id": "kUVrkTiWJ8IE",
        "colab_type": "code",
        "colab": {}
      },
      "source": [
        "def preprocess(source, destination):\n",
        "  CLIP_LIMIT = 2.0\n",
        "  for image in tqdm(os.listdir(source)):\n",
        "    path = join(source, image)\n",
        "\n",
        "    img = cv2.imread(path, -1)\n",
        "    conv_img = img_as_ubyte(img)\n",
        "\n",
        "    clahe = cv2.createCLAHE(clipLimit=CLIP_LIMIT, tileGridSize=(8, 8))\n",
        "    cl1 = clahe.apply(conv_img)\n",
        "\n",
        "    os.chdir(destination)\n",
        "    cv2.imwrite(f'CLAHE-{image}', cl1)\n",
        "  \n",
        "  return\n",
        "      \n",
        "  \n"
      ],
      "execution_count": 37,
      "outputs": []
    },
    {
      "cell_type": "code",
      "metadata": {
        "id": "hbv_Gn_0Dv6D",
        "colab_type": "code",
        "colab": {
          "base_uri": "https://localhost:8080/",
          "height": 35
        },
        "outputId": "bba5c907-22d3-48cb-d5d0-42c2f457cbbb"
      },
      "source": [
        "print(len(os.listdir(temp_covid_dir)))"
      ],
      "execution_count": 38,
      "outputs": [
        {
          "output_type": "stream",
          "text": [
            "2282\n"
          ],
          "name": "stdout"
        }
      ]
    },
    {
      "cell_type": "code",
      "metadata": {
        "id": "fzh6dXmvKSgP",
        "colab_type": "code",
        "colab": {
          "base_uri": "https://localhost:8080/",
          "height": 117,
          "referenced_widgets": [
            "6d1952a3f4ad49b9a0947105c2b602fd",
            "83e1d68fd3e84868ab41dcefd3c559db",
            "3623436cc95c4fec839f508698ac2ca2",
            "23e7900e2e7648a89469a1a831ed1592",
            "c73df093a3734979a05f6ee877b76ff6",
            "6598b59830514fe8b1013b0b9a5cd5fd",
            "71e266965971418d9f36b623e48a1561",
            "7974ab35652a4b11b562a08808c733da",
            "2754b6a7251442a88d17da033f39ddfd",
            "0942aeca5770488cbf8d97a34b477626",
            "24ee3b1c26de4a84ae22868408f371c6",
            "dc7eb5b2eacc4f08828a3186b88d1d1f",
            "1fe7a6ca17e2488597501b4113c7f994",
            "fc4b68792e19448b8d90818915471489",
            "23d94b7066f040edae674438fc0d8d33",
            "fa617d1300d74ccb9de7d9905dc2f3b4"
          ]
        },
        "outputId": "66877443-3182-48c8-95b8-2599abde7f85"
      },
      "source": [
        "preprocess(temp_covid_dir, training_covid_dir)\n",
        "preprocess(temp_normal_dir, training_normal_dir)"
      ],
      "execution_count": 39,
      "outputs": [
        {
          "output_type": "display_data",
          "data": {
            "application/vnd.jupyter.widget-view+json": {
              "model_id": "6d1952a3f4ad49b9a0947105c2b602fd",
              "version_minor": 0,
              "version_major": 2
            },
            "text/plain": [
              "HBox(children=(FloatProgress(value=0.0, max=2282.0), HTML(value='')))"
            ]
          },
          "metadata": {
            "tags": []
          }
        },
        {
          "output_type": "stream",
          "text": [
            "\n"
          ],
          "name": "stdout"
        },
        {
          "output_type": "display_data",
          "data": {
            "application/vnd.jupyter.widget-view+json": {
              "model_id": "2754b6a7251442a88d17da033f39ddfd",
              "version_minor": 0,
              "version_major": 2
            },
            "text/plain": [
              "HBox(children=(FloatProgress(value=0.0, max=2282.0), HTML(value='')))"
            ]
          },
          "metadata": {
            "tags": []
          }
        },
        {
          "output_type": "stream",
          "text": [
            "\n"
          ],
          "name": "stdout"
        }
      ]
    },
    {
      "cell_type": "code",
      "metadata": {
        "id": "hpwurfsuF9bK",
        "colab_type": "code",
        "colab": {
          "base_uri": "https://localhost:8080/",
          "height": 55
        },
        "outputId": "4b9f7fc6-634b-431e-f910-0685b207f417"
      },
      "source": [
        "print(os.listdir(training_covid_dir))"
      ],
      "execution_count": 48,
      "outputs": [
        {
          "output_type": "stream",
          "text": [
            "['CLAHE-137covid_patient105_SR_3_IM00013.tif', 'CLAHE-137covid_patient13_SR_4_IM00024.tif', 'CLAHE-137covid_patient15_SR_4_IM00010.tif', 'CLAHE-157covid_patient141_SR_4_IM00020.tif', 'CLAHE-137covid_patient59_SR_2_IM00040.tif', 'CLAHE-137covid_patient70_SR_4_IM00077.tif', 'CLAHE-137covid_patient63_SR_3_IM00006.tif', 'CLAHE-137covid_patient69_SR_3_IM00005.tif', 'CLAHE-137covid_patient57_SR_4_IM00020.tif', 'CLAHE-137covid_patient34_SR_2_IM00021.tif', 'CLAHE-137covid_patient1_SR_4_IM00112.tif', 'CLAHE-137covid_patient1_SR_2_IM00014.tif', 'CLAHE-137covid_patient115_SR_4_IM00009.tif', 'CLAHE-137covid_patient7_SR_2_IM00029.tif', 'CLAHE-137covid_patient115_SR_4_IM00011.tif', 'CLAHE-137covid_patient31_SR_3_IM00019.tif', 'CLAHE-137covid_patient76_SR_4_IM00020.tif', 'CLAHE-137covid_patient45_SR_2_IM00033.tif', 'CLAHE-137covid_patient63_SR_4_IM00022.tif', 'CLAHE-137covid_patient61_SR_4_IM00049.tif', 'CLAHE-157covid_patient136_SR_3_IM00017.tif', 'CLAHE-157covid_patient142_SR_3_IM00024.tif', 'CLAHE-157covid_patient125_SR_2_IM00022.tif', 'CLAHE-137covid_patient96_SR_2_IM00014.tif', 'CLAHE-157covid_patient124_SR_2_IM00025.tif', 'CLAHE-137covid_patient101_SR_4_IM00006.tif', 'CLAHE-137covid_patient51_SR_2_IM00020.tif', 'CLAHE-157covid_patient144_SR_2_IM00027.tif', 'CLAHE-137covid_patient43_SR_4_IM00158.tif', 'CLAHE-137covid_patient1_SR_4_IM00075.tif', 'CLAHE-137covid_patient58_SR_2_IM00014.tif', 'CLAHE-137covid_patient29_SR_4_IM00008.tif', 'CLAHE-137covid_patient76_SR_3_IM00014.tif', 'CLAHE-137covid_patient99_SR_3_IM00019.tif', 'CLAHE-157covid_patient126_SR_3_IM00026.tif', 'CLAHE-137covid_patient10_SR_2_IM00024.tif', 'CLAHE-137covid_patient86_SR_4_IM00032.tif', 'CLAHE-137covid_patient42_SR_2_IM00021.tif', 'CLAHE-157covid_patient133_SR_2_IM00024.tif', 'CLAHE-137covid_patient32_SR_2_IM00036.tif', 'CLAHE-137covid_patient34_SR_4_IM00023.tif', 'CLAHE-137covid_patient82_SR_3_IM00026.tif', 'CLAHE-137covid_patient50_SR_3_IM00022.tif', 'CLAHE-137covid_patient81_SR_3_IM00020.tif', 'CLAHE-137covid_patient63_SR_2_IM00037.tif', 'CLAHE-137covid_patient15_SR_3_IM00011.tif', 'CLAHE-137covid_patient61_SR_4_IM00040.tif', 'CLAHE-137covid_patient10_SR_3_IM00016.tif', 'CLAHE-137covid_patient115_SR_3_IM00018.tif', 'CLAHE-137covid_patient98_SR_4_IM00083.tif', 'CLAHE-137covid_patient85_SR_4_IM00072.tif', 'CLAHE-137covid_patient61_SR_2_IM00025.tif', 'CLAHE-137covid_patient101_SR_4_IM00010.tif', 'CLAHE-137covid_patient31_SR_3_IM00009.tif', 'CLAHE-137covid_patient92_SR_4_IM00060.tif', 'CLAHE-137covid_patient24_SR_3_IM00017.tif', 'CLAHE-137covid_patient86_SR_4_IM00073.tif', 'CLAHE-137covid_patient1_SR_4_IM00085.tif', 'CLAHE-137covid_patient70_SR_3_IM00010.tif', 'CLAHE-137covid_patient92_SR_4_IM00055.tif', 'CLAHE-137covid_patient96_SR_4_IM00050.tif', 'CLAHE-137covid_patient78_SR_4_IM00199.tif', 'CLAHE-137covid_patient82_SR_2_IM00011.tif', 'CLAHE-137covid_patient35_SR_3_IM00003.tif', 'CLAHE-137covid_patient70_SR_2_IM00015.tif', 'CLAHE-137covid_patient22_SR_3_IM05056.tif', 'CLAHE-137covid_patient118_SR_3_IM00010.tif', 'CLAHE-157covid_patient140_SR_2_IM00031.tif', 'CLAHE-137covid_patient103_SR_2_IM00036.tif', 'CLAHE-137covid_patient118_SR_2_IM00023.tif', 'CLAHE-157covid_patient124_SR_3_IM00010.tif', 'CLAHE-137covid_patient45_SR_4_IM00020.tif', 'CLAHE-137covid_patient7_SR_2_IM00013.tif', 'CLAHE-137covid_patient80_SR_2_IM00017.tif', 'CLAHE-137covid_patient1_SR_4_IM00057.tif', 'CLAHE-137covid_patient15_SR_4_IM00008.tif', 'CLAHE-137covid_patient31_SR_3_IM00014.tif', 'CLAHE-137covid_patient32_SR_3_IM00024.tif', 'CLAHE-157covid_patient140_SR_3_IM00029.tif', 'CLAHE-137covid_patient61_SR_4_IM00046.tif', 'CLAHE-137covid_patient81_SR_2_IM00050.tif', 'CLAHE-137covid_patient51_SR_2_IM00016.tif', 'CLAHE-137covid_patient78_SR_2_IM00011.tif', 'CLAHE-137covid_patient69_SR_4_IM00030.tif', 'CLAHE-137covid_patient97_SR_3_IM00027.tif', 'CLAHE-137covid_patient61_SR_2_IM00026.tif', 'CLAHE-137covid_patient50_SR_2_IM00030.tif', 'CLAHE-137covid_patient59_SR_3_IM00023.tif', 'CLAHE-137covid_patient45_SR_2_IM00022.tif', 'CLAHE-137covid_patient63_SR_2_IM00038.tif', 'CLAHE-137covid_patient98_SR_3_IM00023.tif', 'CLAHE-137covid_patient96_SR_4_IM00054.tif', 'CLAHE-137covid_patient86_SR_4_IM00077.tif', 'CLAHE-137covid_patient59_SR_4_IM00031.tif', 'CLAHE-137covid_patient1_SR_3_IM00023.tif', 'CLAHE-157covid_patient125_SR_4_IM00024.tif', 'CLAHE-137covid_patient92_SR_3_IM00023.tif', 'CLAHE-137covid_patient45_SR_3_IM00021.tif', 'CLAHE-137covid_patient91_SR_2_IM00031.tif', 'CLAHE-137covid_patient99_SR_4_IM00036.tif', 'CLAHE-137covid_patient54_SR_2_IM00032.tif', 'CLAHE-137covid_patient86_SR_4_IM00074.tif', 'CLAHE-137covid_patient97_SR_3_IM00025.tif', 'CLAHE-137covid_patient30_SR_2_IM00031.tif', 'CLAHE-137covid_patient60_SR_2_IM00020.tif', 'CLAHE-137covid_patient7_SR_3_IM00021.tif', 'CLAHE-137covid_patient1_SR_3_IM00011.tif', 'CLAHE-137covid_patient84_SR_3_IM00018.tif', 'CLAHE-137covid_patient99_SR_4_IM00042.tif', 'CLAHE-137covid_patient15_SR_4_IM00007.tif', 'CLAHE-137covid_patient7_SR_3_IM00019.tif', 'CLAHE-137covid_patient24_SR_3_IM00018.tif', 'CLAHE-137covid_patient74_SR_2_IM00013.tif', 'CLAHE-137covid_patient69_SR_4_IM00038.tif', 'CLAHE-137covid_patient96_SR_4_IM00059.tif', 'CLAHE-137covid_patient35_SR_4_IM00017.tif', 'CLAHE-137covid_patient22_SR_3_IM00028.tif', 'CLAHE-137covid_patient105_SR_4_IM00051.tif', 'CLAHE-157covid_patient126_SR_3_IM00025.tif', 'CLAHE-137covid_patient70_SR_4_IM00094.tif', 'CLAHE-137covid_patient91_SR_4_IM00015.tif', 'CLAHE-137covid_patient33_SR_2_IM00043.tif', 'CLAHE-137covid_patient22_SR_2_IM00029.tif', 'CLAHE-137covid_patient118_SR_3_IM00024.tif', 'CLAHE-137covid_patient97_SR_4_IM00013.tif', 'CLAHE-137covid_patient63_SR_2_IM00035.tif', 'CLAHE-157covid_patient125_SR_3_IM00021.tif', 'CLAHE-137covid_patient7_SR_2_IM00012.tif', 'CLAHE-137covid_patient63_SR_4_IM00024.tif', 'CLAHE-137covid_patient1_SR_4_IM00064.tif', 'CLAHE-137covid_patient43_SR_2_IM00028.tif', 'CLAHE-137covid_patient99_SR_2_IM00021.tif', 'CLAHE-137covid_patient118_SR_3_IM00007.tif', 'CLAHE-137covid_patient81_SR_4_IM00021.tif', 'CLAHE-137covid_patient3_SR_2_IM00023.tif', 'CLAHE-157covid_patient124_SR_3_IM00012.tif', 'CLAHE-137covid_patient81_SR_4_IM00027.tif', 'CLAHE-137covid_patient117_SR_4_IM00004.tif', 'CLAHE-137covid_patient97_SR_4_IM00024.tif', 'CLAHE-137covid_patient22_SR_4_IM00182.tif', 'CLAHE-137covid_patient13_SR_2_IM00015.tif', 'CLAHE-137covid_patient69_SR_4_IM00025.tif', 'CLAHE-137covid_patient78_SR_4_IM00235.tif', 'CLAHE-157covid_patient125_SR_3_IM00023.tif', 'CLAHE-137covid_patient97_SR_2_IM00035.tif', 'CLAHE-137covid_patient81_SR_3_IM00013.tif', 'CLAHE-157covid_patient133_SR_2_IM00012.tif', 'CLAHE-137covid_patient96_SR_3_IM00019.tif', 'CLAHE-137covid_patient21_SR_2_IM00015.tif', 'CLAHE-157covid_patient145_SR_4_IM00022.tif', 'CLAHE-137covid_patient51_SR_4_IM00020.tif', 'CLAHE-137covid_patient78_SR_2_IM00014.tif', 'CLAHE-137covid_patient76_SR_3_IM00025.tif', 'CLAHE-137covid_patient105_SR_4_IM00122.tif', 'CLAHE-137covid_patient35_SR_2_IM00021.tif', 'CLAHE-137covid_patient51_SR_2_IM00013.tif', 'CLAHE-137covid_patient85_SR_4_IM00083.tif', 'CLAHE-137covid_patient118_SR_3_IM00025.tif', 'CLAHE-137covid_patient81_SR_3_IM00025.tif', 'CLAHE-137covid_patient68_SR_4_IM00011.tif', 'CLAHE-137covid_patient59_SR_2_IM00043.tif', 'CLAHE-137covid_patient118_SR_4_IM00012.tif', 'CLAHE-137covid_patient30_SR_2_IM00029.tif', 'CLAHE-157covid_patient130_SR_4_IM00023.tif', 'CLAHE-157covid_patient144_SR_2_IM00014.tif', 'CLAHE-137covid_patient92_SR_4_IM00064.tif', 'CLAHE-137covid_patient97_SR_3_IM00023.tif', 'CLAHE-137covid_patient63_SR_3_IM00005.tif', 'CLAHE-157covid_patient133_SR_2_IM00025.tif', 'CLAHE-137covid_patient101_SR_4_IM00018.tif', 'CLAHE-137covid_patient15_SR_4_IM00014.tif', 'CLAHE-157covid_patient145_SR_2_IM00027.tif', 'CLAHE-157covid_patient130_SR_2_IM00024.tif', 'CLAHE-137covid_patient51_SR_3_IM00013.tif', 'CLAHE-157covid_patient144_SR_2_IM00032.tif', 'CLAHE-137covid_patient78_SR_4_IM00116.tif', 'CLAHE-157covid_patient125_SR_2_IM00027.tif', 'CLAHE-137covid_patient15_SR_2_IM00012.tif', 'CLAHE-137covid_patient57_SR_4_IM00023.tif', 'CLAHE-137covid_patient31_SR_4_IM00020.tif', 'CLAHE-137covid_patient92_SR_2_IM00010.tif', 'CLAHE-137covid_patient76_SR_2_IM00041.tif', 'CLAHE-137covid_patient31_SR_2_IM00042.tif', 'CLAHE-137covid_patient84_SR_4_IM00015.tif', 'CLAHE-137covid_patient92_SR_3_IM00016.tif', 'CLAHE-157covid_patient125_SR_2_IM00016.tif', 'CLAHE-137covid_patient92_SR_4_IM00043.tif', 'CLAHE-137covid_patient54_SR_2_IM00033.tif', 'CLAHE-137covid_patient57_SR_2_IM00025.tif', 'CLAHE-157covid_patient140_SR_3_IM00026.tif', 'CLAHE-137covid_patient96_SR_3_IM00018.tif', 'CLAHE-137covid_patient105_SR_4_IM00098.tif', 'CLAHE-137covid_patient51_SR_4_IM00024.tif', 'CLAHE-137covid_patient1_SR_2_IM00023.tif', 'CLAHE-157covid_patient140_SR_3_IM00028.tif', 'CLAHE-137covid_patient26_SR_4_IM00101.tif', 'CLAHE-157covid_patient125_SR_3_IM00008.tif', 'CLAHE-137covid_patient33_SR_2_IM00036.tif', 'CLAHE-137covid_patient82_SR_3_IM00022.tif', 'CLAHE-157covid_patient127_SR_3_IM00012.tif', 'CLAHE-137covid_patient34_SR_2_IM00028.tif', 'CLAHE-157covid_patient145_SR_3_IM00017.tif', 'CLAHE-157covid_patient141_SR_2_IM00014.tif', 'CLAHE-137covid_patient45_SR_2_IM00021.tif', 'CLAHE-137covid_patient76_SR_4_IM00011.tif', 'CLAHE-137covid_patient24_SR_3_IM00007.tif', 'CLAHE-137covid_patient63_SR_2_IM00025.tif', 'CLAHE-137covid_patient60_SR_2_IM00015.tif', 'CLAHE-137covid_patient31_SR_4_IM00011.tif', 'CLAHE-137covid_patient18_SR_2_IM00032.tif', 'CLAHE-137covid_patient61_SR_4_IM00035.tif', 'CLAHE-137covid_patient18_SR_3_IM00020.tif', 'CLAHE-137covid_patient85_SR_2_IM00011.tif', 'CLAHE-137covid_patient105_SR_4_IM00076.tif', 'CLAHE-137covid_patient118_SR_4_IM00017.tif', 'CLAHE-157covid_patient138_SR_2_IM00037.tif', 'CLAHE-137covid_patient10_SR_3_IM00015.tif', 'CLAHE-137covid_patient21_SR_2_IM00014.tif', 'CLAHE-157covid_patient141_SR_4_IM00025.tif', 'CLAHE-137covid_patient84_SR_3_IM00014.tif', 'CLAHE-137covid_patient1_SR_2_IM00028.tif', 'CLAHE-137covid_patient16_SR_4_IM00051.tif', 'CLAHE-137covid_patient1_SR_4_IM00087.tif', 'CLAHE-137covid_patient17_SR_4_IM00006.tif', 'CLAHE-137covid_patient49_SR_2_IM00017.tif', 'CLAHE-137covid_patient29_SR_2_IM00015.tif', 'CLAHE-137covid_patient42_SR_2_IM00023.tif', 'CLAHE-137covid_patient91_SR_2_IM00013.tif', 'CLAHE-157covid_patient133_SR_3_IM00022.tif', 'CLAHE-137covid_patient101_SR_4_IM00014.tif', 'CLAHE-137covid_patient78_SR_2_IM00030.tif', 'CLAHE-137covid_patient51_SR_2_IM00034.tif', 'CLAHE-137covid_patient49_SR_2_IM00024.tif', 'CLAHE-157covid_patient126_SR_2_IM00020.tif', 'CLAHE-137covid_patient41_SR_2_IM00022.tif', 'CLAHE-137covid_patient18_SR_3_IM00017.tif', 'CLAHE-137covid_patient31_SR_4_IM00015.tif', 'CLAHE-137covid_patient85_SR_3_IM00010.tif', 'CLAHE-137covid_patient1_SR_3_IM00017.tif', 'CLAHE-137covid_patient120_SR_2_IM00021.tif', 'CLAHE-137covid_patient1_SR_3_IM00018.tif', 'CLAHE-137covid_patient61_SR_4_IM00041.tif', 'CLAHE-137covid_patient15_SR_2_IM00015.tif', 'CLAHE-157covid_patient125_SR_3_IM00013.tif', 'CLAHE-137covid_patient63_SR_2_IM00014.tif', 'CLAHE-137covid_patient42_SR_2_IM00020.tif', 'CLAHE-137covid_patient18_SR_2_IM00033.tif', 'CLAHE-137covid_patient61_SR_2_IM00006.tif', 'CLAHE-157covid_patient140_SR_4_IM00023.tif', 'CLAHE-137covid_patient115_SR_4_IM00007.tif', 'CLAHE-137covid_patient45_SR_4_IM00014.tif', 'CLAHE-137covid_patient10_SR_4_IM00067.tif', 'CLAHE-137covid_patient78_SR_3_IM00034.tif', 'CLAHE-137covid_patient15_SR_4_IM00012.tif', 'CLAHE-137covid_patient96_SR_2_IM00021.tif', 'CLAHE-157covid_patient125_SR_2_IM00024.tif', 'CLAHE-137covid_patient34_SR_2_IM00025.tif', 'CLAHE-137covid_patient21_SR_2_IM00017.tif', 'CLAHE-137covid_patient99_SR_4_IM00041.tif', 'CLAHE-137covid_patient76_SR_2_IM00034.tif', 'CLAHE-137covid_patient69_SR_4_IM00035.tif', 'CLAHE-137covid_patient45_SR_2_IM00011.tif', 'CLAHE-137covid_patient45_SR_2_IM00019.tif', 'CLAHE-137covid_patient61_SR_3_IM00025.tif', 'CLAHE-137covid_patient76_SR_2_IM00046.tif', 'CLAHE-137covid_patient10_SR_3_IM00011.tif', 'CLAHE-137covid_patient85_SR_4_IM00061.tif', 'CLAHE-137covid_patient99_SR_3_IM00015.tif', 'CLAHE-137covid_patient63_SR_2_IM00012.tif', 'CLAHE-157covid_patient134_SR_3_IM00029.tif', 'CLAHE-137covid_patient49_SR_2_IM00032.tif', 'CLAHE-137covid_patient84_SR_2_IM00026.tif', 'CLAHE-137covid_patient31_SR_2_IM00016.tif', 'CLAHE-137covid_patient119_SR_2_IM00032.tif', 'CLAHE-137covid_patient45_SR_2_IM00028.tif', 'CLAHE-137covid_patient78_SR_4_IM00181.tif', 'CLAHE-137covid_patient7_SR_2_IM00031.tif', 'CLAHE-137covid_patient75_SR_4_IM00033.tif', 'CLAHE-137covid_patient70_SR_2_IM00017.tif', 'CLAHE-137covid_patient13_SR_4_IM00025.tif', 'CLAHE-137covid_patient1_SR_2_IM00017.tif', 'CLAHE-137covid_patient24_SR_4_IM00010.tif', 'CLAHE-137covid_patient3_SR_2_IM00033.tif', 'CLAHE-137covid_patient15_SR_2_IM00009.tif', 'CLAHE-137covid_patient118_SR_4_IM00008.tif', 'CLAHE-137covid_patient57_SR_4_IM00021.tif', 'CLAHE-157covid_patient141_SR_4_IM00007.tif', 'CLAHE-157covid_patient145_SR_4_IM00020.tif', 'CLAHE-137covid_patient26_SR_3_IM00026.tif', 'CLAHE-137covid_patient98_SR_2_IM00004.tif', 'CLAHE-137covid_patient10_SR_2_IM00026.tif', 'CLAHE-137covid_patient78_SR_4_IM00195.tif', 'CLAHE-137covid_patient24_SR_2_IM00011.tif', 'CLAHE-157covid_patient133_SR_2_IM00021.tif', 'CLAHE-137covid_patient22_SR_3_IM05055.tif', 'CLAHE-137covid_patient101_SR_3_IM00019.tif', 'CLAHE-137covid_patient31_SR_2_IM00027.tif', 'CLAHE-137covid_patient31_SR_2_IM00043.tif', 'CLAHE-137covid_patient100_SR_2_IM00045.tif', 'CLAHE-137covid_patient59_SR_2_IM00036.tif', 'CLAHE-137covid_patient97_SR_2_IM00017.tif', 'CLAHE-157covid_patient140_SR_3_IM00027.tif', 'CLAHE-137covid_patient120_SR_2_IM00025.tif', 'CLAHE-137covid_patient15_SR_4_IM00002.tif', 'CLAHE-137covid_patient105_SR_2_IM00015.tif', 'CLAHE-137covid_patient85_SR_4_IM00191.tif', 'CLAHE-137covid_patient105_SR_3_IM00023.tif', 'CLAHE-137covid_patient85_SR_4_IM00198.tif', 'CLAHE-157covid_patient130_SR_3_IM00025.tif', 'CLAHE-157covid_patient124_SR_2_IM00024.tif', 'CLAHE-137covid_patient78_SR_4_IM00182.tif', 'CLAHE-137covid_patient24_SR_2_IM00020.tif', 'CLAHE-137covid_patient91_SR_3_IM00014.tif', 'CLAHE-157covid_patient124_SR_2_IM00022.tif', 'CLAHE-137covid_patient18_SR_2_IM00018.tif', 'CLAHE-137covid_patient10_SR_3_IM00028.tif', 'CLAHE-137covid_patient78_SR_4_IM00196.tif', 'CLAHE-137covid_patient68_SR_2_IM00017.tif', 'CLAHE-157covid_patient142_SR_3_IM00025.tif', 'CLAHE-157covid_patient133_SR_2_IM00016.tif', 'CLAHE-137covid_patient81_SR_2_IM00029.tif', 'CLAHE-137covid_patient100_SR_2_IM00028.tif', 'CLAHE-157covid_patient125_SR_4_IM00012.tif', 'CLAHE-137covid_patient91_SR_2_IM00015.tif', 'CLAHE-157covid_patient144_SR_2_IM00016.tif', 'CLAHE-137covid_patient1_SR_4_IM00115.tif', 'CLAHE-137covid_patient97_SR_2_IM00020.tif', 'CLAHE-137covid_patient10_SR_3_IM00013.tif', 'CLAHE-157covid_patient141_SR_2_IM00034.tif', 'CLAHE-137covid_patient49_SR_3_IM00025.tif', 'CLAHE-137covid_patient86_SR_2_IM00016.tif', 'CLAHE-137covid_patient69_SR_4_IM00042.tif', 'CLAHE-137covid_patient122_SR_4_IM00025.tif', 'CLAHE-157covid_patient145_SR_2_IM00026.tif', 'CLAHE-157covid_patient133_SR_3_IM00026.tif', 'CLAHE-157covid_patient133_SR_3_IM00008.tif', 'CLAHE-137covid_patient78_SR_2_IM00022.tif', 'CLAHE-137covid_patient49_SR_4_IM00014.tif', 'CLAHE-137covid_patient76_SR_2_IM00038.tif', 'CLAHE-137covid_patient1_SR_4_IM00086.tif', 'CLAHE-137covid_patient101_SR_2_IM00012.tif', 'CLAHE-137covid_patient115_SR_4_IM00008.tif', 'CLAHE-137covid_patient51_SR_4_IM00007.tif', 'CLAHE-137covid_patient98_SR_2_IM00021.tif', 'CLAHE-137covid_patient31_SR_4_IM00018.tif', 'CLAHE-137covid_patient61_SR_2_IM00023.tif', 'CLAHE-137covid_patient120_SR_3_IM00022.tif', 'CLAHE-157covid_patient139_SR_3_IM00021.tif', 'CLAHE-137covid_patient76_SR_3_IM00029.tif', 'CLAHE-137covid_patient49_SR_2_IM00023.tif', 'CLAHE-137covid_patient103_SR_3_IM00019.tif', 'CLAHE-137covid_patient15_SR_3_IM00007.tif', 'CLAHE-137covid_patient105_SR_4_IM00077.tif', 'CLAHE-137covid_patient51_SR_2_IM00010.tif', 'CLAHE-137covid_patient83_SR_2_IM00032.tif', 'CLAHE-157covid_patient136_SR_2_IM00027.tif', 'CLAHE-137covid_patient45_SR_3_IM00018.tif', 'CLAHE-137covid_patient118_SR_2_IM00008.tif', 'CLAHE-137covid_patient59_SR_4_IM00032.tif', 'CLAHE-137covid_patient105_SR_2_IM00019.tif', 'CLAHE-137covid_patient91_SR_3_IM00013.tif', 'CLAHE-137covid_patient115_SR_3_IM00010.tif', 'CLAHE-137covid_patient17_SR_4_IM00007.tif', 'CLAHE-137covid_patient78_SR_4_IM00114.tif', 'CLAHE-137covid_patient98_SR_2_IM00026.tif', 'CLAHE-157covid_patient141_SR_2_IM00027.tif', 'CLAHE-137covid_patient78_SR_4_IM00236.tif', 'CLAHE-137covid_patient84_SR_4_IM00010.tif', 'CLAHE-137covid_patient51_SR_4_IM00023.tif', 'CLAHE-137covid_patient85_SR_2_IM00014.tif', 'CLAHE-137covid_patient1_SR_4_IM00114.tif', 'CLAHE-137covid_patient22_SR_2_IM00030.tif', 'CLAHE-137covid_patient3_SR_2_IM00021.tif', 'CLAHE-137covid_patient76_SR_2_IM00044.tif', 'CLAHE-157covid_patient128_SR_2_IM00016.tif', 'CLAHE-137covid_patient30_SR_4_IM00020.tif', 'CLAHE-157covid_patient128_SR_3_IM00008.tif', 'CLAHE-137covid_patient21_SR_2_IM00020.tif', 'CLAHE-137covid_patient10_SR_3_IM00025.tif', 'CLAHE-137covid_patient82_SR_4_IM00026.tif', 'CLAHE-157covid_patient124_SR_2_IM00027.tif', 'CLAHE-137covid_patient51_SR_2_IM00029.tif', 'CLAHE-137covid_patient40_SR_2_IM00041.tif', 'CLAHE-137covid_patient70_SR_3_IM00022.tif', 'CLAHE-137covid_patient1_SR_4_IM00117.tif', 'CLAHE-137covid_patient51_SR_2_IM00033.tif', 'CLAHE-137covid_patient57_SR_2_IM00030.tif', 'CLAHE-137covid_patient78_SR_3_IM00017.tif', 'CLAHE-137covid_patient118_SR_2_IM00014.tif', 'CLAHE-137covid_patient17_SR_2_IM00015.tif', 'CLAHE-137covid_patient97_SR_3_IM00007.tif', 'CLAHE-137covid_patient81_SR_3_IM00033.tif', 'CLAHE-137covid_patient85_SR_4_IM00085.tif', 'CLAHE-137covid_patient81_SR_3_IM00006.tif', 'CLAHE-157covid_patient124_SR_2_IM00030.tif', 'CLAHE-137covid_patient63_SR_3_IM00017.tif', 'CLAHE-137covid_patient85_SR_4_IM00087.tif', 'CLAHE-137covid_patient20_SR_4_IM00021.tif', 'CLAHE-137covid_patient51_SR_2_IM00031.tif', 'CLAHE-137covid_patient78_SR_4_IM00250.tif', 'CLAHE-137covid_patient57_SR_2_IM00028.tif', 'CLAHE-137covid_patient96_SR_3_IM00016.tif', 'CLAHE-137covid_patient51_SR_4_IM00019.tif', 'CLAHE-137covid_patient115_SR_3_IM00006.tif', 'CLAHE-137covid_patient115_SR_2_IM00034.tif', 'CLAHE-137covid_patient63_SR_3_IM00016.tif', 'CLAHE-137covid_patient120_SR_3_IM00024.tif', 'CLAHE-137covid_patient10_SR_2_IM00015.tif', 'CLAHE-137covid_patient18_SR_2_IM00019.tif', 'CLAHE-137covid_patient92_SR_4_IM00042.tif', 'CLAHE-137covid_patient84_SR_3_IM00011.tif', 'CLAHE-137covid_patient85_SR_3_IM00030.tif', 'CLAHE-137covid_patient78_SR_3_IM00020.tif', 'CLAHE-137covid_patient63_SR_2_IM00034.tif', 'CLAHE-137covid_patient97_SR_3_IM00028.tif', 'CLAHE-137covid_patient1_SR_4_IM00058.tif', 'CLAHE-137covid_patient78_SR_2_IM00020.tif', 'CLAHE-137covid_patient51_SR_3_IM00011.tif', 'CLAHE-157covid_patient125_SR_3_IM00009.tif', 'CLAHE-157covid_patient140_SR_2_IM00032.tif', 'CLAHE-137covid_patient61_SR_2_IM00007.tif', 'CLAHE-137covid_patient101_SR_4_IM00013.tif', 'CLAHE-137covid_patient15_SR_3_IM00013.tif', 'CLAHE-137covid_patient75_SR_2_IM00052.tif', 'CLAHE-137covid_patient63_SR_4_IM00023.tif', 'CLAHE-137covid_patient10_SR_2_IM00018.tif', 'CLAHE-137covid_patient85_SR_4_IM00071.tif', 'CLAHE-137covid_patient103_SR_2_IM00035.tif', 'CLAHE-137covid_patient1_SR_4_IM00116.tif', 'CLAHE-137covid_patient51_SR_2_IM00027.tif', 'CLAHE-137covid_patient20_SR_2_IM00027.tif', 'CLAHE-137covid_patient105_SR_2_IM00021.tif', 'CLAHE-157covid_patient125_SR_4_IM00023.tif', 'CLAHE-137covid_patient3_SR_2_IM00025.tif', 'CLAHE-137covid_patient10_SR_4_IM00070.tif', 'CLAHE-137covid_patient63_SR_4_IM00026.tif', 'CLAHE-137covid_patient81_SR_4_IM00012.tif', 'CLAHE-137covid_patient18_SR_4_IM00026.tif', 'CLAHE-137covid_patient81_SR_4_IM00016.tif', 'CLAHE-137covid_patient118_SR_4_IM00004.tif', 'CLAHE-137covid_patient92_SR_4_IM00063.tif', 'CLAHE-157covid_patient133_SR_3_IM00015.tif', 'CLAHE-137covid_patient68_SR_2_IM00015.tif', 'CLAHE-137covid_patient105_SR_3_IM00022.tif', 'CLAHE-157covid_patient136_SR_2_IM00025.tif', 'CLAHE-137covid_patient15_SR_4_IM00015.tif', 'CLAHE-157covid_patient140_SR_2_IM00030.tif', 'CLAHE-137covid_patient96_SR_4_IM00052.tif', 'CLAHE-137covid_patient31_SR_4_IM00016.tif', 'CLAHE-137covid_patient59_SR_4_IM00033.tif', 'CLAHE-137covid_patient101_SR_2_IM00017.tif', 'CLAHE-157covid_patient141_SR_4_IM00019.tif', 'CLAHE-137covid_patient118_SR_4_IM00006.tif', 'CLAHE-137covid_patient7_SR_3_IM00009.tif', 'CLAHE-137covid_patient31_SR_4_IM00012.tif', 'CLAHE-137covid_patient80_SR_3_IM00019.tif', 'CLAHE-137covid_patient76_SR_3_IM00024.tif', 'CLAHE-137covid_patient105_SR_2_IM00012.tif', 'CLAHE-137covid_patient13_SR_3_IM00008.tif', 'CLAHE-137covid_patient115_SR_2_IM00013.tif', 'CLAHE-137covid_patient105_SR_2_IM00020.tif', 'CLAHE-137covid_patient92_SR_4_IM00057.tif', 'CLAHE-137covid_patient78_SR_3_IM00027.tif', 'CLAHE-137covid_patient34_SR_3_IM00021.tif', 'CLAHE-137covid_patient63_SR_3_IM00024.tif', 'CLAHE-157covid_patient133_SR_4_IM00030.tif', 'CLAHE-137covid_patient76_SR_3_IM00021.tif', 'CLAHE-137covid_patient49_SR_4_IM00011.tif', 'CLAHE-137covid_patient81_SR_3_IM00009.tif', 'CLAHE-157covid_patient145_SR_3_IM00018.tif', 'CLAHE-137covid_patient96_SR_2_IM00017.tif', 'CLAHE-137covid_patient17_SR_2_IM00030.tif', 'CLAHE-137covid_patient15_SR_3_IM00012.tif', 'CLAHE-137covid_patient74_SR_3_IM00024.tif', 'CLAHE-137covid_patient86_SR_2_IM00013.tif', 'CLAHE-137covid_patient31_SR_2_IM00024.tif', 'CLAHE-157covid_patient125_SR_3_IM00025.tif', 'CLAHE-157covid_patient133_SR_4_IM00033.tif', 'CLAHE-137covid_patient70_SR_4_IM00075.tif', 'CLAHE-137covid_patient63_SR_3_IM00007.tif', 'CLAHE-157covid_patient145_SR_2_IM00024.tif', 'CLAHE-137covid_patient105_SR_2_IM00011.tif', 'CLAHE-137covid_patient63_SR_4_IM00007.tif', 'CLAHE-137covid_patient76_SR_3_IM00015.tif', 'CLAHE-137covid_patient96_SR_4_IM00056.tif', 'CLAHE-157covid_patient130_SR_3_IM00021.tif', 'CLAHE-137covid_patient1_SR_3_IM00014.tif', 'CLAHE-157covid_patient141_SR_4_IM00013.tif', 'CLAHE-137covid_patient97_SR_2_IM00030.tif', 'CLAHE-137covid_patient115_SR_2_IM00031.tif', 'CLAHE-137covid_patient118_SR_4_IM00005.tif', 'CLAHE-137covid_patient81_SR_2_IM00037.tif', 'CLAHE-137covid_patient119_SR_3_IM00025.tif', 'CLAHE-137covid_patient18_SR_3_IM00013.tif', 'CLAHE-137covid_patient76_SR_3_IM00010.tif', 'CLAHE-137covid_patient118_SR_4_IM00023.tif', 'CLAHE-137covid_patient84_SR_2_IM00023.tif', 'CLAHE-137covid_patient31_SR_3_IM00018.tif', 'CLAHE-137covid_patient103_SR_2_IM00037.tif', 'CLAHE-157covid_patient133_SR_3_IM00017.tif', 'CLAHE-137covid_patient101_SR_4_IM00009.tif', 'CLAHE-157covid_patient141_SR_3_IM00025.tif', 'CLAHE-157covid_patient134_SR_3_IM00024.tif', 'CLAHE-137covid_patient18_SR_2_IM00035.tif', 'CLAHE-137covid_patient119_SR_2_IM00033.tif', 'CLAHE-137covid_patient18_SR_2_IM00038.tif', 'CLAHE-137covid_patient26_SR_4_IM00099.tif', 'CLAHE-137covid_patient1_SR_2_IM00020.tif', 'CLAHE-137covid_patient31_SR_4_IM00010.tif', 'CLAHE-157covid_patient126_SR_2_IM00036.tif', 'CLAHE-137covid_patient63_SR_4_IM00010.tif', 'CLAHE-137covid_patient91_SR_4_IM00014.tif', 'CLAHE-137covid_patient117_SR_2_IM00010.tif', 'CLAHE-137covid_patient15_SR_3_IM00008.tif', 'CLAHE-157covid_patient136_SR_2_IM00029.tif', 'CLAHE-137covid_patient69_SR_4_IM00018.tif', 'CLAHE-137covid_patient97_SR_3_IM00014.tif', 'CLAHE-137covid_patient118_SR_3_IM00008.tif', 'CLAHE-137covid_patient97_SR_3_IM00012.tif', 'CLAHE-137covid_patient13_SR_4_IM00008.tif', 'CLAHE-137covid_patient1_SR_2_IM00016.tif', 'CLAHE-137covid_patient63_SR_4_IM00013.tif', 'CLAHE-157covid_patient145_SR_4_IM00024.tif', 'CLAHE-137covid_patient81_SR_2_IM00026.tif', 'CLAHE-157covid_patient141_SR_3_IM00022.tif', 'CLAHE-137covid_patient92_SR_4_IM00051.tif', 'CLAHE-137covid_patient101_SR_2_IM00021.tif', 'CLAHE-137covid_patient99_SR_4_IM00034.tif', 'CLAHE-137covid_patient115_SR_3_IM00027.tif', 'CLAHE-137covid_patient51_SR_4_IM00017.tif', 'CLAHE-137covid_patient45_SR_2_IM00031.tif', 'CLAHE-137covid_patient76_SR_2_IM00015.tif', 'CLAHE-137covid_patient121_SR_3_IM00018.tif', 'CLAHE-137covid_patient30_SR_3_IM00020.tif', 'CLAHE-137covid_patient21_SR_2_IM00016.tif', 'CLAHE-137covid_patient118_SR_2_IM00013.tif', 'CLAHE-137covid_patient85_SR_4_IM00066.tif', 'CLAHE-137covid_patient96_SR_2_IM00015.tif', 'CLAHE-137covid_patient65_SR_4_IM00018.tif', 'CLAHE-137covid_patient84_SR_2_IM00027.tif', 'CLAHE-137covid_patient58_SR_4_IM00025.tif', 'CLAHE-137covid_patient1_SR_4_IM00074.tif', 'CLAHE-137covid_patient61_SR_2_IM00010.tif', 'CLAHE-137covid_patient1_SR_2_IM00011.tif', 'CLAHE-157covid_patient141_SR_2_IM00032.tif', 'CLAHE-137covid_patient98_SR_2_IM00013.tif', 'CLAHE-137covid_patient69_SR_4_IM00039.tif', 'CLAHE-157covid_patient141_SR_3_IM00024.tif', 'CLAHE-137covid_patient10_SR_3_IM00020.tif', 'CLAHE-137covid_patient115_SR_2_IM00019.tif', 'CLAHE-157covid_patient133_SR_4_IM00010.tif', 'CLAHE-137covid_patient3_SR_2_IM00035.tif', 'CLAHE-137covid_patient28_SR_2_IM00038.tif', 'CLAHE-157covid_patient130_SR_4_IM00022.tif', 'CLAHE-137covid_patient68_SR_2_IM00016.tif', 'CLAHE-137covid_patient118_SR_4_IM00025.tif', 'CLAHE-137covid_patient81_SR_2_IM00034.tif', 'CLAHE-137covid_patient24_SR_3_IM00009.tif', 'CLAHE-137covid_patient84_SR_3_IM00016.tif', 'CLAHE-137covid_patient103_SR_2_IM00034.tif', 'CLAHE-137covid_patient61_SR_4_IM00125.tif', 'CLAHE-137covid_patient115_SR_4_IM00023.tif', 'CLAHE-157covid_patient134_SR_2_IM00039.tif', 'CLAHE-137covid_patient105_SR_2_IM00026.tif', 'CLAHE-157covid_patient133_SR_3_IM00007.tif', 'CLAHE-137covid_patient115_SR_3_IM00017.tif', 'CLAHE-137covid_patient81_SR_2_IM00024.tif', 'CLAHE-137covid_patient13_SR_2_IM00016.tif', 'CLAHE-137covid_patient10_SR_2_IM00016.tif', 'CLAHE-137covid_patient20_SR_2_IM00026.tif', 'CLAHE-137covid_patient69_SR_4_IM00022.tif', 'CLAHE-137covid_patient118_SR_3_IM00004.tif', 'CLAHE-137covid_patient1_SR_4_IM00060.tif', 'CLAHE-137covid_patient70_SR_3_IM00015.tif', 'CLAHE-137covid_patient51_SR_2_IM00022.tif', 'CLAHE-137covid_patient86_SR_3_IM00012.tif', 'CLAHE-137covid_patient61_SR_4_IM00045.tif', 'CLAHE-137covid_patient59_SR_4_IM00036.tif', 'CLAHE-137covid_patient91_SR_4_IM00023.tif', 'CLAHE-157covid_patient133_SR_2_IM00011.tif', 'CLAHE-137covid_patient76_SR_2_IM00017.tif', 'CLAHE-137covid_patient115_SR_2_IM00027.tif', 'CLAHE-137covid_patient99_SR_4_IM00030.tif', 'CLAHE-157covid_patient142_SR_3_IM00017.tif', 'CLAHE-137covid_patient85_SR_4_IM00082.tif', 'CLAHE-137covid_patient120_SR_3_IM00023.tif', 'CLAHE-157covid_patient131_SR_3_IM00030.tif', 'CLAHE-137covid_patient80_SR_2_IM00021.tif', 'CLAHE-137covid_patient1_SR_4_IM00091.tif', 'CLAHE-137covid_patient45_SR_4_IM00021.tif', 'CLAHE-137covid_patient92_SR_4_IM00067.tif', 'CLAHE-157covid_patient141_SR_3_IM00010.tif', 'CLAHE-137covid_patient29_SR_3_IM00008.tif', 'CLAHE-137covid_patient54_SR_2_IM00029.tif', 'CLAHE-137covid_patient89_SR_3_IM00007.tif', 'CLAHE-137covid_patient51_SR_3_IM00008.tif', 'CLAHE-137covid_patient118_SR_4_IM00024.tif', 'CLAHE-137covid_patient76_SR_3_IM00031.tif', 'CLAHE-137covid_patient105_SR_4_IM00121.tif', 'CLAHE-137covid_patient80_SR_2_IM00024.tif', 'CLAHE-137covid_patient34_SR_3_IM00023.tif', 'CLAHE-137covid_patient81_SR_2_IM00018.tif', 'CLAHE-137covid_patient26_SR_2_IM00017.tif', 'CLAHE-157covid_patient138_SR_3_IM00028.tif', 'CLAHE-137covid_patient85_SR_3_IM00014.tif', 'CLAHE-137covid_patient76_SR_4_IM00026.tif', 'CLAHE-137covid_patient18_SR_3_IM00015.tif', 'CLAHE-137covid_patient50_SR_3_IM00021.tif', 'CLAHE-137covid_patient18_SR_3_IM00014.tif', 'CLAHE-157covid_patient134_SR_2_IM00017.tif', 'CLAHE-137covid_patient31_SR_2_IM00031.tif', 'CLAHE-137covid_patient91_SR_2_IM00017.tif', 'CLAHE-157covid_patient124_SR_3_IM00011.tif', 'CLAHE-137covid_patient57_SR_4_IM00022.tif', 'CLAHE-137covid_patient18_SR_2_IM00015.tif', 'CLAHE-137covid_patient51_SR_4_IM00013.tif', 'CLAHE-137covid_patient115_SR_3_IM00029.tif', 'CLAHE-137covid_patient9_SR_2_IM00035.tif', 'CLAHE-137covid_patient51_SR_2_IM00019.tif', 'CLAHE-157covid_patient141_SR_3_IM00023.tif', 'CLAHE-137covid_patient7_SR_2_IM00033.tif', 'CLAHE-157covid_patient127_SR_3_IM00020.tif', 'CLAHE-137covid_patient7_SR_3_IM00027.tif', 'CLAHE-137covid_patient51_SR_2_IM00014.tif', 'CLAHE-137covid_patient54_SR_2_IM00034.tif', 'CLAHE-137covid_patient51_SR_2_IM00011.tif', 'CLAHE-137covid_patient81_SR_2_IM00028.tif', 'CLAHE-157covid_patient127_SR_3_IM00014.tif', 'CLAHE-137covid_patient33_SR_2_IM00042.tif', 'CLAHE-137covid_patient115_SR_4_IM00015.tif', 'CLAHE-137covid_patient91_SR_2_IM00009.tif', 'CLAHE-137covid_patient1_SR_4_IM00090.tif', 'CLAHE-137covid_patient92_SR_4_IM00053.tif', 'CLAHE-137covid_patient115_SR_2_IM00022.tif', 'CLAHE-157covid_patient145_SR_3_IM00020.tif', 'CLAHE-137covid_patient78_SR_4_IM00211.tif', 'CLAHE-157covid_patient145_SR_2_IM00023.tif', 'CLAHE-137covid_patient92_SR_4_IM00052.tif', 'CLAHE-137covid_patient34_SR_2_IM00027.tif', 'CLAHE-137covid_patient81_SR_2_IM00048.tif', 'CLAHE-137covid_patient78_SR_4_IM00252.tif', 'CLAHE-157covid_patient136_SR_3_IM00020.tif', 'CLAHE-137covid_patient45_SR_3_IM00017.tif', 'CLAHE-137covid_patient13_SR_2_IM00035.tif', 'CLAHE-137covid_patient9_SR_3_IM00027.tif', 'CLAHE-137covid_patient24_SR_2_IM00010.tif', 'CLAHE-137covid_patient76_SR_2_IM00032.tif', 'CLAHE-137covid_patient1_SR_3_IM00013.tif', 'CLAHE-137covid_patient17_SR_3_IM00020.tif', 'CLAHE-157covid_patient133_SR_3_IM00014.tif', 'CLAHE-137covid_patient82_SR_2_IM00029.tif', 'CLAHE-137covid_patient51_SR_2_IM00036.tif', 'CLAHE-137covid_patient99_SR_2_IM00019.tif', 'CLAHE-137covid_patient61_SR_4_IM00036.tif', 'CLAHE-137covid_patient118_SR_3_IM00015.tif', 'CLAHE-137covid_patient20_SR_4_IM00023.tif', 'CLAHE-137covid_patient99_SR_2_IM00020.tif', 'CLAHE-137covid_patient16_SR_2_IM00005.tif', 'CLAHE-137covid_patient63_SR_2_IM00016.tif', 'CLAHE-137covid_patient121_SR_4_IM00077.tif', 'CLAHE-137covid_patient82_SR_2_IM00031.tif', 'CLAHE-157covid_patient133_SR_2_IM00033.tif', 'CLAHE-137covid_patient7_SR_2_IM00016.tif', 'CLAHE-137covid_patient43_SR_4_IM00154.tif', 'CLAHE-137covid_patient96_SR_2_IM00018.tif', 'CLAHE-137covid_patient118_SR_3_IM00011.tif', 'CLAHE-137covid_patient115_SR_3_IM00007.tif', 'CLAHE-157covid_patient136_SR_2_IM00028.tif', 'CLAHE-137covid_patient1_SR_4_IM00055.tif', 'CLAHE-137covid_patient31_SR_3_IM00011.tif', 'CLAHE-137covid_patient82_SR_3_IM00008.tif', 'CLAHE-137covid_patient49_SR_2_IM00025.tif', 'CLAHE-137covid_patient16_SR_3_IM00011.tif', 'CLAHE-137covid_patient20_SR_2_IM00029.tif', 'CLAHE-137covid_patient97_SR_2_IM00038.tif', 'CLAHE-137covid_patient118_SR_4_IM00011.tif', 'CLAHE-137covid_patient76_SR_2_IM00024.tif', 'CLAHE-137covid_patient69_SR_4_IM00036.tif', 'CLAHE-137covid_patient118_SR_3_IM00018.tif', 'CLAHE-137covid_patient121_SR_2_IM00020.tif', 'CLAHE-137covid_patient82_SR_4_IM00009.tif', 'CLAHE-137covid_patient40_SR_2_IM00040.tif', 'CLAHE-137covid_patient85_SR_4_IM00194.tif', 'CLAHE-137covid_patient26_SR_3_IM00024.tif', 'CLAHE-137covid_patient59_SR_4_IM00030.tif', 'CLAHE-137covid_patient120_SR_3_IM00026.tif', 'CLAHE-137covid_patient24_SR_2_IM00009.tif', 'CLAHE-157covid_patient139_SR_3_IM00022.tif', 'CLAHE-137covid_patient16_SR_2_IM00006.tif', 'CLAHE-137covid_patient69_SR_4_IM00034.tif', 'CLAHE-137covid_patient96_SR_2_IM00013.tif', 'CLAHE-137covid_patient57_SR_2_IM00013.tif', 'CLAHE-137covid_patient85_SR_4_IM00089.tif', 'CLAHE-157covid_patient144_SR_2_IM00026.tif', 'CLAHE-137covid_patient85_SR_4_IM00060.tif', 'CLAHE-137covid_patient51_SR_3_IM00018.tif', 'CLAHE-137covid_patient80_SR_3_IM00022.tif', 'CLAHE-137covid_patient96_SR_2_IM00016.tif', 'CLAHE-157covid_patient142_SR_2_IM00039.tif', 'CLAHE-137covid_patient96_SR_4_IM00055.tif', 'CLAHE-137covid_patient122_SR_2_IM00032.tif', 'CLAHE-137covid_patient91_SR_2_IM00010.tif', 'CLAHE-137covid_patient82_SR_2_IM00028.tif', 'CLAHE-137covid_patient17_SR_3_IM00006.tif', 'CLAHE-137covid_patient85_SR_4_IM00070.tif', 'CLAHE-137covid_patient61_SR_2_IM00027.tif', 'CLAHE-157covid_patient141_SR_2_IM00038.tif', 'CLAHE-157covid_patient126_SR_2_IM00018.tif', 'CLAHE-137covid_patient99_SR_4_IM00027.tif', 'CLAHE-157covid_patient141_SR_2_IM00036.tif', 'CLAHE-137covid_patient10_SR_2_IM00027.tif', 'CLAHE-137covid_patient84_SR_3_IM00013.tif', 'CLAHE-137covid_patient92_SR_4_IM00045.tif', 'CLAHE-137covid_patient115_SR_4_IM00014.tif', 'CLAHE-137covid_patient117_SR_3_IM00018.tif', 'CLAHE-157covid_patient136_SR_4_IM00021.tif', 'CLAHE-157covid_patient141_SR_3_IM00021.tif', 'CLAHE-137covid_patient51_SR_4_IM00022.tif', 'CLAHE-157covid_patient140_SR_3_IM00023.tif', 'CLAHE-137covid_patient61_SR_4_IM00034.tif', 'CLAHE-137covid_patient84_SR_3_IM00015.tif', 'CLAHE-157covid_patient127_SR_2_IM00019.tif', 'CLAHE-157covid_patient145_SR_2_IM00019.tif', 'CLAHE-137covid_patient96_SR_2_IM00012.tif', 'CLAHE-137covid_patient7_SR_3_IM00007.tif', 'CLAHE-137covid_patient78_SR_3_IM00022.tif', 'CLAHE-157covid_patient126_SR_2_IM00017.tif', 'CLAHE-137covid_patient81_SR_2_IM00045.tif', 'CLAHE-137covid_patient121_SR_2_IM00021.tif', 'CLAHE-137covid_patient51_SR_2_IM00026.tif', 'CLAHE-137covid_patient97_SR_4_IM00014.tif', 'CLAHE-137covid_patient22_SR_4_IM00181.tif', 'CLAHE-137covid_patient22_SR_4_IM00180.tif', 'CLAHE-137covid_patient92_SR_3_IM00011.tif', 'CLAHE-157covid_patient125_SR_4_IM00009.tif', 'CLAHE-137covid_patient69_SR_3_IM00007.tif', 'CLAHE-137covid_patient118_SR_2_IM00028.tif', 'CLAHE-137covid_patient57_SR_3_IM00023.tif', 'CLAHE-137covid_patient86_SR_4_IM00076.tif', 'CLAHE-137covid_patient86_SR_4_IM00031.tif', 'CLAHE-137covid_patient118_SR_2_IM00015.tif', 'CLAHE-157covid_patient128_SR_3_IM00007.tif', 'CLAHE-157covid_patient144_SR_2_IM00010.tif', 'CLAHE-137covid_patient49_SR_3_IM00012.tif', 'CLAHE-137covid_patient82_SR_2_IM00012.tif', 'CLAHE-137covid_patient61_SR_3_IM00005.tif', 'CLAHE-137covid_patient24_SR_4_IM00018.tif', 'CLAHE-137covid_patient16_SR_3_IM00012.tif', 'CLAHE-137covid_patient17_SR_2_IM00013.tif', 'CLAHE-137covid_patient86_SR_2_IM00018.tif', 'CLAHE-137covid_patient99_SR_3_IM00016.tif', 'CLAHE-137covid_patient63_SR_4_IM00020.tif', 'CLAHE-137covid_patient57_SR_3_IM00006.tif', 'CLAHE-137covid_patient13_SR_3_IM00023.tif', 'CLAHE-137covid_patient49_SR_2_IM00033.tif', 'CLAHE-137covid_patient49_SR_4_IM00015.tif', 'CLAHE-137covid_patient75_SR_2_IM00049.tif', 'CLAHE-137covid_patient81_SR_2_IM00020.tif', 'CLAHE-137covid_patient49_SR_4_IM00012.tif', 'CLAHE-137covid_patient70_SR_2_IM00018.tif', 'CLAHE-137covid_patient7_SR_3_IM00014.tif', 'CLAHE-137covid_patient118_SR_2_IM00027.tif', 'CLAHE-137covid_patient58_SR_2_IM00016.tif', 'CLAHE-137covid_patient85_SR_2_IM00012.tif', 'CLAHE-137covid_patient80_SR_2_IM00027.tif', 'CLAHE-137covid_patient100_SR_3_IM00028.tif', 'CLAHE-137covid_patient118_SR_3_IM00012.tif', 'CLAHE-137covid_patient99_SR_2_IM00013.tif', 'CLAHE-157covid_patient124_SR_3_IM00020.tif', 'CLAHE-137covid_patient61_SR_4_IM00038.tif', 'CLAHE-137covid_patient69_SR_4_IM00028.tif', 'CLAHE-137covid_patient115_SR_2_IM00018.tif', 'CLAHE-137covid_patient78_SR_4_IM00173.tif', 'CLAHE-137covid_patient18_SR_2_IM00034.tif', 'CLAHE-137covid_patient85_SR_4_IM00076.tif', 'CLAHE-137covid_patient97_SR_2_IM00014.tif', 'CLAHE-137covid_patient18_SR_3_IM00029.tif', 'CLAHE-137covid_patient85_SR_2_IM00010.tif', 'CLAHE-157covid_patient141_SR_2_IM00026.tif', 'CLAHE-137covid_patient63_SR_2_IM00015.tif', 'CLAHE-137covid_patient99_SR_3_IM00013.tif', 'CLAHE-137covid_patient21_SR_2_IM00021.tif', 'CLAHE-137covid_patient24_SR_3_IM00008.tif', 'CLAHE-137covid_patient63_SR_4_IM00009.tif', 'CLAHE-137covid_patient13_SR_2_IM00011.tif', 'CLAHE-137covid_patient51_SR_3_IM00007.tif', 'CLAHE-137covid_patient41_SR_2_IM00021.tif', 'CLAHE-137covid_patient40_SR_2_IM00028.tif', 'CLAHE-157covid_patient131_SR_2_IM00033.tif', 'CLAHE-137covid_patient76_SR_2_IM00016.tif', 'CLAHE-137covid_patient1_SR_3_IM00022.tif', 'CLAHE-137covid_patient78_SR_2_IM00023.tif', 'CLAHE-137covid_patient76_SR_3_IM00013.tif', 'CLAHE-137covid_patient31_SR_4_IM00014.tif', 'CLAHE-157covid_patient144_SR_2_IM00035.tif', 'CLAHE-137covid_patient84_SR_3_IM00017.tif', 'CLAHE-137covid_patient31_SR_2_IM00023.tif', 'CLAHE-137covid_patient115_SR_3_IM00016.tif', 'CLAHE-137covid_patient96_SR_4_IM00060.tif', 'CLAHE-137covid_patient121_SR_4_IM00070.tif', 'CLAHE-137covid_patient68_SR_2_IM00013.tif', 'CLAHE-157covid_patient130_SR_2_IM00027.tif', 'CLAHE-157covid_patient135_SR_2_IM00048.tif', 'CLAHE-137covid_patient49_SR_3_IM00009.tif', 'CLAHE-137covid_patient121_SR_2_IM00008.tif', 'CLAHE-137covid_patient92_SR_2_IM00012.tif', 'CLAHE-137covid_patient13_SR_2_IM00012.tif', 'CLAHE-137covid_patient81_SR_2_IM00019.tif', 'CLAHE-137covid_patient98_SR_4_IM00084.tif', 'CLAHE-137covid_patient81_SR_3_IM00032.tif', 'CLAHE-137covid_patient57_SR_2_IM00026.tif', 'CLAHE-137covid_patient78_SR_3_IM00035.tif', 'CLAHE-137covid_patient51_SR_2_IM00024.tif', 'CLAHE-137covid_patient7_SR_2_IM00015.tif', 'CLAHE-157covid_patient140_SR_4_IM00021.tif', 'CLAHE-137covid_patient18_SR_2_IM00030.tif', 'CLAHE-157covid_patient136_SR_3_IM00013.tif', 'CLAHE-137covid_patient115_SR_2_IM00012.tif', 'CLAHE-157covid_patient145_SR_2_IM00022.tif', 'CLAHE-137covid_patient61_SR_4_IM00124.tif', 'CLAHE-137covid_patient117_SR_2_IM00024.tif', 'CLAHE-137covid_patient115_SR_4_IM00013.tif', 'CLAHE-137covid_patient69_SR_2_IM00003.tif', 'CLAHE-137covid_patient51_SR_2_IM00015.tif', 'CLAHE-137covid_patient54_SR_4_IM00016.tif', 'CLAHE-137covid_patient99_SR_2_IM00017.tif', 'CLAHE-137covid_patient78_SR_4_IM00186.tif', 'CLAHE-137covid_patient96_SR_4_IM00057.tif', 'CLAHE-137covid_patient70_SR_4_IM00095.tif', 'CLAHE-137covid_patient82_SR_2_IM00010.tif', 'CLAHE-137covid_patient61_SR_4_IM00037.tif', 'CLAHE-137covid_patient81_SR_4_IM00026.tif', 'CLAHE-137covid_patient118_SR_4_IM00018.tif', 'CLAHE-157covid_patient139_SR_2_IM00028.tif', 'CLAHE-137covid_patient70_SR_3_IM00021.tif', 'CLAHE-137covid_patient78_SR_4_IM00234.tif', 'CLAHE-137covid_patient51_SR_3_IM00025.tif', 'CLAHE-157covid_patient145_SR_4_IM00021.tif', 'CLAHE-137covid_patient84_SR_2_IM00013.tif', 'CLAHE-137covid_patient13_SR_3_IM00027.tif', 'CLAHE-137covid_patient105_SR_3_IM00026.tif', 'CLAHE-137covid_patient61_SR_3_IM00024.tif', 'CLAHE-137covid_patient120_SR_2_IM00016.tif', 'CLAHE-137covid_patient92_SR_3_IM00012.tif', 'CLAHE-157covid_patient124_SR_2_IM00031.tif', 'CLAHE-137covid_patient58_SR_2_IM00029.tif', 'CLAHE-137covid_patient3_SR_3_IM00020.tif', 'CLAHE-137covid_patient57_SR_3_IM00021.tif', 'CLAHE-137covid_patient118_SR_2_IM00020.tif', 'CLAHE-137covid_patient78_SR_3_IM00013.tif', 'CLAHE-157covid_patient141_SR_2_IM00018.tif', 'CLAHE-137covid_patient29_SR_2_IM00014.tif', 'CLAHE-137covid_patient18_SR_2_IM00014.tif', 'CLAHE-137covid_patient89_SR_2_IM00006.tif', 'CLAHE-157covid_patient134_SR_2_IM00033.tif', 'CLAHE-137covid_patient15_SR_4_IM00013.tif', 'CLAHE-137covid_patient13_SR_2_IM00014.tif', 'CLAHE-137covid_patient13_SR_3_IM00010.tif', 'CLAHE-137covid_patient118_SR_2_IM00012.tif', 'CLAHE-137covid_patient81_SR_2_IM00027.tif', 'CLAHE-137covid_patient78_SR_3_IM00030.tif', 'CLAHE-137covid_patient69_SR_4_IM00015.tif', 'CLAHE-137covid_patient59_SR_2_IM00038.tif', 'CLAHE-137covid_patient18_SR_3_IM00009.tif', 'CLAHE-137covid_patient81_SR_3_IM00019.tif', 'CLAHE-137covid_patient98_SR_2_IM00016.tif', 'CLAHE-137covid_patient81_SR_2_IM00044.tif', 'CLAHE-137covid_patient99_SR_2_IM00014.tif', 'CLAHE-137covid_patient43_SR_3_IM00027.tif', 'CLAHE-137covid_patient10_SR_2_IM00017.tif', 'CLAHE-137covid_patient69_SR_2_IM00008.tif', 'CLAHE-137covid_patient85_SR_4_IM00196.tif', 'CLAHE-157covid_patient125_SR_3_IM00022.tif', 'CLAHE-137covid_patient68_SR_2_IM00011.tif', 'CLAHE-137covid_patient60_SR_2_IM00018.tif', 'CLAHE-157covid_patient133_SR_2_IM00036.tif', 'CLAHE-157covid_patient138_SR_3_IM00025.tif', 'CLAHE-137covid_patient69_SR_2_IM00004.tif', 'CLAHE-137covid_patient122_SR_2_IM00035.tif', 'CLAHE-137covid_patient45_SR_2_IM00018.tif', 'CLAHE-137covid_patient78_SR_3_IM00024.tif', 'CLAHE-137covid_patient31_SR_2_IM00040.tif', 'CLAHE-157covid_patient145_SR_3_IM00021.tif', 'CLAHE-137covid_patient54_SR_2_IM00028.tif', 'CLAHE-157covid_patient144_SR_2_IM00015.tif', 'CLAHE-137covid_patient91_SR_4_IM00013.tif', 'CLAHE-137covid_patient105_SR_2_IM00023.tif', 'CLAHE-137covid_patient63_SR_2_IM00028.tif', 'CLAHE-137covid_patient81_SR_3_IM00024.tif', 'CLAHE-137covid_patient26_SR_3_IM00023.tif', 'CLAHE-137covid_patient78_SR_2_IM00017.tif', 'CLAHE-157covid_patient145_SR_2_IM00032.tif', 'CLAHE-137covid_patient18_SR_3_IM00007.tif', 'CLAHE-137covid_patient49_SR_2_IM00019.tif', 'CLAHE-137covid_patient92_SR_2_IM00011.tif', 'CLAHE-137covid_patient49_SR_4_IM00009.tif', 'CLAHE-137covid_patient84_SR_2_IM00025.tif', 'CLAHE-137covid_patient49_SR_2_IM00014.tif', 'CLAHE-137covid_patient63_SR_3_IM00009.tif', 'CLAHE-137covid_patient16_SR_3_IM00007.tif', 'CLAHE-137covid_patient84_SR_2_IM00014.tif', 'CLAHE-137covid_patient92_SR_3_IM00018.tif', 'CLAHE-137covid_patient16_SR_3_IM00013.tif', 'CLAHE-137covid_patient1_SR_2_IM00025.tif', 'CLAHE-137covid_patient81_SR_4_IM00014.tif', 'CLAHE-137covid_patient68_SR_3_IM00010.tif', 'CLAHE-137covid_patient78_SR_2_IM00016.tif', 'CLAHE-137covid_patient31_SR_2_IM00022.tif', 'CLAHE-157covid_patient138_SR_2_IM00036.tif', 'CLAHE-137covid_patient85_SR_4_IM00079.tif', 'CLAHE-137covid_patient115_SR_3_IM00025.tif', 'CLAHE-137covid_patient1_SR_3_IM00012.tif', 'CLAHE-137covid_patient81_SR_3_IM00018.tif', 'CLAHE-137covid_patient92_SR_4_IM00065.tif', 'CLAHE-157covid_patient133_SR_3_IM00025.tif', 'CLAHE-157covid_patient141_SR_2_IM00012.tif', 'CLAHE-137covid_patient31_SR_3_IM00017.tif', 'CLAHE-157covid_patient128_SR_2_IM00015.tif', 'CLAHE-157covid_patient136_SR_2_IM00031.tif', 'CLAHE-137covid_patient99_SR_4_IM00031.tif', 'CLAHE-157covid_patient124_SR_2_IM00018.tif', 'CLAHE-137covid_patient17_SR_2_IM00031.tif', 'CLAHE-157covid_patient141_SR_3_IM00018.tif', 'CLAHE-157covid_patient141_SR_4_IM00008.tif', 'CLAHE-137covid_patient49_SR_2_IM00015.tif', 'CLAHE-137covid_patient115_SR_3_IM00012.tif', 'CLAHE-137covid_patient32_SR_2_IM00030.tif', 'CLAHE-137covid_patient99_SR_3_IM00020.tif', 'CLAHE-157covid_patient130_SR_3_IM00022.tif', 'CLAHE-137covid_patient105_SR_4_IM00101.tif', 'CLAHE-137covid_patient80_SR_2_IM00019.tif', 'CLAHE-137covid_patient10_SR_2_IM00020.tif', 'CLAHE-137covid_patient76_SR_4_IM00027.tif', 'CLAHE-137covid_patient49_SR_2_IM00031.tif', 'CLAHE-137covid_patient105_SR_4_IM00100.tif', 'CLAHE-137covid_patient63_SR_2_IM00040.tif', 'CLAHE-157covid_patient141_SR_4_IM00011.tif', 'CLAHE-137covid_patient76_SR_2_IM00040.tif', 'CLAHE-137covid_patient80_SR_2_IM00023.tif', 'CLAHE-137covid_patient96_SR_4_IM00086.tif', 'CLAHE-137covid_patient31_SR_2_IM00021.tif', 'CLAHE-137covid_patient51_SR_2_IM00030.tif', 'CLAHE-157covid_patient141_SR_4_IM00021.tif', 'CLAHE-137covid_patient70_SR_3_IM00041.tif', 'CLAHE-157covid_patient138_SR_2_IM00038.tif', 'CLAHE-157covid_patient131_SR_2_IM00035.tif', 'CLAHE-137covid_patient69_SR_4_IM00021.tif', 'CLAHE-137covid_patient69_SR_4_IM00026.tif', 'CLAHE-137covid_patient86_SR_2_IM00011.tif', 'CLAHE-137covid_patient28_SR_2_IM00039.tif', 'CLAHE-137covid_patient16_SR_4_IM00052.tif', 'CLAHE-137covid_patient15_SR_2_IM00018.tif', 'CLAHE-137covid_patient74_SR_2_IM00040.tif', 'CLAHE-137covid_patient117_SR_2_IM00012.tif', 'CLAHE-137covid_patient81_SR_3_IM00012.tif', 'CLAHE-137covid_patient101_SR_4_IM00015.tif', 'CLAHE-137covid_patient3_SR_2_IM00022.tif', 'CLAHE-137covid_patient118_SR_3_IM00009.tif', 'CLAHE-137covid_patient105_SR_2_IM00025.tif', 'CLAHE-137covid_patient80_SR_3_IM00021.tif', 'CLAHE-157covid_patient127_SR_4_IM00014.tif', 'CLAHE-137covid_patient31_SR_2_IM00017.tif', 'CLAHE-157covid_patient125_SR_2_IM00032.tif', 'CLAHE-137covid_patient85_SR_4_IM00193.tif', 'CLAHE-137covid_patient74_SR_2_IM00039.tif', 'CLAHE-137covid_patient92_SR_2_IM00016.tif', 'CLAHE-157covid_patient141_SR_2_IM00033.tif', 'CLAHE-137covid_patient61_SR_3_IM00007.tif', 'CLAHE-137covid_patient105_SR_4_IM00054.tif', 'CLAHE-137covid_patient115_SR_3_IM00020.tif', 'CLAHE-137covid_patient1_SR_4_IM00082.tif', 'CLAHE-137covid_patient45_SR_4_IM00007.tif', 'CLAHE-137covid_patient63_SR_2_IM00039.tif', 'CLAHE-137covid_patient99_SR_4_IM00039.tif', 'CLAHE-157covid_patient131_SR_2_IM00032.tif', 'CLAHE-137covid_patient7_SR_2_IM00030.tif', 'CLAHE-157covid_patient127_SR_2_IM00021.tif', 'CLAHE-137covid_patient75_SR_2_IM00051.tif', 'CLAHE-137covid_patient85_SR_4_IM00074.tif', 'CLAHE-137covid_patient75_SR_2_IM00050.tif', 'CLAHE-137covid_patient45_SR_2_IM00025.tif', 'CLAHE-137covid_patient86_SR_3_IM00017.tif', 'CLAHE-137covid_patient120_SR_2_IM00022.tif', 'CLAHE-137covid_patient118_SR_2_IM00029.tif', 'CLAHE-137covid_patient45_SR_3_IM00014.tif', 'CLAHE-137covid_patient76_SR_3_IM00026.tif', 'CLAHE-137covid_patient61_SR_4_IM00119.tif', 'CLAHE-137covid_patient97_SR_2_IM00040.tif', 'CLAHE-157covid_patient125_SR_3_IM00014.tif', 'CLAHE-137covid_patient81_SR_3_IM00010.tif', 'CLAHE-157covid_patient144_SR_2_IM00034.tif', 'CLAHE-137covid_patient97_SR_3_IM00008.tif', 'CLAHE-137covid_patient121_SR_3_IM00020.tif', 'CLAHE-137covid_patient3_SR_2_IM00028.tif', 'CLAHE-137covid_patient51_SR_3_IM00021.tif', 'CLAHE-137covid_patient26_SR_4_IM00100.tif', 'CLAHE-137covid_patient17_SR_2_IM00012.tif', 'CLAHE-137covid_patient18_SR_3_IM00012.tif', 'CLAHE-137covid_patient91_SR_2_IM00012.tif', 'CLAHE-137covid_patient18_SR_2_IM00029.tif', 'CLAHE-137covid_patient99_SR_2_IM00012.tif', 'CLAHE-137covid_patient40_SR_2_IM00011.tif', 'CLAHE-137covid_patient40_SR_2_IM00027.tif', 'CLAHE-137covid_patient105_SR_2_IM00027.tif', 'CLAHE-137covid_patient70_SR_2_IM00016.tif', 'CLAHE-137covid_patient31_SR_2_IM00041.tif', 'CLAHE-137covid_patient97_SR_4_IM00023.tif', 'CLAHE-137covid_patient103_SR_3_IM00026.tif', 'CLAHE-157covid_patient141_SR_2_IM00035.tif', 'CLAHE-137covid_patient13_SR_2_IM00036.tif', 'CLAHE-157covid_patient130_SR_3_IM00020.tif', 'CLAHE-157covid_patient125_SR_3_IM00018.tif', 'CLAHE-157covid_patient125_SR_2_IM00021.tif', 'CLAHE-137covid_patient63_SR_2_IM00023.tif', 'CLAHE-137covid_patient7_SR_4_IM00021.tif', 'CLAHE-137covid_patient122_SR_3_IM00025.tif', 'CLAHE-157covid_patient133_SR_3_IM00009.tif', 'CLAHE-137covid_patient60_SR_2_IM00013.tif', 'CLAHE-137covid_patient3_SR_2_IM00012.tif', 'CLAHE-137covid_patient118_SR_2_IM00026.tif', 'CLAHE-137covid_patient31_SR_3_IM00010.tif', 'CLAHE-157covid_patient141_SR_3_IM00006.tif', 'CLAHE-137covid_patient3_SR_2_IM00020.tif', 'CLAHE-137covid_patient101_SR_2_IM00018.tif', 'CLAHE-157covid_patient145_SR_2_IM00035.tif', 'CLAHE-157covid_patient131_SR_2_IM00034.tif', 'CLAHE-157covid_patient124_SR_2_IM00019.tif', 'CLAHE-137covid_patient85_SR_4_IM00077.tif', 'CLAHE-137covid_patient84_SR_3_IM00010.tif', 'CLAHE-137covid_patient99_SR_4_IM00073.tif', 'CLAHE-137covid_patient18_SR_3_IM00019.tif', 'CLAHE-137covid_patient18_SR_4_IM00028.tif', 'CLAHE-137covid_patient16_SR_4_IM00050.tif', 'CLAHE-137covid_patient96_SR_4_IM00085.tif', 'CLAHE-137covid_patient118_SR_2_IM00018.tif', 'CLAHE-137covid_patient76_SR_3_IM00022.tif', 'CLAHE-137covid_patient26_SR_3_IM00018.tif', 'CLAHE-137covid_patient54_SR_2_IM00031.tif', 'CLAHE-137covid_patient59_SR_3_IM00024.tif', 'CLAHE-137covid_patient85_SR_4_IM00084.tif', 'CLAHE-137covid_patient96_SR_4_IM00058.tif', 'CLAHE-137covid_patient78_SR_4_IM00179.tif', 'CLAHE-137covid_patient81_SR_2_IM00042.tif', 'CLAHE-137covid_patient105_SR_4_IM00099.tif', 'CLAHE-157covid_patient125_SR_4_IM00013.tif', 'CLAHE-137covid_patient105_SR_4_IM00056.tif', 'CLAHE-137covid_patient31_SR_4_IM00013.tif', 'CLAHE-137covid_patient81_SR_2_IM00013.tif', 'CLAHE-137covid_patient7_SR_4_IM00023.tif', 'CLAHE-137covid_patient81_SR_2_IM00030.tif', 'CLAHE-137covid_patient24_SR_4_IM00007.tif', 'CLAHE-137covid_patient85_SR_4_IM00068.tif', 'CLAHE-137covid_patient78_SR_2_IM00031.tif', 'CLAHE-157covid_patient133_SR_4_IM00032.tif', 'CLAHE-137covid_patient7_SR_2_IM00036.tif', 'CLAHE-137covid_patient3_SR_2_IM00026.tif', 'CLAHE-137covid_patient68_SR_2_IM00012.tif', 'CLAHE-137covid_patient97_SR_2_IM00037.tif', 'CLAHE-157covid_patient125_SR_3_IM00019.tif', 'CLAHE-137covid_patient35_SR_4_IM00018.tif', 'CLAHE-137covid_patient51_SR_2_IM00035.tif', 'CLAHE-157covid_patient125_SR_4_IM00011.tif', 'CLAHE-137covid_patient45_SR_3_IM00022.tif', 'CLAHE-157covid_patient141_SR_2_IM00031.tif', 'CLAHE-137covid_patient18_SR_3_IM00022.tif', 'CLAHE-137covid_patient78_SR_3_IM00036.tif', 'CLAHE-137covid_patient85_SR_4_IM00088.tif', 'CLAHE-137covid_patient105_SR_4_IM00050.tif', 'CLAHE-137covid_patient81_SR_3_IM00008.tif', 'CLAHE-137covid_patient10_SR_2_IM00013.tif', 'CLAHE-157covid_patient133_SR_2_IM00029.tif', 'CLAHE-137covid_patient84_SR_2_IM00017.tif', 'CLAHE-137covid_patient89_SR_3_IM00010.tif', 'CLAHE-137covid_patient69_SR_4_IM00023.tif', 'CLAHE-137covid_patient7_SR_3_IM00008.tif', 'CLAHE-137covid_patient118_SR_4_IM00020.tif', 'CLAHE-157covid_patient125_SR_2_IM00025.tif', 'CLAHE-137covid_patient3_SR_2_IM00029.tif', 'CLAHE-137covid_patient61_SR_4_IM00047.tif', 'CLAHE-137covid_patient51_SR_3_IM00024.tif', 'CLAHE-137covid_patient85_SR_4_IM00063.tif', 'CLAHE-157covid_patient141_SR_3_IM00012.tif', 'CLAHE-157covid_patient142_SR_3_IM00018.tif', 'CLAHE-137covid_patient91_SR_2_IM00014.tif', 'CLAHE-157covid_patient133_SR_2_IM00022.tif', 'CLAHE-137covid_patient10_SR_4_IM00060.tif', 'CLAHE-137covid_patient78_SR_3_IM00023.tif', 'CLAHE-137covid_patient92_SR_3_IM00006.tif', 'CLAHE-137covid_patient7_SR_3_IM00024.tif', 'CLAHE-137covid_patient96_SR_2_IM00022.tif', 'CLAHE-137covid_patient7_SR_3_IM00011.tif', 'CLAHE-157covid_patient141_SR_4_IM00018.tif', 'CLAHE-137covid_patient45_SR_2_IM00017.tif', 'CLAHE-157covid_patient124_SR_3_IM00013.tif', 'CLAHE-137covid_patient91_SR_2_IM00016.tif', 'CLAHE-137covid_patient122_SR_4_IM00027.tif', 'CLAHE-137covid_patient3_SR_2_IM00030.tif', 'CLAHE-137covid_patient74_SR_2_IM00012.tif', 'CLAHE-137covid_patient61_SR_2_IM00022.tif', 'CLAHE-157covid_patient133_SR_2_IM00031.tif', 'CLAHE-137covid_patient31_SR_2_IM00015.tif', 'CLAHE-157covid_patient133_SR_3_IM00027.tif', 'CLAHE-137covid_patient65_SR_2_IM00021.tif', 'CLAHE-137covid_patient20_SR_2_IM00028.tif', 'CLAHE-137covid_patient78_SR_3_IM00031.tif', 'CLAHE-137covid_patient45_SR_2_IM00012.tif', 'CLAHE-137covid_patient86_SR_3_IM00008.tif', 'CLAHE-137covid_patient69_SR_3_IM00006.tif', 'CLAHE-137covid_patient105_SR_4_IM00103.tif', 'CLAHE-137covid_patient98_SR_2_IM00023.tif', 'CLAHE-157covid_patient142_SR_2_IM00030.tif', 'CLAHE-157covid_patient145_SR_2_IM00021.tif', 'CLAHE-137covid_patient63_SR_4_IM00015.tif', 'CLAHE-157covid_patient141_SR_3_IM00020.tif', 'CLAHE-157covid_patient133_SR_2_IM00028.tif', 'CLAHE-137covid_patient81_SR_4_IM00019.tif', 'CLAHE-137covid_patient97_SR_2_IM00039.tif', 'CLAHE-157covid_patient141_SR_4_IM00009.tif', 'CLAHE-137covid_patient115_SR_2_IM00016.tif', 'CLAHE-157covid_patient125_SR_2_IM00014.tif', 'CLAHE-137covid_patient74_SR_3_IM00007.tif', 'CLAHE-137covid_patient118_SR_4_IM00019.tif', 'CLAHE-137covid_patient78_SR_4_IM00172.tif', 'CLAHE-137covid_patient35_SR_2_IM00020.tif', 'CLAHE-137covid_patient69_SR_4_IM00043.tif', 'CLAHE-137covid_patient101_SR_2_IM00019.tif', 'CLAHE-137covid_patient76_SR_3_IM00030.tif', 'CLAHE-137covid_patient24_SR_2_IM00012.tif', 'CLAHE-137covid_patient69_SR_4_IM00033.tif', 'CLAHE-157covid_patient130_SR_4_IM00021.tif', 'CLAHE-137covid_patient31_SR_2_IM00014.tif', 'CLAHE-137covid_patient78_SR_4_IM00209.tif', 'CLAHE-157covid_patient125_SR_2_IM00029.tif', 'CLAHE-137covid_patient63_SR_2_IM00020.tif', 'CLAHE-137covid_patient78_SR_3_IM00016.tif', 'CLAHE-137covid_patient31_SR_2_IM00046.tif', 'CLAHE-137covid_patient99_SR_2_IM00006.tif', 'CLAHE-137covid_patient78_SR_4_IM00115.tif', 'CLAHE-137covid_patient31_SR_4_IM00009.tif', 'CLAHE-137covid_patient78_SR_3_IM00014.tif', 'CLAHE-137covid_patient1_SR_3_IM00020.tif', 'CLAHE-137covid_patient92_SR_2_IM00022.tif', 'CLAHE-137covid_patient78_SR_4_IM00174.tif', 'CLAHE-137covid_patient92_SR_4_IM00061.tif', 'CLAHE-137covid_patient85_SR_4_IM00069.tif', 'CLAHE-157covid_patient145_SR_4_IM00018.tif', 'CLAHE-137covid_patient74_SR_3_IM00008.tif', 'CLAHE-137covid_patient26_SR_3_IM00019.tif', 'CLAHE-137covid_patient68_SR_4_IM00010.tif', 'CLAHE-137covid_patient1_SR_4_IM00089.tif', 'CLAHE-137covid_patient74_SR_2_IM00038.tif', 'CLAHE-137covid_patient92_SR_2_IM00025.tif', 'CLAHE-137covid_patient33_SR_2_IM00035.tif', 'CLAHE-137covid_patient81_SR_2_IM00012.tif', 'CLAHE-137covid_patient91_SR_2_IM00021.tif', 'CLAHE-137covid_patient57_SR_3_IM00027.tif', 'CLAHE-157covid_patient131_SR_4_IM00026.tif', 'CLAHE-137covid_patient78_SR_4_IM00184.tif', 'CLAHE-137covid_patient82_SR_2_IM00032.tif', 'CLAHE-137covid_patient76_SR_3_IM00007.tif', 'CLAHE-137covid_patient15_SR_2_IM00008.tif', 'CLAHE-137covid_patient115_SR_2_IM00024.tif', 'CLAHE-137covid_patient42_SR_2_IM00026.tif', 'CLAHE-157covid_patient130_SR_2_IM00028.tif', 'CLAHE-137covid_patient118_SR_4_IM00007.tif', 'CLAHE-137covid_patient31_SR_2_IM00032.tif', 'CLAHE-137covid_patient118_SR_4_IM00021.tif', 'CLAHE-137covid_patient85_SR_4_IM00086.tif', 'CLAHE-137covid_patient61_SR_2_IM00008.tif', 'CLAHE-137covid_patient49_SR_3_IM00010.tif', 'CLAHE-137covid_patient98_SR_3_IM00024.tif', 'CLAHE-157covid_patient124_SR_2_IM00028.tif', 'CLAHE-137covid_patient78_SR_2_IM00026.tif', 'CLAHE-137covid_patient115_SR_3_IM00005.tif', 'CLAHE-137covid_patient45_SR_4_IM00013.tif', 'CLAHE-137covid_patient69_SR_4_IM00031.tif', 'CLAHE-137covid_patient57_SR_2_IM00032.tif', 'CLAHE-137covid_patient18_SR_4_IM00025.tif', 'CLAHE-137covid_patient7_SR_2_IM00032.tif', 'CLAHE-137covid_patient85_SR_4_IM00067.tif', 'CLAHE-137covid_patient7_SR_2_IM00034.tif', 'CLAHE-157covid_patient127_SR_3_IM00019.tif', 'CLAHE-137covid_patient31_SR_3_IM00013.tif', 'CLAHE-157covid_patient125_SR_2_IM00013.tif', 'CLAHE-157covid_patient139_SR_3_IM00020.tif', 'CLAHE-137covid_patient51_SR_4_IM00008.tif', 'CLAHE-137covid_patient7_SR_2_IM00021.tif', 'CLAHE-137covid_patient69_SR_4_IM00017.tif', 'CLAHE-137covid_patient1_SR_3_IM00027.tif', 'CLAHE-137covid_patient7_SR_3_IM00010.tif', 'CLAHE-137covid_patient69_SR_4_IM00040.tif', 'CLAHE-137covid_patient85_SR_3_IM00029.tif', 'CLAHE-157covid_patient130_SR_2_IM00025.tif', 'CLAHE-157covid_patient128_SR_2_IM00013.tif', 'CLAHE-137covid_patient43_SR_3_IM00026.tif', 'CLAHE-137covid_patient26_SR_3_IM00027.tif', 'CLAHE-137covid_patient61_SR_4_IM00044.tif', 'CLAHE-137covid_patient15_SR_3_IM00010.tif', 'CLAHE-137covid_patient18_SR_4_IM00013.tif', 'CLAHE-157covid_patient133_SR_2_IM00037.tif', 'CLAHE-157covid_patient134_SR_2_IM00035.tif', 'CLAHE-137covid_patient63_SR_2_IM00036.tif', 'CLAHE-137covid_patient81_SR_2_IM00033.tif', 'CLAHE-137covid_patient115_SR_3_IM00013.tif', 'CLAHE-137covid_patient81_SR_3_IM00011.tif', 'CLAHE-157covid_patient125_SR_4_IM00014.tif', 'CLAHE-137covid_patient86_SR_4_IM00034.tif', 'CLAHE-157covid_patient125_SR_2_IM00023.tif', 'CLAHE-137covid_patient78_SR_2_IM00019.tif', 'CLAHE-137covid_patient89_SR_3_IM00011.tif', 'CLAHE-137covid_patient81_SR_3_IM00030.tif', 'CLAHE-137covid_patient61_SR_4_IM00042.tif', 'CLAHE-137covid_patient97_SR_3_IM00013.tif', 'CLAHE-137covid_patient81_SR_4_IM00017.tif', 'CLAHE-137covid_patient115_SR_2_IM00030.tif', 'CLAHE-137covid_patient98_SR_4_IM00076.tif', 'CLAHE-137covid_patient92_SR_4_IM00047.tif', 'CLAHE-137covid_patient81_SR_2_IM00025.tif', 'CLAHE-157covid_patient140_SR_2_IM00029.tif', 'CLAHE-137covid_patient49_SR_4_IM00016.tif', 'CLAHE-137covid_patient115_SR_4_IM00026.tif', 'CLAHE-137covid_patient31_SR_2_IM00033.tif', 'CLAHE-137covid_patient58_SR_2_IM00030.tif', 'CLAHE-137covid_patient115_SR_2_IM00011.tif', 'CLAHE-137covid_patient78_SR_4_IM00176.tif', 'CLAHE-157covid_patient141_SR_3_IM00011.tif', 'CLAHE-157covid_patient141_SR_4_IM00022.tif', 'CLAHE-137covid_patient105_SR_4_IM00075.tif', 'CLAHE-137covid_patient31_SR_2_IM00047.tif', 'CLAHE-137covid_patient115_SR_2_IM00033.tif', 'CLAHE-137covid_patient57_SR_2_IM00031.tif', 'CLAHE-137covid_patient97_SR_2_IM00042.tif', 'CLAHE-157covid_patient141_SR_2_IM00022.tif', 'CLAHE-157covid_patient128_SR_2_IM00014.tif', 'CLAHE-137covid_patient18_SR_3_IM00025.tif', 'CLAHE-137covid_patient45_SR_4_IM00019.tif', 'CLAHE-137covid_patient51_SR_4_IM00012.tif', 'CLAHE-137covid_patient63_SR_2_IM00011.tif', 'CLAHE-137covid_patient51_SR_3_IM00012.tif', 'CLAHE-137covid_patient118_SR_3_IM00013.tif', 'CLAHE-137covid_patient120_SR_2_IM00019.tif', 'CLAHE-137covid_patient61_SR_3_IM00026.tif', 'CLAHE-137covid_patient89_SR_3_IM00008.tif', 'CLAHE-157covid_patient145_SR_3_IM00016.tif', 'CLAHE-137covid_patient76_SR_3_IM00032.tif', 'CLAHE-137covid_patient31_SR_2_IM00039.tif', 'CLAHE-137covid_patient76_SR_4_IM00025.tif', 'CLAHE-137covid_patient3_SR_4_IM00025.tif', 'CLAHE-157covid_patient133_SR_2_IM00017.tif', 'CLAHE-157covid_patient125_SR_2_IM00033.tif', 'CLAHE-137covid_patient61_SR_4_IM00121.tif', 'CLAHE-137covid_patient50_SR_3_IM00023.tif', 'CLAHE-137covid_patient99_SR_4_IM00025.tif', 'CLAHE-157covid_patient131_SR_2_IM00036.tif', 'CLAHE-137covid_patient51_SR_4_IM00021.tif', 'CLAHE-137covid_patient76_SR_2_IM00014.tif', 'CLAHE-137covid_patient61_SR_3_IM00027.tif', 'CLAHE-137covid_patient92_SR_2_IM00008.tif', 'CLAHE-137covid_patient105_SR_4_IM00052.tif', 'CLAHE-137covid_patient75_SR_2_IM00053.tif', 'CLAHE-157covid_patient134_SR_2_IM00040.tif', 'CLAHE-157covid_patient133_SR_2_IM00018.tif', 'CLAHE-137covid_patient99_SR_2_IM00016.tif', 'CLAHE-137covid_patient115_SR_4_IM00022.tif', 'CLAHE-157covid_patient141_SR_4_IM00012.tif', 'CLAHE-137covid_patient57_SR_3_IM00022.tif', 'CLAHE-137covid_patient70_SR_2_IM00043.tif', 'CLAHE-137covid_patient13_SR_3_IM00007.tif', 'CLAHE-157covid_patient141_SR_4_IM00027.tif', 'CLAHE-137covid_patient76_SR_4_IM00022.tif', 'CLAHE-157covid_patient129_SR_2_IM00038.tif', 'CLAHE-137covid_patient10_SR_4_IM00068.tif', 'CLAHE-137covid_patient81_SR_2_IM00036.tif', 'CLAHE-157covid_patient145_SR_2_IM00034.tif', 'CLAHE-137covid_patient63_SR_3_IM00019.tif', 'CLAHE-137covid_patient49_SR_3_IM00015.tif', 'CLAHE-137covid_patient92_SR_3_IM00015.tif', 'CLAHE-137covid_patient74_SR_3_IM00025.tif', 'CLAHE-137covid_patient34_SR_2_IM00026.tif', 'CLAHE-137covid_patient80_SR_2_IM00018.tif', 'CLAHE-137covid_patient63_SR_2_IM00019.tif', 'CLAHE-137covid_patient82_SR_4_IM00022.tif', 'CLAHE-137covid_patient92_SR_4_IM00069.tif', 'CLAHE-137covid_patient59_SR_2_IM00039.tif', 'CLAHE-137covid_patient18_SR_3_IM00010.tif', 'CLAHE-137covid_patient18_SR_2_IM00026.tif', 'CLAHE-137covid_patient10_SR_3_IM00017.tif', 'CLAHE-137covid_patient120_SR_3_IM00025.tif', 'CLAHE-137covid_patient32_SR_4_IM00028.tif', 'CLAHE-137covid_patient15_SR_4_IM00009.tif', 'CLAHE-157covid_patient141_SR_4_IM00010.tif', 'CLAHE-137covid_patient118_SR_3_IM00022.tif', 'CLAHE-137covid_patient69_SR_2_IM00005.tif', 'CLAHE-137covid_patient45_SR_3_IM00007.tif', 'CLAHE-157covid_patient141_SR_3_IM00026.tif', 'CLAHE-157covid_patient141_SR_2_IM00037.tif', 'CLAHE-157covid_patient124_SR_3_IM00015.tif', 'CLAHE-137covid_patient17_SR_3_IM00007.tif', 'CLAHE-137covid_patient96_SR_2_IM00019.tif', 'CLAHE-137covid_patient63_SR_4_IM00008.tif', 'CLAHE-137covid_patient17_SR_4_IM00008.tif', 'CLAHE-137covid_patient43_SR_4_IM00156.tif', 'CLAHE-137covid_patient24_SR_4_IM00019.tif', 'CLAHE-137covid_patient1_SR_4_IM00081.tif', 'CLAHE-157covid_patient138_SR_3_IM00030.tif', 'CLAHE-137covid_patient35_SR_3_IM00004.tif', 'CLAHE-137covid_patient33_SR_2_IM00038.tif', 'CLAHE-137covid_patient70_SR_2_IM00023.tif', 'CLAHE-137covid_patient80_SR_2_IM00025.tif', 'CLAHE-137covid_patient15_SR_2_IM00016.tif', 'CLAHE-137covid_patient31_SR_2_IM00035.tif', 'CLAHE-157covid_patient125_SR_2_IM00017.tif', 'CLAHE-137covid_patient82_SR_3_IM00025.tif', 'CLAHE-137covid_patient91_SR_4_IM00011.tif', 'CLAHE-137covid_patient81_SR_2_IM00035.tif', 'CLAHE-157covid_patient138_SR_2_IM00039.tif', 'CLAHE-157covid_patient140_SR_3_IM00020.tif', 'CLAHE-137covid_patient119_SR_4_IM00029.tif', 'CLAHE-137covid_patient31_SR_3_IM00015.tif', 'CLAHE-137covid_patient99_SR_4_IM00038.tif', 'CLAHE-137covid_patient76_SR_4_IM00023.tif', 'CLAHE-137covid_patient118_SR_3_IM00014.tif', 'CLAHE-137covid_patient31_SR_3_IM00006.tif', 'CLAHE-137covid_patient22_SR_2_IM00028.tif', 'CLAHE-157covid_patient125_SR_2_IM00020.tif', 'CLAHE-137covid_patient103_SR_2_IM00038.tif', 'CLAHE-137covid_patient76_SR_2_IM00036.tif', 'CLAHE-137covid_patient118_SR_3_IM00006.tif', 'CLAHE-157covid_patient125_SR_4_IM00010.tif', 'CLAHE-137covid_patient49_SR_4_IM00017.tif', 'CLAHE-157covid_patient142_SR_2_IM00036.tif', 'CLAHE-137covid_patient16_SR_2_IM00012.tif', 'CLAHE-137covid_patient115_SR_4_IM00012.tif', 'CLAHE-157covid_patient145_SR_4_IM00019.tif', 'CLAHE-137covid_patient3_SR_2_IM00034.tif', 'CLAHE-137covid_patient49_SR_3_IM00016.tif', 'CLAHE-137covid_patient43_SR_4_IM00157.tif', 'CLAHE-137covid_patient85_SR_3_IM00011.tif', 'CLAHE-137covid_patient69_SR_3_IM00008.tif', 'CLAHE-137covid_patient45_SR_2_IM00020.tif', 'CLAHE-137covid_patient10_SR_2_IM00022.tif', 'CLAHE-137covid_patient91_SR_4_IM00012.tif', 'CLAHE-137covid_patient68_SR_3_IM00009.tif', 'CLAHE-137covid_patient119_SR_3_IM00026.tif', 'CLAHE-137covid_patient15_SR_2_IM00013.tif', 'CLAHE-137covid_patient117_SR_3_IM00005.tif', 'CLAHE-137covid_patient7_SR_2_IM00010.tif', 'CLAHE-137covid_patient18_SR_2_IM00031.tif', 'CLAHE-137covid_patient91_SR_2_IM00020.tif', 'CLAHE-137covid_patient80_SR_2_IM00020.tif', 'CLAHE-157covid_patient136_SR_2_IM00030.tif', 'CLAHE-157covid_patient141_SR_2_IM00024.tif', 'CLAHE-137covid_patient115_SR_2_IM00023.tif', 'CLAHE-137covid_patient99_SR_4_IM00033.tif', 'CLAHE-137covid_patient101_SR_2_IM00023.tif', 'CLAHE-137covid_patient115_SR_3_IM00031.tif', 'CLAHE-137covid_patient24_SR_4_IM00008.tif', 'CLAHE-137covid_patient7_SR_2_IM00037.tif', 'CLAHE-137covid_patient80_SR_3_IM00020.tif', 'CLAHE-137covid_patient45_SR_2_IM00026.tif', 'CLAHE-137covid_patient78_SR_3_IM00029.tif', 'CLAHE-157covid_patient144_SR_2_IM00017.tif', 'CLAHE-137covid_patient118_SR_2_IM00019.tif', 'CLAHE-137covid_patient34_SR_2_IM00019.tif', 'CLAHE-137covid_patient33_SR_2_IM00044.tif', 'CLAHE-137covid_patient78_SR_2_IM00013.tif', 'CLAHE-157covid_patient125_SR_3_IM00017.tif', 'CLAHE-157covid_patient125_SR_3_IM00024.tif', 'CLAHE-137covid_patient115_SR_2_IM00021.tif', 'CLAHE-137covid_patient77_SR_2_IM00018.tif', 'CLAHE-157covid_patient142_SR_3_IM00023.tif', 'CLAHE-157covid_patient125_SR_3_IM00020.tif', 'CLAHE-137covid_patient92_SR_2_IM00007.tif', 'CLAHE-137covid_patient15_SR_2_IM00011.tif', 'CLAHE-157covid_patient131_SR_2_IM00031.tif', 'CLAHE-157covid_patient127_SR_3_IM00013.tif', 'CLAHE-137covid_patient99_SR_4_IM00024.tif', 'CLAHE-137covid_patient115_SR_4_IM00005.tif', 'CLAHE-137covid_patient122_SR_4_IM00026.tif', 'CLAHE-137covid_patient78_SR_4_IM00251.tif', 'CLAHE-137covid_patient49_SR_2_IM00022.tif', 'CLAHE-137covid_patient92_SR_3_IM00007.tif', 'CLAHE-137covid_patient115_SR_2_IM00020.tif', 'CLAHE-137covid_patient97_SR_3_IM00017.tif', 'CLAHE-137covid_patient103_SR_4_IM00018.tif', 'CLAHE-137covid_patient61_SR_4_IM00122.tif', 'CLAHE-137covid_patient63_SR_2_IM00022.tif', 'CLAHE-157covid_patient141_SR_2_IM00015.tif', 'CLAHE-137covid_patient119_SR_4_IM00028.tif', 'CLAHE-137covid_patient1_SR_4_IM00084.tif', 'CLAHE-137covid_patient97_SR_2_IM00015.tif', 'CLAHE-137covid_patient31_SR_2_IM00045.tif', 'CLAHE-137covid_patient120_SR_2_IM00024.tif', 'CLAHE-137covid_patient99_SR_4_IM00040.tif', 'CLAHE-137covid_patient24_SR_4_IM00006.tif', 'CLAHE-137covid_patient63_SR_3_IM00010.tif', 'CLAHE-137covid_patient118_SR_2_IM00032.tif', 'CLAHE-137covid_patient5_SR_3_IM00017.tif', 'CLAHE-137covid_patient96_SR_3_IM00014.tif', 'CLAHE-137covid_patient76_SR_2_IM00043.tif', 'CLAHE-137covid_patient49_SR_2_IM00021.tif', 'CLAHE-157covid_patient125_SR_2_IM00019.tif', 'CLAHE-137covid_patient63_SR_4_IM00025.tif', 'CLAHE-137covid_patient101_SR_2_IM00020.tif', 'CLAHE-137covid_patient31_SR_2_IM00034.tif', 'CLAHE-137covid_patient3_SR_2_IM00013.tif', 'CLAHE-157covid_patient134_SR_3_IM00025.tif', 'CLAHE-137covid_patient45_SR_2_IM00023.tif', 'CLAHE-137covid_patient7_SR_3_IM00026.tif', 'CLAHE-137covid_patient22_SR_2_IM00027.tif', 'CLAHE-137covid_patient115_SR_4_IM00010.tif', 'CLAHE-137covid_patient92_SR_3_IM00009.tif', 'CLAHE-137covid_patient15_SR_3_IM00014.tif', 'CLAHE-137covid_patient78_SR_3_IM00019.tif', 'CLAHE-137covid_patient92_SR_2_IM00023.tif', 'CLAHE-137covid_patient59_SR_4_IM00035.tif', 'CLAHE-137covid_patient97_SR_2_IM00022.tif', 'CLAHE-137covid_patient101_SR_4_IM00011.tif', 'CLAHE-137covid_patient85_SR_4_IM00192.tif', 'CLAHE-137covid_patient76_SR_2_IM00039.tif', 'CLAHE-157covid_patient127_SR_2_IM00028.tif', 'CLAHE-137covid_patient9_SR_4_IM00026.tif', 'CLAHE-137covid_patient97_SR_2_IM00016.tif', 'CLAHE-137covid_patient86_SR_4_IM00030.tif', 'CLAHE-137covid_patient120_SR_3_IM00020.tif', 'CLAHE-137covid_patient57_SR_2_IM00029.tif', 'CLAHE-137covid_patient63_SR_3_IM00014.tif', 'CLAHE-137covid_patient68_SR_3_IM00007.tif', 'CLAHE-137covid_patient86_SR_3_IM00015.tif', 'CLAHE-137covid_patient11_SR_2_IM00009.tif', 'CLAHE-137covid_patient78_SR_2_IM00018.tif', 'CLAHE-137covid_patient1_SR_2_IM00010.tif', 'CLAHE-157covid_patient142_SR_2_IM00028.tif', 'CLAHE-137covid_patient54_SR_4_IM00017.tif', 'CLAHE-137covid_patient97_SR_2_IM00029.tif', 'CLAHE-137covid_patient96_SR_4_IM00051.tif', 'CLAHE-137covid_patient98_SR_2_IM00025.tif', 'CLAHE-137covid_patient92_SR_3_IM00008.tif', 'CLAHE-137covid_patient34_SR_2_IM00023.tif', 'CLAHE-157covid_patient139_SR_2_IM00027.tif', 'CLAHE-137covid_patient10_SR_3_IM00026.tif', 'CLAHE-137covid_patient7_SR_3_IM00025.tif', 'CLAHE-137covid_patient84_SR_4_IM00016.tif', 'CLAHE-137covid_patient69_SR_4_IM00024.tif', 'CLAHE-137covid_patient101_SR_2_IM00016.tif', 'CLAHE-137covid_patient13_SR_3_IM00009.tif', 'CLAHE-137covid_patient76_SR_3_IM00028.tif', 'CLAHE-137covid_patient99_SR_4_IM00032.tif', 'CLAHE-137covid_patient121_SR_4_IM00031.tif', 'CLAHE-137covid_patient92_SR_2_IM00006.tif', 'CLAHE-137covid_patient18_SR_3_IM00016.tif', 'CLAHE-137covid_patient81_SR_2_IM00021.tif', 'CLAHE-137covid_patient86_SR_3_IM00009.tif', 'CLAHE-157covid_patient133_SR_3_IM00021.tif', 'CLAHE-157covid_patient141_SR_3_IM00017.tif', 'CLAHE-137covid_patient1_SR_2_IM00027.tif', 'CLAHE-137covid_patient31_SR_3_IM00012.tif', 'CLAHE-137covid_patient76_SR_2_IM00033.tif', 'CLAHE-137covid_patient69_SR_2_IM00006.tif', 'CLAHE-157covid_patient130_SR_4_IM00024.tif', 'CLAHE-137covid_patient101_SR_4_IM00020.tif', 'CLAHE-137covid_patient17_SR_3_IM00005.tif', 'CLAHE-137covid_patient96_SR_4_IM00084.tif', 'CLAHE-137covid_patient121_SR_4_IM00081.tif', 'CLAHE-137covid_patient17_SR_2_IM00016.tif', 'CLAHE-137covid_patient69_SR_4_IM00019.tif', 'CLAHE-137covid_patient115_SR_2_IM00029.tif', 'CLAHE-157covid_patient127_SR_2_IM00027.tif', 'CLAHE-137covid_patient80_SR_2_IM00026.tif', 'CLAHE-137covid_patient85_SR_4_IM00199.tif', 'CLAHE-137covid_patient31_SR_2_IM00013.tif', 'CLAHE-137covid_patient34_SR_4_IM00021.tif', 'CLAHE-157covid_patient126_SR_2_IM00016.tif', 'CLAHE-137covid_patient99_SR_4_IM00028.tif', 'CLAHE-137covid_patient51_SR_2_IM00025.tif', 'CLAHE-157covid_patient141_SR_4_IM00026.tif', 'CLAHE-137covid_patient63_SR_3_IM00012.tif', 'CLAHE-137covid_patient43_SR_3_IM00029.tif', 'CLAHE-137covid_patient59_SR_2_IM00042.tif', 'CLAHE-157covid_patient133_SR_2_IM00015.tif', 'CLAHE-157covid_patient141_SR_2_IM00017.tif', 'CLAHE-137covid_patient51_SR_2_IM00028.tif', 'CLAHE-137covid_patient76_SR_2_IM00019.tif', 'CLAHE-137covid_patient63_SR_2_IM00018.tif', 'CLAHE-137covid_patient49_SR_3_IM00008.tif', 'CLAHE-137covid_patient10_SR_2_IM00012.tif', 'CLAHE-137covid_patient7_SR_2_IM00009.tif', 'CLAHE-137covid_patient99_SR_2_IM00008.tif', 'CLAHE-157covid_patient124_SR_2_IM00029.tif', 'CLAHE-137covid_patient117_SR_4_IM00007.tif', 'CLAHE-137covid_patient51_SR_4_IM00015.tif', 'CLAHE-137covid_patient31_SR_2_IM00026.tif', 'CLAHE-157covid_patient144_SR_3_IM00012.tif', 'CLAHE-157covid_patient144_SR_2_IM00031.tif', 'CLAHE-137covid_patient119_SR_2_IM00030.tif', 'CLAHE-137covid_patient3_SR_2_IM00038.tif', 'CLAHE-137covid_patient86_SR_4_IM00072.tif', 'CLAHE-137covid_patient68_SR_3_IM00008.tif', 'CLAHE-137covid_patient18_SR_4_IM00027.tif', 'CLAHE-137covid_patient92_SR_3_IM00010.tif', 'CLAHE-137covid_patient121_SR_3_IM00019.tif', 'CLAHE-137covid_patient85_SR_4_IM00080.tif', 'CLAHE-137covid_patient51_SR_4_IM00014.tif', 'CLAHE-137covid_patient18_SR_3_IM00011.tif', 'CLAHE-137covid_patient16_SR_4_IM00022.tif', 'CLAHE-157covid_patient130_SR_2_IM00016.tif', 'CLAHE-137covid_patient86_SR_4_IM00080.tif', 'CLAHE-137covid_patient63_SR_2_IM00010.tif', 'CLAHE-137covid_patient51_SR_4_IM00025.tif', 'CLAHE-137covid_patient78_SR_4_IM00237.tif', 'CLAHE-137covid_patient18_SR_3_IM00026.tif', 'CLAHE-137covid_patient85_SR_4_IM00065.tif', 'CLAHE-137covid_patient34_SR_4_IM00022.tif', 'CLAHE-157covid_patient138_SR_2_IM00011.tif', 'CLAHE-157covid_patient130_SR_2_IM00026.tif', 'CLAHE-137covid_patient16_SR_4_IM00048.tif', 'CLAHE-157covid_patient133_SR_4_IM00011.tif', 'CLAHE-137covid_patient10_SR_4_IM00069.tif', 'CLAHE-137covid_patient122_SR_2_IM00034.tif', 'CLAHE-157covid_patient125_SR_2_IM00028.tif', 'CLAHE-137covid_patient101_SR_2_IM00022.tif', 'CLAHE-137covid_patient78_SR_4_IM00185.tif', 'CLAHE-137covid_patient58_SR_4_IM00026.tif', 'CLAHE-137covid_patient117_SR_2_IM00013.tif', 'CLAHE-137covid_patient15_SR_4_IM00004.tif', 'CLAHE-137covid_patient115_SR_4_IM00025.tif', 'CLAHE-137covid_patient3_SR_2_IM00016.tif', 'CLAHE-157covid_patient125_SR_2_IM00018.tif', 'CLAHE-137covid_patient84_SR_2_IM00022.tif', 'CLAHE-137covid_patient85_SR_4_IM00062.tif', 'CLAHE-137covid_patient69_SR_4_IM00032.tif', 'CLAHE-137covid_patient1_SR_4_IM00083.tif', 'CLAHE-157covid_patient133_SR_3_IM00016.tif', 'CLAHE-137covid_patient80_SR_2_IM00016.tif', 'CLAHE-157covid_patient142_SR_2_IM00029.tif', 'CLAHE-137covid_patient45_SR_3_IM00005.tif', 'CLAHE-137covid_patient78_SR_4_IM00188.tif', 'CLAHE-137covid_patient118_SR_2_IM00011.tif', 'CLAHE-137covid_patient84_SR_3_IM00012.tif', 'CLAHE-137covid_patient63_SR_2_IM00033.tif', 'CLAHE-137covid_patient85_SR_4_IM00081.tif', 'CLAHE-137covid_patient92_SR_4_IM00066.tif', 'CLAHE-137covid_patient1_SR_2_IM00026.tif', 'CLAHE-137covid_patient70_SR_3_IM00019.tif', 'CLAHE-137covid_patient20_SR_4_IM00022.tif', 'CLAHE-137covid_patient81_SR_4_IM00013.tif', 'CLAHE-137covid_patient85_SR_4_IM00200.tif', 'CLAHE-137covid_patient81_SR_4_IM00022.tif', 'CLAHE-137covid_patient51_SR_3_IM00006.tif', 'CLAHE-157covid_patient133_SR_3_IM00019.tif', 'CLAHE-137covid_patient118_SR_2_IM00016.tif', 'CLAHE-137covid_patient70_SR_3_IM00011.tif', 'CLAHE-137covid_patient22_SR_2_IM00033.tif', 'CLAHE-137covid_patient105_SR_2_IM00024.tif', 'CLAHE-157covid_patient125_SR_3_IM00026.tif', 'CLAHE-137covid_patient57_SR_2_IM00012.tif', 'CLAHE-137covid_patient45_SR_2_IM00024.tif', 'CLAHE-137covid_patient42_SR_2_IM00019.tif', 'CLAHE-137covid_patient31_SR_2_IM00029.tif', 'CLAHE-137covid_patient89_SR_2_IM00007.tif', 'CLAHE-137covid_patient20_SR_3_IM00022.tif', 'CLAHE-137covid_patient115_SR_3_IM00028.tif', 'CLAHE-137covid_patient70_SR_2_IM00030.tif', 'CLAHE-137covid_patient16_SR_4_IM00047.tif', 'CLAHE-137covid_patient33_SR_2_IM00039.tif', 'CLAHE-137covid_patient101_SR_4_IM00017.tif', 'CLAHE-137covid_patient81_SR_3_IM00017.tif', 'CLAHE-137covid_patient9_SR_3_IM00026.tif', 'CLAHE-137covid_patient99_SR_4_IM00023.tif', 'CLAHE-137covid_patient105_SR_2_IM00010.tif', 'CLAHE-157covid_patient141_SR_2_IM00016.tif', 'CLAHE-137covid_patient51_SR_4_IM00006.tif', 'CLAHE-157covid_patient127_SR_2_IM00020.tif', 'CLAHE-137covid_patient32_SR_3_IM00025.tif', 'CLAHE-137covid_patient18_SR_2_IM00027.tif', 'CLAHE-137covid_patient70_SR_2_IM00042.tif', 'CLAHE-137covid_patient57_SR_2_IM00027.tif', 'CLAHE-137covid_patient1_SR_4_IM00113.tif', 'CLAHE-137covid_patient97_SR_2_IM00021.tif', 'CLAHE-137covid_patient17_SR_2_IM00014.tif', 'CLAHE-137covid_patient24_SR_4_IM00009.tif', 'CLAHE-137covid_patient58_SR_4_IM00027.tif', 'CLAHE-157covid_patient133_SR_4_IM00017.tif', 'CLAHE-137covid_patient63_SR_2_IM00032.tif', 'CLAHE-157covid_patient130_SR_2_IM00021.tif', 'CLAHE-137covid_patient63_SR_2_IM00017.tif', 'CLAHE-137covid_patient99_SR_4_IM00022.tif', 'CLAHE-137covid_patient54_SR_4_IM00015.tif', 'CLAHE-137covid_patient103_SR_3_IM00020.tif', 'CLAHE-137covid_patient60_SR_2_IM00014.tif', 'CLAHE-137covid_patient51_SR_2_IM00018.tif', 'CLAHE-137covid_patient97_SR_2_IM00019.tif', 'CLAHE-157covid_patient125_SR_3_IM00011.tif', 'CLAHE-137covid_patient92_SR_4_IM00050.tif', 'CLAHE-137covid_patient85_SR_4_IM00090.tif', 'CLAHE-137covid_patient1_SR_3_IM00024.tif', 'CLAHE-137covid_patient103_SR_3_IM00017.tif', 'CLAHE-137covid_patient51_SR_2_IM00017.tif', 'CLAHE-157covid_patient130_SR_2_IM00015.tif', 'CLAHE-137covid_patient69_SR_4_IM00020.tif', 'CLAHE-157covid_patient130_SR_3_IM00023.tif', 'CLAHE-137covid_patient81_SR_2_IM00023.tif', 'CLAHE-137covid_patient76_SR_4_IM00024.tif', 'CLAHE-137covid_patient103_SR_4_IM00017.tif', 'CLAHE-137covid_patient76_SR_2_IM00021.tif', 'CLAHE-137covid_patient97_SR_2_IM00018.tif', 'CLAHE-137covid_patient21_SR_2_IM00018.tif', 'CLAHE-137covid_patient51_SR_3_IM00020.tif', 'CLAHE-157covid_patient141_SR_2_IM00025.tif', 'CLAHE-157covid_patient125_SR_3_IM00010.tif', 'CLAHE-137covid_patient78_SR_3_IM00028.tif', 'CLAHE-137covid_patient100_SR_3_IM00027.tif', 'CLAHE-137covid_patient61_SR_2_IM00021.tif', 'CLAHE-157covid_patient144_SR_2_IM00030.tif', 'CLAHE-157covid_patient141_SR_4_IM00014.tif', 'CLAHE-157covid_patient141_SR_4_IM00015.tif', 'CLAHE-137covid_patient97_SR_2_IM00036.tif', 'CLAHE-137covid_patient103_SR_4_IM00019.tif', 'CLAHE-137covid_patient78_SR_2_IM00012.tif', 'CLAHE-137covid_patient18_SR_3_IM00023.tif', 'CLAHE-137covid_patient7_SR_2_IM00020.tif', 'CLAHE-137covid_patient59_SR_2_IM00037.tif', 'CLAHE-137covid_patient78_SR_3_IM00021.tif', 'CLAHE-137covid_patient118_SR_4_IM00010.tif', 'CLAHE-137covid_patient51_SR_4_IM00011.tif', 'CLAHE-137covid_patient22_SR_3_IM00027.tif', 'CLAHE-157covid_patient125_SR_4_IM00016.tif', 'CLAHE-137covid_patient121_SR_2_IM00019.tif', 'CLAHE-137covid_patient57_SR_3_IM00024.tif', 'CLAHE-157covid_patient133_SR_2_IM00023.tif', 'CLAHE-137covid_patient61_SR_3_IM00008.tif', 'CLAHE-137covid_patient78_SR_4_IM00187.tif', 'CLAHE-137covid_patient45_SR_3_IM00016.tif', 'CLAHE-157covid_patient131_SR_4_IM00025.tif', 'CLAHE-137covid_patient105_SR_3_IM00014.tif', 'CLAHE-137covid_patient61_SR_3_IM00023.tif', 'CLAHE-137covid_patient1_SR_4_IM00111.tif', 'CLAHE-137covid_patient78_SR_4_IM00183.tif', 'CLAHE-137covid_patient85_SR_4_IM00197.tif', 'CLAHE-137covid_patient82_SR_4_IM00025.tif', 'CLAHE-137covid_patient101_SR_4_IM00008.tif', 'CLAHE-137covid_patient119_SR_3_IM00024.tif', 'CLAHE-137covid_patient61_SR_4_IM00048.tif', 'CLAHE-137covid_patient121_SR_2_IM00007.tif', 'CLAHE-137covid_patient10_SR_2_IM00025.tif', 'CLAHE-137covid_patient51_SR_3_IM00009.tif', 'CLAHE-157covid_patient140_SR_3_IM00030.tif', 'CLAHE-157covid_patient130_SR_3_IM00019.tif', 'CLAHE-157covid_patient141_SR_2_IM00020.tif', 'CLAHE-137covid_patient89_SR_3_IM00009.tif', 'CLAHE-137covid_patient9_SR_2_IM00037.tif', 'CLAHE-137covid_patient45_SR_3_IM00015.tif', 'CLAHE-157covid_patient145_SR_2_IM00031.tif', 'CLAHE-137covid_patient3_SR_2_IM00019.tif', 'CLAHE-137covid_patient105_SR_3_IM00011.tif', 'CLAHE-137covid_patient78_SR_2_IM00015.tif', 'CLAHE-137covid_patient58_SR_4_IM00024.tif', 'CLAHE-137covid_patient97_SR_2_IM00041.tif', 'CLAHE-137covid_patient85_SR_4_IM00075.tif', 'CLAHE-137covid_patient59_SR_4_IM00029.tif', 'CLAHE-137covid_patient61_SR_2_IM00024.tif', 'CLAHE-157covid_patient141_SR_3_IM00007.tif', 'CLAHE-137covid_patient97_SR_3_IM00024.tif', 'CLAHE-137covid_patient18_SR_3_IM00018.tif', 'CLAHE-157covid_patient141_SR_3_IM00028.tif', 'CLAHE-157covid_patient145_SR_2_IM00030.tif', 'CLAHE-157covid_patient124_SR_2_IM00026.tif', 'CLAHE-137covid_patient49_SR_3_IM00014.tif', 'CLAHE-157covid_patient124_SR_2_IM00020.tif', 'CLAHE-157covid_patient141_SR_3_IM00013.tif', 'CLAHE-137covid_patient115_SR_4_IM00021.tif', 'CLAHE-137covid_patient92_SR_2_IM00009.tif', 'CLAHE-137covid_patient59_SR_3_IM00027.tif', 'CLAHE-137covid_patient76_SR_2_IM00035.tif', 'CLAHE-137covid_patient86_SR_2_IM00017.tif', 'CLAHE-137covid_patient3_SR_4_IM00015.tif', 'CLAHE-137covid_patient61_SR_4_IM00039.tif', 'CLAHE-137covid_patient86_SR_4_IM00078.tif', 'CLAHE-137covid_patient85_SR_3_IM00012.tif', 'CLAHE-137covid_patient16_SR_4_IM00049.tif', 'CLAHE-137covid_patient74_SR_4_IM00008.tif', 'CLAHE-157covid_patient145_SR_2_IM00029.tif', 'CLAHE-137covid_patient115_SR_3_IM00015.tif', 'CLAHE-137covid_patient91_SR_4_IM00022.tif', 'CLAHE-137covid_patient120_SR_2_IM00015.tif', 'CLAHE-137covid_patient1_SR_2_IM00022.tif', 'CLAHE-137covid_patient118_SR_2_IM00009.tif', 'CLAHE-137covid_patient99_SR_3_IM00017.tif', 'CLAHE-137covid_patient89_SR_3_IM00006.tif', 'CLAHE-137covid_patient99_SR_2_IM00011.tif', 'CLAHE-137covid_patient61_SR_3_IM00021.tif', 'CLAHE-137covid_patient70_SR_4_IM00076.tif', 'CLAHE-137covid_patient120_SR_2_IM00017.tif', 'CLAHE-137covid_patient96_SR_3_IM00015.tif', 'CLAHE-137covid_patient115_SR_2_IM00032.tif', 'CLAHE-137covid_patient78_SR_4_IM00206.tif', 'CLAHE-137covid_patient16_SR_2_IM00013.tif', 'CLAHE-137covid_patient81_SR_4_IM00023.tif', 'CLAHE-137covid_patient51_SR_3_IM00023.tif', 'CLAHE-137covid_patient86_SR_2_IM00009.tif', 'CLAHE-157covid_patient134_SR_2_IM00038.tif', 'CLAHE-137covid_patient16_SR_4_IM00021.tif', 'CLAHE-137covid_patient117_SR_4_IM00017.tif', 'CLAHE-137covid_patient61_SR_2_IM00005.tif', 'CLAHE-137covid_patient28_SR_3_IM00027.tif', 'CLAHE-137covid_patient103_SR_4_IM00020.tif', 'CLAHE-137covid_patient118_SR_2_IM00021.tif', 'CLAHE-137covid_patient91_SR_3_IM00012.tif', 'CLAHE-137covid_patient97_SR_2_IM00024.tif', 'CLAHE-137covid_patient78_SR_2_IM00029.tif', 'CLAHE-137covid_patient86_SR_4_IM00035.tif', 'CLAHE-137covid_patient61_SR_4_IM00043.tif', 'CLAHE-137covid_patient78_SR_4_IM00180.tif', 'CLAHE-137covid_patient51_SR_3_IM00019.tif', 'CLAHE-137covid_patient1_SR_3_IM00015.tif', 'CLAHE-137covid_patient121_SR_2_IM00022.tif', 'CLAHE-137covid_patient69_SR_3_IM00010.tif', 'CLAHE-137covid_patient70_SR_2_IM00044.tif', 'CLAHE-137covid_patient76_SR_2_IM00023.tif', 'CLAHE-157covid_patient133_SR_2_IM00038.tif', 'CLAHE-157covid_patient127_SR_2_IM00023.tif', 'CLAHE-157covid_patient127_SR_2_IM00022.tif', 'CLAHE-137covid_patient103_SR_3_IM00018.tif', 'CLAHE-157covid_patient125_SR_2_IM00031.tif', 'CLAHE-137covid_patient54_SR_2_IM00030.tif', 'CLAHE-137covid_patient82_SR_2_IM00013.tif', 'CLAHE-137covid_patient86_SR_4_IM00075.tif', 'CLAHE-137covid_patient63_SR_4_IM00012.tif', 'CLAHE-137covid_patient18_SR_3_IM00021.tif', 'CLAHE-137covid_patient13_SR_3_IM00024.tif', 'CLAHE-137covid_patient10_SR_2_IM00028.tif', 'CLAHE-137covid_patient115_SR_3_IM00021.tif', 'CLAHE-157covid_patient144_SR_3_IM00021.tif', 'CLAHE-137covid_patient3_SR_2_IM00040.tif', 'CLAHE-137covid_patient42_SR_2_IM00025.tif', 'CLAHE-137covid_patient99_SR_2_IM00007.tif', 'CLAHE-137covid_patient32_SR_2_IM00037.tif', 'CLAHE-137covid_patient29_SR_2_IM00012.tif', 'CLAHE-157covid_patient137_SR_2_IM00021.tif', 'CLAHE-137covid_patient101_SR_3_IM00018.tif', 'CLAHE-157covid_patient139_SR_2_IM00029.tif', 'CLAHE-137covid_patient78_SR_2_IM00027.tif', 'CLAHE-137covid_patient1_SR_4_IM00110.tif', 'CLAHE-157covid_patient136_SR_2_IM00032.tif', 'CLAHE-157covid_patient141_SR_3_IM00016.tif', 'CLAHE-157covid_patient140_SR_3_IM00022.tif', 'CLAHE-137covid_patient115_SR_3_IM00024.tif', 'CLAHE-137covid_patient18_SR_3_IM00028.tif', 'CLAHE-137covid_patient31_SR_2_IM00018.tif', 'CLAHE-137covid_patient99_SR_4_IM00037.tif', 'CLAHE-137covid_patient1_SR_4_IM00059.tif', 'CLAHE-137covid_patient13_SR_4_IM00027.tif', 'CLAHE-157covid_patient130_SR_3_IM00024.tif', 'CLAHE-137covid_patient69_SR_4_IM00016.tif', 'CLAHE-157covid_patient133_SR_2_IM00030.tif', 'CLAHE-137covid_patient97_SR_3_IM00006.tif', 'CLAHE-137covid_patient81_SR_2_IM00049.tif', 'CLAHE-137covid_patient24_SR_4_IM00017.tif', 'CLAHE-137covid_patient121_SR_4_IM00071.tif', 'CLAHE-157covid_patient135_SR_3_IM00030.tif', 'CLAHE-137covid_patient61_SR_2_IM00009.tif', 'CLAHE-137covid_patient61_SR_3_IM00006.tif', 'CLAHE-137covid_patient18_SR_2_IM00016.tif', 'CLAHE-157covid_patient141_SR_2_IM00021.tif', 'CLAHE-137covid_patient49_SR_2_IM00018.tif', 'CLAHE-137covid_patient118_SR_3_IM00016.tif', 'CLAHE-137covid_patient78_SR_3_IM00015.tif', 'CLAHE-137covid_patient92_SR_4_IM00058.tif', 'CLAHE-137covid_patient50_SR_2_IM00031.tif', 'CLAHE-137covid_patient9_SR_2_IM00038.tif', 'CLAHE-137covid_patient24_SR_4_IM00022.tif', 'CLAHE-137covid_patient18_SR_2_IM00028.tif', 'CLAHE-137covid_patient1_SR_2_IM00013.tif', 'CLAHE-137covid_patient97_SR_3_IM00019.tif', 'CLAHE-157covid_patient140_SR_3_IM00021.tif', 'CLAHE-157covid_patient133_SR_2_IM00026.tif', 'CLAHE-137covid_patient78_SR_4_IM00208.tif', 'CLAHE-137covid_patient60_SR_2_IM00016.tif', 'CLAHE-137covid_patient31_SR_4_IM00007.tif', 'CLAHE-157covid_patient127_SR_2_IM00030.tif', 'CLAHE-137covid_patient105_SR_3_IM00016.tif', 'CLAHE-137covid_patient97_SR_2_IM00012.tif', 'CLAHE-137covid_patient51_SR_2_IM00032.tif', 'CLAHE-137covid_patient100_SR_3_IM00026.tif', 'CLAHE-137covid_patient91_SR_2_IM00011.tif', 'CLAHE-137covid_patient92_SR_4_IM00044.tif', 'CLAHE-157covid_patient136_SR_3_IM00016.tif', 'CLAHE-137covid_patient76_SR_4_IM00010.tif', 'CLAHE-157covid_patient140_SR_4_IM00022.tif', 'CLAHE-157covid_patient125_SR_4_IM00017.tif', 'CLAHE-157covid_patient133_SR_2_IM00020.tif', 'CLAHE-137covid_patient18_SR_4_IM00024.tif', 'CLAHE-137covid_patient84_SR_4_IM00014.tif', 'CLAHE-157covid_patient141_SR_3_IM00019.tif', 'CLAHE-137covid_patient63_SR_3_IM00018.tif', 'CLAHE-137covid_patient31_SR_2_IM00028.tif', 'CLAHE-137covid_patient97_SR_2_IM00013.tif', 'CLAHE-157covid_patient127_SR_2_IM00018.tif', 'CLAHE-137covid_patient78_SR_4_IM00210.tif', 'CLAHE-137covid_patient101_SR_2_IM00013.tif', 'CLAHE-137covid_patient32_SR_2_IM00029.tif', 'CLAHE-137covid_patient86_SR_3_IM00011.tif', 'CLAHE-137covid_patient118_SR_2_IM00010.tif', 'CLAHE-137covid_patient45_SR_3_IM00020.tif', 'CLAHE-137covid_patient3_SR_4_IM00022.tif', 'CLAHE-137covid_patient122_SR_3_IM00024.tif', 'CLAHE-137covid_patient3_SR_2_IM00032.tif', 'CLAHE-137covid_patient85_SR_4_IM00195.tif', 'CLAHE-137covid_patient69_SR_4_IM00014.tif', 'CLAHE-137covid_patient86_SR_2_IM00019.tif', 'CLAHE-137covid_patient81_SR_4_IM00020.tif', 'CLAHE-157covid_patient141_SR_3_IM00008.tif', 'CLAHE-137covid_patient1_SR_4_IM00063.tif', 'CLAHE-137covid_patient3_SR_2_IM00018.tif', 'CLAHE-137covid_patient84_SR_4_IM00011.tif', 'CLAHE-137covid_patient30_SR_3_IM00016.tif', 'CLAHE-137covid_patient63_SR_2_IM00029.tif', 'CLAHE-137covid_patient49_SR_4_IM00013.tif', 'CLAHE-137covid_patient78_SR_3_IM00025.tif', 'CLAHE-137covid_patient45_SR_3_IM00019.tif', 'CLAHE-137covid_patient96_SR_3_IM00017.tif', 'CLAHE-137covid_patient91_SR_2_IM00030.tif', 'CLAHE-137covid_patient92_SR_4_IM00062.tif', 'CLAHE-137covid_patient45_SR_3_IM00006.tif', 'CLAHE-137covid_patient26_SR_3_IM00025.tif', 'CLAHE-137covid_patient31_SR_4_IM00017.tif', 'CLAHE-137covid_patient33_SR_2_IM00034.tif', 'CLAHE-157covid_patient133_SR_3_IM00018.tif', 'CLAHE-137covid_patient1_SR_4_IM00061.tif', 'CLAHE-137covid_patient43_SR_4_IM00155.tif', 'CLAHE-157covid_patient134_SR_2_IM00018.tif', 'CLAHE-137covid_patient78_SR_4_IM00198.tif', 'CLAHE-137covid_patient43_SR_3_IM00028.tif', 'CLAHE-137covid_patient78_SR_4_IM00177.tif', 'CLAHE-137covid_patient99_SR_2_IM00010.tif', 'CLAHE-137covid_patient51_SR_4_IM00010.tif', 'CLAHE-137covid_patient105_SR_2_IM00014.tif', 'CLAHE-137covid_patient15_SR_3_IM00009.tif', 'CLAHE-137covid_patient57_SR_2_IM00033.tif', 'CLAHE-137covid_patient45_SR_2_IM00030.tif', 'CLAHE-137covid_patient118_SR_3_IM00005.tif', 'CLAHE-137covid_patient65_SR_2_IM00020.tif', 'CLAHE-137covid_patient122_SR_3_IM00026.tif', 'CLAHE-137covid_patient45_SR_4_IM00017.tif', 'CLAHE-137covid_patient31_SR_2_IM00036.tif', 'CLAHE-137covid_patient115_SR_4_IM00006.tif', 'CLAHE-137covid_patient122_SR_2_IM00033.tif', 'CLAHE-157covid_patient133_SR_4_IM00016.tif', 'CLAHE-157covid_patient141_SR_2_IM00029.tif', 'CLAHE-137covid_patient31_SR_2_IM00030.tif', 'CLAHE-137covid_patient84_SR_2_IM00024.tif', 'CLAHE-137covid_patient118_SR_3_IM00017.tif', 'CLAHE-137covid_patient51_SR_2_IM00023.tif', 'CLAHE-137covid_patient78_SR_4_IM00178.tif', 'CLAHE-157covid_patient125_SR_2_IM00011.tif', 'CLAHE-137covid_patient100_SR_2_IM00029.tif', 'CLAHE-137covid_patient1_SR_2_IM00012.tif', 'CLAHE-137covid_patient97_SR_4_IM00017.tif', 'CLAHE-137covid_patient84_SR_2_IM00016.tif', 'CLAHE-157covid_patient145_SR_4_IM00023.tif', 'CLAHE-137covid_patient15_SR_4_IM00005.tif', 'CLAHE-137covid_patient84_SR_2_IM00018.tif', 'CLAHE-137covid_patient121_SR_4_IM00078.tif', 'CLAHE-137covid_patient86_SR_2_IM00012.tif', 'CLAHE-157covid_patient133_SR_3_IM00013.tif', 'CLAHE-137covid_patient61_SR_4_IM00117.tif', 'CLAHE-137covid_patient118_SR_4_IM00022.tif', 'CLAHE-137covid_patient97_SR_3_IM00018.tif', 'CLAHE-137covid_patient13_SR_2_IM00013.tif', 'CLAHE-137covid_patient51_SR_4_IM00009.tif', 'CLAHE-157covid_patient136_SR_3_IM00019.tif', 'CLAHE-137covid_patient118_SR_3_IM00020.tif', 'CLAHE-137covid_patient7_SR_3_IM00023.tif', 'CLAHE-137covid_patient59_SR_3_IM00025.tif', 'CLAHE-137covid_patient3_SR_4_IM00026.tif', 'CLAHE-137covid_patient98_SR_2_IM00024.tif', 'CLAHE-157covid_patient140_SR_4_IM00027.tif', 'CLAHE-137covid_patient98_SR_2_IM00012.tif', 'CLAHE-137covid_patient97_SR_3_IM00005.tif', 'CLAHE-137covid_patient81_SR_3_IM00031.tif', 'CLAHE-137covid_patient61_SR_2_IM00019.tif', 'CLAHE-137covid_patient99_SR_4_IM00066.tif', 'CLAHE-137covid_patient105_SR_3_IM00010.tif', 'CLAHE-137covid_patient31_SR_4_IM00019.tif', 'CLAHE-137covid_patient57_SR_3_IM00009.tif', 'CLAHE-137covid_patient118_SR_2_IM00031.tif', 'CLAHE-137covid_patient18_SR_2_IM00037.tif', 'CLAHE-137covid_patient63_SR_3_IM00015.tif', 'CLAHE-137covid_patient76_SR_3_IM00008.tif', 'CLAHE-157covid_patient139_SR_2_IM00031.tif', 'CLAHE-137covid_patient91_SR_3_IM00023.tif', 'CLAHE-137covid_patient51_SR_4_IM00016.tif', 'CLAHE-137covid_patient3_SR_2_IM00036.tif', 'CLAHE-157covid_patient140_SR_4_IM00028.tif', 'CLAHE-137covid_patient76_SR_2_IM00022.tif', 'CLAHE-137covid_patient3_SR_2_IM00039.tif', 'CLAHE-137covid_patient30_SR_2_IM00030.tif', 'CLAHE-137covid_patient115_SR_2_IM00017.tif', 'CLAHE-137covid_patient101_SR_3_IM00005.tif', 'CLAHE-157covid_patient133_SR_2_IM00019.tif', 'CLAHE-137covid_patient96_SR_2_IM00024.tif', 'CLAHE-157covid_patient141_SR_2_IM00019.tif', 'CLAHE-157covid_patient145_SR_2_IM00025.tif', 'CLAHE-137covid_patient118_SR_4_IM00009.tif', 'CLAHE-137covid_patient81_SR_3_IM00029.tif', 'CLAHE-137covid_patient92_SR_4_IM00079.tif', 'CLAHE-137covid_patient117_SR_3_IM00017.tif', 'CLAHE-137covid_patient58_SR_2_IM00028.tif', 'CLAHE-137covid_patient81_SR_4_IM00025.tif', 'CLAHE-137covid_patient81_SR_2_IM00016.tif', 'CLAHE-157covid_patient125_SR_3_IM00015.tif', 'CLAHE-137covid_patient85_SR_4_IM00073.tif', 'CLAHE-137covid_patient63_SR_4_IM00014.tif', 'CLAHE-137covid_patient91_SR_2_IM00019.tif', 'CLAHE-137covid_patient7_SR_4_IM00020.tif', 'CLAHE-137covid_patient81_SR_4_IM00018.tif', 'CLAHE-137covid_patient118_SR_3_IM00021.tif', 'CLAHE-137covid_patient89_SR_2_IM00009.tif', 'CLAHE-137covid_patient118_SR_2_IM00017.tif', 'CLAHE-137covid_patient97_SR_2_IM00028.tif', 'CLAHE-137covid_patient51_SR_2_IM00012.tif', 'CLAHE-137covid_patient1_SR_3_IM00019.tif', 'CLAHE-137covid_patient118_SR_4_IM00016.tif', 'CLAHE-157covid_patient125_SR_2_IM00012.tif', 'CLAHE-137covid_patient70_SR_3_IM00040.tif', 'CLAHE-137covid_patient84_SR_4_IM00012.tif', 'CLAHE-137covid_patient18_SR_4_IM00012.tif', 'CLAHE-137covid_patient7_SR_2_IM00027.tif', 'CLAHE-137covid_patient50_SR_2_IM00032.tif', 'CLAHE-137covid_patient32_SR_3_IM00026.tif', 'CLAHE-137covid_patient121_SR_4_IM00032.tif', 'CLAHE-157covid_patient136_SR_2_IM00026.tif', 'CLAHE-137covid_patient92_SR_4_IM00048.tif', 'CLAHE-137covid_patient86_SR_3_IM00016.tif', 'CLAHE-137covid_patient99_SR_4_IM00029.tif', 'CLAHE-137covid_patient61_SR_3_IM00022.tif', 'CLAHE-137covid_patient51_SR_3_IM00017.tif', 'CLAHE-157covid_patient124_SR_2_IM00021.tif', 'CLAHE-137covid_patient85_SR_3_IM00013.tif', 'CLAHE-157covid_patient125_SR_4_IM00022.tif', 'CLAHE-137covid_patient70_SR_3_IM00009.tif', 'CLAHE-137covid_patient78_SR_2_IM00021.tif', 'CLAHE-137covid_patient20_SR_4_IM00020.tif', 'CLAHE-157covid_patient145_SR_3_IM00019.tif', 'CLAHE-137covid_patient76_SR_2_IM00042.tif', 'CLAHE-137covid_patient57_SR_3_IM00020.tif', 'CLAHE-137covid_patient121_SR_3_IM00021.tif', 'CLAHE-137covid_patient42_SR_2_IM00013.tif', 'CLAHE-137covid_patient81_SR_3_IM00015.tif', 'CLAHE-157covid_patient125_SR_2_IM00026.tif', 'CLAHE-137covid_patient120_SR_3_IM00021.tif', 'CLAHE-137covid_patient60_SR_2_IM00017.tif', 'CLAHE-137covid_patient1_SR_4_IM00120.tif', 'CLAHE-157covid_patient145_SR_2_IM00028.tif', 'CLAHE-137covid_patient78_SR_3_IM00032.tif', 'CLAHE-137covid_patient92_SR_2_IM00015.tif', 'CLAHE-137covid_patient45_SR_4_IM00015.tif', 'CLAHE-137covid_patient97_SR_3_IM00026.tif', 'CLAHE-137covid_patient49_SR_2_IM00016.tif', 'CLAHE-157covid_patient127_SR_2_IM00029.tif', 'CLAHE-137covid_patient63_SR_2_IM00024.tif', 'CLAHE-137covid_patient7_SR_4_IM00022.tif', 'CLAHE-137covid_patient13_SR_4_IM00026.tif', 'CLAHE-137covid_patient63_SR_2_IM00026.tif', 'CLAHE-137covid_patient49_SR_3_IM00017.tif', 'CLAHE-137covid_patient63_SR_2_IM00013.tif', 'CLAHE-137covid_patient122_SR_3_IM00027.tif', 'CLAHE-137covid_patient35_SR_3_IM00002.tif', 'CLAHE-137covid_patient81_SR_3_IM00005.tif', 'CLAHE-137covid_patient122_SR_2_IM00036.tif', 'CLAHE-137covid_patient59_SR_3_IM00028.tif', 'CLAHE-137covid_patient92_SR_4_IM00080.tif', 'CLAHE-137covid_patient99_SR_4_IM00035.tif', 'CLAHE-157covid_patient133_SR_2_IM00034.tif', 'CLAHE-157covid_patient124_SR_2_IM00023.tif', 'CLAHE-137covid_patient92_SR_4_IM00049.tif', 'CLAHE-137covid_patient117_SR_2_IM00011.tif', 'CLAHE-157covid_patient141_SR_4_IM00017.tif', 'CLAHE-137covid_patient63_SR_4_IM00021.tif', 'CLAHE-137covid_patient76_SR_4_IM00014.tif', 'CLAHE-137covid_patient60_SR_2_IM00019.tif', 'CLAHE-137covid_patient69_SR_3_IM00009.tif', 'CLAHE-137covid_patient105_SR_3_IM00020.tif', 'CLAHE-157covid_patient133_SR_3_IM00024.tif', 'CLAHE-137covid_patient78_SR_2_IM00032.tif', 'CLAHE-137covid_patient3_SR_2_IM00024.tif', 'CLAHE-137covid_patient76_SR_2_IM00045.tif', 'CLAHE-137covid_patient1_SR_4_IM00092.tif', 'CLAHE-137covid_patient81_SR_2_IM00047.tif', 'CLAHE-137covid_patient99_SR_4_IM00074.tif', 'CLAHE-157covid_patient134_SR_2_IM00036.tif', 'CLAHE-137covid_patient59_SR_4_IM00034.tif', 'CLAHE-137covid_patient92_SR_4_IM00056.tif', 'CLAHE-137covid_patient97_SR_2_IM00023.tif', 'CLAHE-137covid_patient76_SR_4_IM00013.tif', 'CLAHE-157covid_patient141_SR_3_IM00009.tif', 'CLAHE-157covid_patient130_SR_2_IM00022.tif', 'CLAHE-137covid_patient33_SR_2_IM00037.tif', 'CLAHE-137covid_patient63_SR_3_IM00023.tif', 'CLAHE-157covid_patient141_SR_4_IM00028.tif', 'CLAHE-137covid_patient76_SR_3_IM00023.tif', 'CLAHE-157covid_patient141_SR_3_IM00014.tif', 'CLAHE-137covid_patient119_SR_2_IM00031.tif', 'CLAHE-157covid_patient125_SR_3_IM00016.tif', 'CLAHE-137covid_patient69_SR_4_IM00037.tif', 'CLAHE-137covid_patient18_SR_3_IM00027.tif', 'CLAHE-137covid_patient58_SR_2_IM00027.tif', 'CLAHE-137covid_patient85_SR_2_IM00030.tif', 'CLAHE-137covid_patient76_SR_2_IM00037.tif', 'CLAHE-137covid_patient96_SR_4_IM00088.tif', 'CLAHE-137covid_patient97_SR_2_IM00027.tif', 'CLAHE-157covid_patient126_SR_3_IM00012.tif', 'CLAHE-137covid_patient101_SR_4_IM00016.tif', 'CLAHE-137covid_patient70_SR_2_IM00014.tif', 'CLAHE-137covid_patient81_SR_3_IM00014.tif', 'CLAHE-137covid_patient61_SR_2_IM00020.tif', 'CLAHE-137covid_patient43_SR_2_IM00027.tif', 'CLAHE-137covid_patient115_SR_3_IM00011.tif', 'CLAHE-137covid_patient78_SR_2_IM00028.tif', 'CLAHE-137covid_patient51_SR_2_IM00037.tif', 'CLAHE-137covid_patient117_SR_4_IM00006.tif', 'CLAHE-137covid_patient51_SR_3_IM00010.tif', 'CLAHE-157covid_patient130_SR_2_IM00023.tif', 'CLAHE-137covid_patient49_SR_2_IM00020.tif', 'CLAHE-137covid_patient59_SR_3_IM00029.tif', 'CLAHE-137covid_patient32_SR_2_IM00038.tif', 'CLAHE-137covid_patient86_SR_4_IM00033.tif', 'CLAHE-157covid_patient133_SR_2_IM00035.tif', 'CLAHE-137covid_patient76_SR_4_IM00021.tif', 'CLAHE-157covid_patient131_SR_3_IM00031.tif', 'CLAHE-137covid_patient9_SR_3_IM00028.tif', 'CLAHE-137covid_patient7_SR_3_IM00020.tif', 'CLAHE-137covid_patient1_SR_4_IM00056.tif', 'CLAHE-137covid_patient68_SR_2_IM00014.tif', 'CLAHE-137covid_patient118_SR_2_IM00024.tif', 'CLAHE-137covid_patient115_SR_3_IM00030.tif', 'CLAHE-137covid_patient115_SR_2_IM00025.tif', 'CLAHE-137covid_patient16_SR_4_IM00019.tif', 'CLAHE-137covid_patient7_SR_2_IM00028.tif', 'CLAHE-137covid_patient82_SR_2_IM00008.tif', 'CLAHE-157covid_patient140_SR_4_IM00026.tif', 'CLAHE-137covid_patient81_SR_4_IM00024.tif', 'CLAHE-137covid_patient81_SR_3_IM00023.tif', 'CLAHE-157covid_patient141_SR_2_IM00023.tif', 'CLAHE-137covid_patient99_SR_4_IM00065.tif', 'CLAHE-157covid_patient125_SR_4_IM00015.tif', 'CLAHE-157covid_patient145_SR_2_IM00020.tif', 'CLAHE-137covid_patient76_SR_3_IM00009.tif', 'CLAHE-137covid_patient63_SR_2_IM00021.tif', 'CLAHE-137covid_patient18_SR_2_IM00036.tif', 'CLAHE-137covid_patient61_SR_4_IM00033.tif', 'CLAHE-137covid_patient45_SR_2_IM00029.tif', 'CLAHE-137covid_patient121_SR_4_IM00080.tif', 'CLAHE-137covid_patient69_SR_2_IM00010.tif', 'CLAHE-157covid_patient133_SR_4_IM00031.tif', 'CLAHE-157covid_patient142_SR_2_IM00037.tif', 'CLAHE-137covid_patient85_SR_2_IM00013.tif', 'CLAHE-157covid_patient142_SR_2_IM00038.tif', 'CLAHE-137covid_patient50_SR_4_IM00023.tif', 'CLAHE-137covid_patient31_SR_3_IM00008.tif', 'CLAHE-157covid_patient136_SR_3_IM00021.tif', 'CLAHE-137covid_patient69_SR_2_IM00009.tif', 'CLAHE-137covid_patient68_SR_4_IM00009.tif', 'CLAHE-137covid_patient32_SR_2_IM00035.tif', 'CLAHE-137covid_patient13_SR_3_IM00026.tif', 'CLAHE-157covid_patient144_SR_3_IM00022.tif', 'CLAHE-137covid_patient50_SR_4_IM00022.tif', 'CLAHE-137covid_patient63_SR_2_IM00027.tif', 'CLAHE-137covid_patient82_SR_2_IM00014.tif', 'CLAHE-137covid_patient99_SR_3_IM00018.tif', 'CLAHE-137covid_patient61_SR_4_IM00126.tif', 'CLAHE-137covid_patient63_SR_3_IM00027.tif', 'CLAHE-137covid_patient31_SR_2_IM00019.tif', 'CLAHE-137covid_patient45_SR_4_IM00016.tif', 'CLAHE-137covid_patient76_SR_3_IM00027.tif', 'CLAHE-137covid_patient31_SR_2_IM00012.tif', 'CLAHE-137covid_patient99_SR_2_IM00018.tif', 'CLAHE-137covid_patient92_SR_4_IM00046.tif', 'CLAHE-137covid_patient15_SR_3_IM00006.tif', 'CLAHE-157covid_patient141_SR_4_IM00024.tif', 'CLAHE-137covid_patient10_SR_2_IM00014.tif', 'CLAHE-137covid_patient1_SR_2_IM00018.tif', 'CLAHE-137covid_patient63_SR_3_IM00025.tif', 'CLAHE-157covid_patient133_SR_2_IM00027.tif', 'CLAHE-137covid_patient1_SR_4_IM00088.tif', 'CLAHE-137covid_patient70_SR_2_IM00040.tif', 'CLAHE-137covid_patient3_SR_2_IM00037.tif', 'CLAHE-157covid_patient133_SR_2_IM00014.tif', 'CLAHE-137covid_patient35_SR_2_IM00022.tif', 'CLAHE-137covid_patient99_SR_3_IM00014.tif', 'CLAHE-157covid_patient141_SR_2_IM00028.tif', 'CLAHE-137covid_patient3_SR_2_IM00015.tif', 'CLAHE-137covid_patient81_SR_4_IM00015.tif', 'CLAHE-137covid_patient59_SR_2_IM00041.tif', 'CLAHE-137covid_patient7_SR_3_IM00006.tif', 'CLAHE-157covid_patient124_SR_2_IM00033.tif', 'CLAHE-137covid_patient78_SR_2_IM00024.tif', 'CLAHE-137covid_patient31_SR_2_IM00038.tif', 'CLAHE-137covid_patient49_SR_3_IM00026.tif', 'CLAHE-137covid_patient115_SR_2_IM00014.tif', 'CLAHE-157covid_patient141_SR_2_IM00013.tif', 'CLAHE-157covid_patient133_SR_3_IM00010.tif', 'CLAHE-137covid_patient20_SR_3_IM00021.tif', 'CLAHE-157covid_patient131_SR_3_IM00032.tif', 'CLAHE-137covid_patient99_SR_2_IM00009.tif', 'CLAHE-137covid_patient42_SR_2_IM00024.tif', 'CLAHE-137covid_patient13_SR_3_IM00025.tif', 'CLAHE-137covid_patient45_SR_2_IM00010.tif', 'CLAHE-137covid_patient31_SR_2_IM00037.tif', 'CLAHE-137covid_patient81_SR_2_IM00011.tif', 'CLAHE-137covid_patient55_SR_3_IM00017.tif', 'CLAHE-137covid_patient81_SR_3_IM00016.tif', 'CLAHE-137covid_patient91_SR_3_IM00011.tif', 'CLAHE-137covid_patient99_SR_4_IM00026.tif', 'CLAHE-137covid_patient76_SR_2_IM00018.tif', 'CLAHE-157covid_patient133_SR_2_IM00032.tif', 'CLAHE-137covid_patient16_SR_4_IM00020.tif', 'CLAHE-137covid_patient115_SR_4_IM00020.tif', 'CLAHE-137covid_patient96_SR_2_IM00023.tif', 'CLAHE-137covid_patient61_SR_4_IM00123.tif', 'CLAHE-137covid_patient1_SR_2_IM00019.tif', 'CLAHE-137covid_patient45_SR_3_IM00013.tif', 'CLAHE-157covid_patient141_SR_4_IM00023.tif', 'CLAHE-137covid_patient120_SR_2_IM00018.tif', 'CLAHE-137covid_patient61_SR_4_IM00118.tif', 'CLAHE-137covid_patient78_SR_3_IM00033.tif', 'CLAHE-137covid_patient7_SR_3_IM00022.tif', 'CLAHE-137covid_patient85_SR_4_IM00078.tif', 'CLAHE-137covid_patient98_SR_4_IM00075.tif', 'CLAHE-137covid_patient49_SR_2_IM00034.tif', 'CLAHE-137covid_patient10_SR_3_IM00014.tif', 'CLAHE-137covid_patient75_SR_3_IM00038.tif', 'CLAHE-137covid_patient70_SR_2_IM00031.tif', 'CLAHE-137covid_patient86_SR_3_IM00018.tif', 'CLAHE-137covid_patient115_SR_2_IM00028.tif', 'CLAHE-137covid_patient15_SR_2_IM00017.tif', 'CLAHE-157covid_patient141_SR_4_IM00016.tif', 'CLAHE-137covid_patient74_SR_2_IM00041.tif', 'CLAHE-157covid_patient140_SR_2_IM00025.tif', 'CLAHE-137covid_patient115_SR_3_IM00014.tif', 'CLAHE-137covid_patient63_SR_4_IM00011.tif', 'CLAHE-137covid_patient45_SR_3_IM00012.tif', 'CLAHE-137covid_patient117_SR_4_IM00005.tif', 'CLAHE-137covid_patient22_SR_2_IM00032.tif', 'CLAHE-157covid_patient127_SR_3_IM00015.tif', 'CLAHE-137covid_patient29_SR_3_IM00007.tif', 'CLAHE-137covid_patient78_SR_4_IM00189.tif', 'CLAHE-157covid_patient126_SR_2_IM00019.tif', 'CLAHE-137covid_patient7_SR_2_IM00035.tif', 'CLAHE-137covid_patient78_SR_4_IM00175.tif', 'CLAHE-137covid_patient10_SR_4_IM00059.tif', 'CLAHE-137covid_patient17_SR_3_IM00008.tif', 'CLAHE-137covid_patient84_SR_2_IM00020.tif', 'CLAHE-137covid_patient85_SR_4_IM00064.tif', 'CLAHE-157covid_patient133_SR_2_IM00013.tif', 'CLAHE-137covid_patient63_SR_3_IM00011.tif', 'CLAHE-137covid_patient82_SR_4_IM00023.tif', 'CLAHE-137covid_patient115_SR_4_IM00004.tif', 'CLAHE-137covid_patient89_SR_2_IM00010.tif', 'CLAHE-137covid_patient63_SR_3_IM00020.tif', 'CLAHE-137covid_patient118_SR_4_IM00013.tif', 'CLAHE-157covid_patient125_SR_2_IM00015.tif', 'CLAHE-157covid_patient141_SR_2_IM00030.tif', 'CLAHE-137covid_patient92_SR_4_IM00054.tif', 'CLAHE-137covid_patient118_SR_3_IM00023.tif', 'CLAHE-137covid_patient86_SR_4_IM00084.tif', 'CLAHE-137covid_patient115_SR_3_IM00026.tif', 'CLAHE-137covid_patient118_SR_2_IM00025.tif', 'CLAHE-137covid_patient1_SR_2_IM00015.tif', 'CLAHE-137covid_patient96_SR_4_IM00087.tif', 'CLAHE-157covid_patient133_SR_3_IM00023.tif', 'CLAHE-157covid_patient141_SR_3_IM00027.tif', 'CLAHE-157covid_patient127_SR_2_IM00034.tif', 'CLAHE-137covid_patient84_SR_2_IM00019.tif', 'CLAHE-137covid_patient10_SR_4_IM00061.tif', 'CLAHE-137covid_patient15_SR_4_IM00006.tif', 'CLAHE-137covid_patient1_SR_4_IM00062.tif', 'CLAHE-137covid_patient103_SR_3_IM00021.tif', 'CLAHE-137covid_patient58_SR_2_IM00026.tif', 'CLAHE-157covid_patient125_SR_3_IM00007.tif', 'CLAHE-137covid_patient5_SR_2_IM00036.tif', 'CLAHE-137covid_patient69_SR_4_IM00029.tif', 'CLAHE-137covid_patient1_SR_4_IM00076.tif', 'CLAHE-137covid_patient101_SR_2_IM00014.tif', 'CLAHE-137covid_patient7_SR_2_IM00011.tif', 'CLAHE-137covid_patient120_SR_3_IM00019.tif', 'CLAHE-137covid_patient105_SR_3_IM00019.tif', 'CLAHE-137covid_patient101_SR_4_IM00012.tif', 'CLAHE-137covid_patient26_SR_4_IM00102.tif', 'CLAHE-137covid_patient78_SR_4_IM00207.tif', 'CLAHE-137covid_patient9_SR_2_IM00036.tif', 'CLAHE-137covid_patient51_SR_2_IM00021.tif', 'CLAHE-137covid_patient51_SR_3_IM00014.tif', 'CLAHE-137covid_patient51_SR_4_IM00018.tif', 'CLAHE-137covid_patient81_SR_2_IM00043.tif', 'CLAHE-137covid_patient1_SR_4_IM00119.tif', 'CLAHE-137covid_patient81_SR_2_IM00017.tif', 'CLAHE-137covid_patient84_SR_2_IM00021.tif', 'CLAHE-137covid_patient16_SR_2_IM00011.tif', 'CLAHE-137covid_patient69_SR_2_IM00007.tif', 'CLAHE-137covid_patient92_SR_4_IM00081.tif', 'CLAHE-137covid_patient97_SR_3_IM00011.tif', 'CLAHE-137covid_patient3_SR_2_IM00014.tif', 'CLAHE-137covid_patient15_SR_4_IM00003.tif', 'CLAHE-137covid_patient51_SR_3_IM00015.tif', 'CLAHE-137covid_patient117_SR_2_IM00023.tif', 'CLAHE-137covid_patient81_SR_2_IM00022.tif', 'CLAHE-137covid_patient86_SR_4_IM00079.tif', 'CLAHE-137covid_patient117_SR_4_IM00018.tif', 'CLAHE-137covid_patient42_SR_2_IM00028.tif', 'CLAHE-137covid_patient51_SR_3_IM00016.tif', 'CLAHE-137covid_patient118_SR_2_IM00030.tif', 'CLAHE-137covid_patient35_SR_3_IM00010.tif', 'CLAHE-137covid_patient68_SR_3_IM00011.tif', 'CLAHE-157covid_patient141_SR_3_IM00015.tif', 'CLAHE-137covid_patient51_SR_3_IM00022.tif', 'CLAHE-137covid_patient115_SR_4_IM00024.tif', 'CLAHE-137covid_patient81_SR_3_IM00007.tif', 'CLAHE-137covid_patient78_SR_2_IM00025.tif', 'CLAHE-137covid_patient105_SR_4_IM00055.tif', 'CLAHE-157covid_patient136_SR_3_IM00018.tif', 'CLAHE-137covid_patient55_SR_2_IM00017.tif', 'CLAHE-137covid_patient103_SR_4_IM00016.tif', 'CLAHE-137covid_patient49_SR_3_IM00011.tif', 'CLAHE-137covid_patient118_SR_3_IM00019.tif', 'CLAHE-137covid_patient28_SR_2_IM00037.tif', 'CLAHE-137covid_patient84_SR_4_IM00013.tif', 'CLAHE-157covid_patient133_SR_3_IM00012.tif', 'CLAHE-137covid_patient80_SR_2_IM00022.tif', 'CLAHE-137covid_patient49_SR_3_IM00013.tif', 'CLAHE-137covid_patient78_SR_4_IM00197.tif', 'CLAHE-137covid_patient69_SR_4_IM00041.tif', 'CLAHE-137covid_patient51_SR_4_IM00026.tif', 'CLAHE-157covid_patient125_SR_2_IM00030.tif', 'CLAHE-137covid_patient43_SR_2_IM00029.tif', 'CLAHE-137covid_patient76_SR_3_IM00011.tif', 'CLAHE-137covid_patient21_SR_2_IM00019.tif', 'CLAHE-137covid_patient69_SR_4_IM00027.tif', 'CLAHE-137covid_patient92_SR_2_IM00021.tif', 'CLAHE-137covid_patient96_SR_4_IM00053.tif', 'CLAHE-137covid_patient10_SR_3_IM00012.tif', 'CLAHE-137covid_patient82_SR_3_IM00023.tif', 'CLAHE-137covid_patient115_SR_2_IM00015.tif', 'CLAHE-137covid_patient89_SR_2_IM00008.tif', 'CLAHE-137covid_patient91_SR_2_IM00018.tif', 'CLAHE-137covid_patient98_SR_2_IM00022.tif', 'CLAHE-137covid_patient101_SR_4_IM00019.tif', 'CLAHE-137covid_patient63_SR_3_IM00013.tif', 'CLAHE-137covid_patient31_SR_2_IM00025.tif', 'CLAHE-137covid_patient31_SR_3_IM00007.tif', 'CLAHE-137covid_patient22_SR_2_IM00031.tif', 'CLAHE-137covid_patient49_SR_4_IM00010.tif', 'CLAHE-137covid_patient15_SR_4_IM00011.tif', 'CLAHE-137covid_patient15_SR_2_IM00010.tif', 'CLAHE-137covid_patient121_SR_4_IM00079.tif', 'CLAHE-137covid_patient63_SR_3_IM00026.tif', 'CLAHE-137covid_patient84_SR_2_IM00015.tif', 'CLAHE-137covid_patient78_SR_3_IM00026.tif', 'CLAHE-137covid_patient86_SR_2_IM00008.tif', 'CLAHE-157covid_patient124_SR_3_IM00014.tif', 'CLAHE-137covid_patient61_SR_4_IM00120.tif', 'CLAHE-137covid_patient18_SR_3_IM00024.tif', 'CLAHE-137covid_patient35_SR_2_IM00019.tif', 'CLAHE-137covid_patient86_SR_4_IM00083.tif', 'CLAHE-137covid_patient92_SR_4_IM00059.tif', 'CLAHE-137covid_patient9_SR_2_IM00034.tif', 'CLAHE-137covid_patient91_SR_3_IM00015.tif', 'CLAHE-137covid_patient63_SR_3_IM00008.tif', 'CLAHE-137covid_patient92_SR_4_IM00068.tif', 'CLAHE-157covid_patient125_SR_3_IM00012.tif', 'CLAHE-137covid_patient59_SR_3_IM00026.tif', 'CLAHE-137covid_patient31_SR_2_IM00020.tif', 'CLAHE-137covid_patient45_SR_2_IM00027.tif', 'CLAHE-137covid_patient92_SR_2_IM00024.tif', 'CLAHE-137covid_patient118_SR_2_IM00022.tif', 'CLAHE-137covid_patient1_SR_2_IM00024.tif', 'CLAHE-137covid_patient31_SR_4_IM00008.tif', 'CLAHE-137covid_patient121_SR_4_IM00072.tif', 'CLAHE-137covid_patient1_SR_2_IM00029.tif', 'CLAHE-157covid_patient140_SR_2_IM00024.tif', 'CLAHE-157covid_patient127_SR_4_IM00020.tif', 'CLAHE-137covid_patient1_SR_4_IM00118.tif']\n"
          ],
          "name": "stdout"
        }
      ]
    },
    {
      "cell_type": "code",
      "metadata": {
        "id": "q_oLFdUFKo6e",
        "colab_type": "code",
        "colab": {
          "base_uri": "https://localhost:8080/",
          "height": 117,
          "referenced_widgets": [
            "a5befec8bd12473b9dab94931fd56f6b",
            "66272980b6c2485da67b91002cc807ec",
            "462a5039d4e04b5283d4ea2c55fecb03",
            "2fc7ccd3b4a342369333e4206453d06b",
            "94e0a268a7264f5a89be1a33fc9f5930",
            "e0fac032b41a4887bbd870b52e938b2e",
            "e7126a810a9b4fce918288eef9c050b4",
            "bc0b3e95958642d98aea2187aa675015",
            "9fd1e866397e445d990a9972ccd4ec88",
            "c9508c582b9b4ce28bf4a71787bb389b",
            "7057966dc4374ee5aa574eb03809adee",
            "e752aba8ea794eeca9092cecd5613ebf",
            "811a7f14bad6411597f5480b79f48a44",
            "e99fed3d23944ff399cf87e1e78fb99b",
            "c5f2b2ed679144d7a5dda87e5c7fdc59",
            "71a702192d464a06a434dda6027d275f"
          ]
        },
        "outputId": "b8bb9384-44aa-4b2f-de0b-d2fa4b5f1fc3"
      },
      "source": [
        "for image in tqdm(os.listdir(temp_covid_dir)):\n",
        "  os.remove(join(temp_covid_dir, image))\n",
        "\n",
        "for image in tqdm(os.listdir(temp_normal_dir)):\n",
        "  os.remove(join(temp_normal_dir, image))"
      ],
      "execution_count": 52,
      "outputs": [
        {
          "output_type": "display_data",
          "data": {
            "application/vnd.jupyter.widget-view+json": {
              "model_id": "a5befec8bd12473b9dab94931fd56f6b",
              "version_minor": 0,
              "version_major": 2
            },
            "text/plain": [
              "HBox(children=(FloatProgress(value=0.0, max=2282.0), HTML(value='')))"
            ]
          },
          "metadata": {
            "tags": []
          }
        },
        {
          "output_type": "stream",
          "text": [
            "\n"
          ],
          "name": "stdout"
        },
        {
          "output_type": "display_data",
          "data": {
            "application/vnd.jupyter.widget-view+json": {
              "model_id": "9fd1e866397e445d990a9972ccd4ec88",
              "version_minor": 0,
              "version_major": 2
            },
            "text/plain": [
              "HBox(children=(FloatProgress(value=0.0, max=2282.0), HTML(value='')))"
            ]
          },
          "metadata": {
            "tags": []
          }
        },
        {
          "output_type": "stream",
          "text": [
            "\n"
          ],
          "name": "stdout"
        }
      ]
    },
    {
      "cell_type": "code",
      "metadata": {
        "id": "SZjjzHD8Lp_4",
        "colab_type": "code",
        "colab": {
          "base_uri": "https://localhost:8080/",
          "height": 145
        },
        "outputId": "fd274c7f-a095-4312-f53a-e56462f47f71"
      },
      "source": [
        "# Checking if the temp. directories are empty\n",
        "\n",
        "for dir in temp_dirs:\n",
        "  print(dir, len(dir), os.listdir(dir))"
      ],
      "execution_count": 53,
      "outputs": [
        {
          "output_type": "stream",
          "text": [
            "/content/raw 12 ['transcoded', 'extracted', 'temp', 'preprocessed']\n",
            "/content/raw/extracted 22 []\n",
            "/content/raw/temp 17 ['covid', 'normal']\n",
            "/content/raw/temp/covid 23 []\n",
            "/content/raw/temp/normal 24 []\n",
            "/content/raw/transcoded 23 []\n",
            "/content/raw/preprocessed 25 []\n"
          ],
          "name": "stdout"
        }
      ]
    },
    {
      "cell_type": "markdown",
      "metadata": {
        "id": "PWJ2LwhUMfPG",
        "colab_type": "text"
      },
      "source": [
        "# Preprocessing the validation dataset"
      ]
    },
    {
      "cell_type": "code",
      "metadata": {
        "id": "BL2xLSFxMm8Z",
        "colab_type": "code",
        "colab": {}
      },
      "source": [
        "path = '/content/drive/My Drive/External Datasets/Kaggle/sarscov2-ctscan-dataset.zip'\n",
        "f = ZipFile(path, 'r')\n",
        "f.extractall(ext_dir)"
      ],
      "execution_count": 54,
      "outputs": []
    },
    {
      "cell_type": "code",
      "metadata": {
        "id": "M_U8KvOvGdfY",
        "colab_type": "code",
        "colab": {}
      },
      "source": [
        "def preprocess2(source, destination):\n",
        "  CLIP_LIMT = 2.0\n",
        "  for image in tqdm(os.listdir(source)):\n",
        "    path = join(source, image)\n",
        "\n",
        "\n",
        "    img = cv2.imread(path, 0)\n",
        "\n",
        "    clahe = cv2.createCLAHE(clipLimit=CLIP_LIMT, tileGridSize=(8, 8))\n",
        "\n",
        "    cl1 = clahe.apply(img)\n",
        "    os.chdir(destination)\n",
        "    cv2.imwrite(f'CLAHE-{image}', cl1)\n",
        "  \n",
        "  return\n"
      ],
      "execution_count": 55,
      "outputs": []
    },
    {
      "cell_type": "code",
      "metadata": {
        "id": "Y6fLdGNeM4fS",
        "colab_type": "code",
        "colab": {
          "base_uri": "https://localhost:8080/",
          "height": 117,
          "referenced_widgets": [
            "cf01e11e19ce42059dd044c137a8b159",
            "de629dc109a048e8b1e3d9fd5a98a4a2",
            "0b1de321c13f4a79842e235ff55763eb",
            "e1e78ac1a0d84ec49af200b807e5dff4",
            "335f11e410ba45d6a81dcbc43e5265e6",
            "38fd627fbf0e41039160988ffe03aa64",
            "cbbe0c92d9374cae8c1e02945bc02412",
            "04703d2b227746daa1e7facdf6070b65",
            "148c2919da3048cab745ca4db7229214",
            "e2aef15712174f40b344fc198d67a691",
            "57ed4d0f424047298fa85632db8e9177",
            "68c2b79488114bb7b63928f83562f09e",
            "b1d3650b3ac249b485e89bef44468957",
            "4f81f894ea6d482384bc612e72436a66",
            "77b7a022f06c43a3be229d029fb64039",
            "1d48787c1904439d92ebb7808db5345b"
          ]
        },
        "outputId": "0404913e-e19f-45d7-9226-88941bf5ad9b"
      },
      "source": [
        "preprocess2('/content/raw/extracted/COVID', testing_covid_dir)\n",
        "preprocess2('/content/raw/extracted/non-COVID', testing_normal_dir)"
      ],
      "execution_count": 56,
      "outputs": [
        {
          "output_type": "display_data",
          "data": {
            "application/vnd.jupyter.widget-view+json": {
              "model_id": "cf01e11e19ce42059dd044c137a8b159",
              "version_minor": 0,
              "version_major": 2
            },
            "text/plain": [
              "HBox(children=(FloatProgress(value=0.0, max=1252.0), HTML(value='')))"
            ]
          },
          "metadata": {
            "tags": []
          }
        },
        {
          "output_type": "stream",
          "text": [
            "\n"
          ],
          "name": "stdout"
        },
        {
          "output_type": "display_data",
          "data": {
            "application/vnd.jupyter.widget-view+json": {
              "model_id": "148c2919da3048cab745ca4db7229214",
              "version_minor": 0,
              "version_major": 2
            },
            "text/plain": [
              "HBox(children=(FloatProgress(value=0.0, max=1229.0), HTML(value='')))"
            ]
          },
          "metadata": {
            "tags": []
          }
        },
        {
          "output_type": "stream",
          "text": [
            "\n"
          ],
          "name": "stdout"
        }
      ]
    },
    {
      "cell_type": "code",
      "metadata": {
        "id": "L1-fzbRBNZ1Z",
        "colab_type": "code",
        "colab": {
          "base_uri": "https://localhost:8080/",
          "height": 305
        },
        "outputId": "648398af-b09e-4c0f-d8b0-03901c659d4d"
      },
      "source": [
        "folder = join(testing_dir, random.choice(os.listdir(testing_dir)))\n",
        "print(folder)\n",
        "image = random.choice(os.listdir(folder))\n",
        "\n",
        "img_path = join(folder, image)\n",
        "img = imread(img_path)\n",
        "plt.imshow(img, cmap = 'gray')"
      ],
      "execution_count": 58,
      "outputs": [
        {
          "output_type": "stream",
          "text": [
            "/content/datasets/testing/normal\n"
          ],
          "name": "stdout"
        },
        {
          "output_type": "execute_result",
          "data": {
            "text/plain": [
              "<matplotlib.image.AxesImage at 0x7f9c19b97668>"
            ]
          },
          "metadata": {
            "tags": []
          },
          "execution_count": 58
        },
        {
          "output_type": "display_data",
          "data": {
            "image/png": "[encoded data removed]",
            "text/plain": [
              "<Figure size 432x288 with 1 Axes>"
            ]
          },
          "metadata": {
            "tags": [],
            "needs_background": "light"
          }
        }
      ]
    },
    {
      "cell_type": "code",
      "metadata": {
        "id": "IyHH2OplNKxm",
        "colab_type": "code",
        "colab": {}
      },
      "source": [
        "for File in os.listdir(ext_dir):\n",
        "  shutil.rmtree(join(ext_dir,File))"
      ],
      "execution_count": 59,
      "outputs": []
    },
    {
      "cell_type": "code",
      "metadata": {
        "id": "47o5w5NWHlYj",
        "colab_type": "code",
        "colab": {}
      },
      "source": [
        "os.chdir(ext_dir)"
      ],
      "execution_count": 64,
      "outputs": []
    },
    {
      "cell_type": "markdown",
      "metadata": {
        "id": "Lp54vwxtOY_x",
        "colab_type": "text"
      },
      "source": [
        "# Preprocessing the testing dataset\n",
        "\n",
        "\n"
      ]
    },
    {
      "cell_type": "code",
      "metadata": {
        "id": "aJKdH2YoOd36",
        "colab_type": "code",
        "colab": {
          "base_uri": "https://localhost:8080/",
          "height": 619
        },
        "outputId": "3a81c3d0-4094-4944-c563-74dd2c89580f"
      },
      "source": [
        "!wget https://github.com/UCSD-AI4H/COVID-CT/raw/master/Images-processed/CT_COVID.zip\n",
        "!wget https://github.com/UCSD-AI4H/COVID-CT/raw/master/Images-processed/CT_NonCOVID.zip"
      ],
      "execution_count": 65,
      "outputs": [
        {
          "output_type": "stream",
          "text": [
            "--2020-09-15 09:36:39--  https://github.com/UCSD-AI4H/COVID-CT/raw/master/Images-processed/CT_COVID.zip\n",
            "Resolving github.com (github.com)... 140.82.112.3\n",
            "Connecting to github.com (github.com)|140.82.112.3|:443... connected.\n",
            "HTTP request sent, awaiting response... 302 Found\n",
            "Location: https://raw.githubusercontent.com/UCSD-AI4H/COVID-CT/master/Images-processed/CT_COVID.zip [following]\n",
            "--2020-09-15 09:36:39--  https://raw.githubusercontent.com/UCSD-AI4H/COVID-CT/master/Images-processed/CT_COVID.zip\n",
            "Resolving raw.githubusercontent.com (raw.githubusercontent.com)... 151.101.0.133, 151.101.64.133, 151.101.128.133, ...\n",
            "Connecting to raw.githubusercontent.com (raw.githubusercontent.com)|151.101.0.133|:443... connected.\n",
            "HTTP request sent, awaiting response... 200 OK\n",
            "Length: 47929914 (46M) [application/zip]\n",
            "Saving to: ‘CT_COVID.zip’\n",
            "\n",
            "CT_COVID.zip        100%[===================>]  45.71M  54.3MB/s    in 0.8s    \n",
            "\n",
            "2020-09-15 09:36:40 (54.3 MB/s) - ‘CT_COVID.zip’ saved [47929914/47929914]\n",
            "\n",
            "--2020-09-15 09:36:40--  https://github.com/UCSD-AI4H/COVID-CT/raw/master/Images-processed/CT_NonCOVID.zip\n",
            "Resolving github.com (github.com)... 140.82.113.4\n",
            "Connecting to github.com (github.com)|140.82.113.4|:443... connected.\n",
            "HTTP request sent, awaiting response... 302 Found\n",
            "Location: https://raw.githubusercontent.com/UCSD-AI4H/COVID-CT/master/Images-processed/CT_NonCOVID.zip [following]\n",
            "--2020-09-15 09:36:40--  https://raw.githubusercontent.com/UCSD-AI4H/COVID-CT/master/Images-processed/CT_NonCOVID.zip\n",
            "Resolving raw.githubusercontent.com (raw.githubusercontent.com)... 151.101.0.133, 151.101.64.133, 151.101.128.133, ...\n",
            "Connecting to raw.githubusercontent.com (raw.githubusercontent.com)|151.101.0.133|:443... connected.\n",
            "HTTP request sent, awaiting response... 200 OK\n",
            "Length: 42084013 (40M) [application/zip]\n",
            "Saving to: ‘CT_NonCOVID.zip’\n",
            "\n",
            "CT_NonCOVID.zip     100%[===================>]  40.13M  50.5MB/s    in 0.8s    \n",
            "\n",
            "2020-09-15 09:36:41 (50.5 MB/s) - ‘CT_NonCOVID.zip’ saved [42084013/42084013]\n",
            "\n"
          ],
          "name": "stdout"
        }
      ]
    },
    {
      "cell_type": "code",
      "metadata": {
        "id": "GS4D8m7iOhbe",
        "colab_type": "code",
        "colab": {}
      },
      "source": [
        "path = '/content/raw/extracted/CT_COVID.zip'\n",
        "f = ZipFile(path, 'r')\n",
        "f.extractall(ext_dir)\n",
        "\n",
        "path = '/content/raw/extracted/CT_NonCOVID.zip'\n",
        "f = ZipFile(path, 'r')\n",
        "f.extractall(ext_dir)"
      ],
      "execution_count": 67,
      "outputs": []
    },
    {
      "cell_type": "code",
      "metadata": {
        "id": "4EywfGJOOvwK",
        "colab_type": "code",
        "colab": {}
      },
      "source": [
        "shutil.rmtree('/content/raw/extracted/__MACOSX')"
      ],
      "execution_count": 68,
      "outputs": []
    },
    {
      "cell_type": "code",
      "metadata": {
        "id": "VwHfAZseOykJ",
        "colab_type": "code",
        "colab": {
          "base_uri": "https://localhost:8080/",
          "height": 117,
          "referenced_widgets": [
            "2528181adef94c18aa034350a192972b",
            "8e587f20a6cc4d47945d46f39f0a2907",
            "96306362bb534e70bcdfd1a87fb23121",
            "28615e1b545047aa9ab601d25fb444f6",
            "8a5080abe8e44b54839daa1a2a01e8aa",
            "9067b2f8bdf54ffaacadeac8a4ccc8eb",
            "8f727e33d3e04dc0a462681130b210ae",
            "a2ccb76cbae84be7b9ff1d7a2daf3313",
            "2bffedb0285f4edcb49742b447ba8338",
            "d9bcd644a71b419ba4c6b10fa283f172",
            "20a76a069d5f4a7892eda5249b56de80",
            "f4376d97ba054d5a9bf0b10067a25fa5",
            "439d40df6cea4a9b9f2bc6c502c4f7b7",
            "d84130fb2bd94226a4c4d0326d1d42e5",
            "f0c82514e91549eebb4f0fa0e8890321",
            "8d68161bd03b44e7b28e00608159799c"
          ]
        },
        "outputId": "66182cf3-d826-446b-a024-5dfb8f249d23"
      },
      "source": [
        "preprocess2('/content/raw/extracted/CT_COVID', validation_covid_dir)\n",
        "preprocess2('/content/raw/extracted/CT_NonCOVID', validation_normal_dir)"
      ],
      "execution_count": 69,
      "outputs": [
        {
          "output_type": "display_data",
          "data": {
            "application/vnd.jupyter.widget-view+json": {
              "model_id": "2528181adef94c18aa034350a192972b",
              "version_minor": 0,
              "version_major": 2
            },
            "text/plain": [
              "HBox(children=(FloatProgress(value=0.0, max=349.0), HTML(value='')))"
            ]
          },
          "metadata": {
            "tags": []
          }
        },
        {
          "output_type": "stream",
          "text": [
            "\n"
          ],
          "name": "stdout"
        },
        {
          "output_type": "display_data",
          "data": {
            "application/vnd.jupyter.widget-view+json": {
              "model_id": "2bffedb0285f4edcb49742b447ba8338",
              "version_minor": 0,
              "version_major": 2
            },
            "text/plain": [
              "HBox(children=(FloatProgress(value=0.0, max=397.0), HTML(value='')))"
            ]
          },
          "metadata": {
            "tags": []
          }
        },
        {
          "output_type": "stream",
          "text": [
            "\n"
          ],
          "name": "stdout"
        }
      ]
    },
    {
      "cell_type": "code",
      "metadata": {
        "id": "ORrpgVkvPuZ2",
        "colab_type": "code",
        "colab": {
          "base_uri": "https://localhost:8080/",
          "height": 305
        },
        "outputId": "1be2e3ba-084a-4c90-d90e-7fd28d241c1c"
      },
      "source": [
        "folder = join(testing_dir, random.choice(os.listdir(validation_dir)))\n",
        "print(folder)\n",
        "image = random.choice(os.listdir(folder))\n",
        "\n",
        "img_path = join(folder, image)\n",
        "img = imread(img_path)\n",
        "plt.imshow(img, cmap = 'gray')"
      ],
      "execution_count": 70,
      "outputs": [
        {
          "output_type": "stream",
          "text": [
            "/content/datasets/testing/normal\n"
          ],
          "name": "stdout"
        },
        {
          "output_type": "execute_result",
          "data": {
            "text/plain": [
              "<matplotlib.image.AxesImage at 0x7f9bf8e987f0>"
            ]
          },
          "metadata": {
            "tags": []
          },
          "execution_count": 70
        },
        {
          "output_type": "display_data",
          "data": {
            "image/png": "[encoded data removed]",
            "text/plain": [
              "<Figure size 432x288 with 1 Axes>"
            ]
          },
          "metadata": {
            "tags": [],
            "needs_background": "light"
          }
        }
      ]
    },
    {
      "cell_type": "code",
      "metadata": {
        "id": "rsE3vIYSQZLS",
        "colab_type": "code",
        "colab": {}
      },
      "source": [
        "os.chdir('/content')"
      ],
      "execution_count": 82,
      "outputs": []
    },
    {
      "cell_type": "code",
      "metadata": {
        "id": "3tqC7csWP4FR",
        "colab_type": "code",
        "colab": {
          "base_uri": "https://localhost:8080/",
          "height": 35
        },
        "outputId": "24fd2b25-fded-4336-843a-acbc8dc18891"
      },
      "source": [
        "shutil.make_archive(base_name= 'CLAHE_preprocessed_dataset', format = 'zip', root_dir= '/content', base_dir='datasets', verbose =2)"
      ],
      "execution_count": 83,
      "outputs": [
        {
          "output_type": "execute_result",
          "data": {
            "application/vnd.google.colaboratory.intrinsic+json": {
              "type": "string"
            },
            "text/plain": [
              "'/content/CLAHE_preprocessed_dataset.zip'"
            ]
          },
          "metadata": {
            "tags": []
          },
          "execution_count": 83
        }
      ]
    },
    {
      "cell_type": "code",
      "metadata": {
        "id": "2skzAKMoOa78",
        "colab_type": "code",
        "colab": {
          "base_uri": "https://localhost:8080/",
          "height": 35
        },
        "outputId": "355e7e94-0d7f-487e-a7b5-ffdf92fefdae"
      },
      "source": [
        "shutil.copy('/content/CLAHE_preprocessed_dataset.zip', '/content/drive/My Drive/External Datasets/COVID19-Project')"
      ],
      "execution_count": 85,
      "outputs": [
        {
          "output_type": "execute_result",
          "data": {
            "application/vnd.google.colaboratory.intrinsic+json": {
              "type": "string"
            },
            "text/plain": [
              "'/content/drive/My Drive/External Datasets/COVID19-Project/CLAHE_preprocessed_dataset.zip'"
            ]
          },
          "metadata": {
            "tags": []
          },
          "execution_count": 85
        }
      ]
    }
  ]
}